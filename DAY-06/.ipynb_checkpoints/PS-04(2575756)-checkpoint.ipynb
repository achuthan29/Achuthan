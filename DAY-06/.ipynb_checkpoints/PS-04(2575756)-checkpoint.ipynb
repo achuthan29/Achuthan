{
 "cells": [
  {
   "cell_type": "markdown",
   "id": "372fd706",
   "metadata": {},
   "source": [
    "# 4. You are developing an employee management system for a company. Ensure that the system utilizes encapsulation and polymorphism to handle different types of employees, such as full-time and part-time employees.\n",
    "\n",
    "1. Create a base class called \"Employee\" with private attributes for name, employee ID, and salary. Implement getter and setter methods for these attributes.\n",
    "\n",
    "2. Design two subclasses, \"Full TimeEmployee\" and \"PartTimeEmployee,\" that inherit from \"Employee.\" These subclasses should encapsulate specific properties like hours worked (for part-time employees) and annual salary (for full-time employees).\n",
    "\n",
    "3. Override the salary calculation method in both subclasses to account for different payment structures.\n",
    "\n",
    "4. Write a program that demonstrates polymorphism by creating instances of both \"FullTimeEmployee\" and \"PartTimeEmployee.\" Calculate their salaries and display employee information.\n"
   ]
  },
  {
   "cell_type": "code",
   "execution_count": 2,
   "id": "d51f16d3",
   "metadata": {},
   "outputs": [
    {
     "name": "stdout",
     "output_type": "stream",
     "text": [
      "Employee Name: Achuthan\n",
      "Employee ID: MPH23\n",
      "Monthly Salary: 5000.0\n",
      "\n",
      "Employee Name: john\n",
      "Employee ID: MPH21\n",
      "Monthly Salary: 2400\n",
      "\n"
     ]
    }
   ],
   "source": [
    "class Employee:\n",
    "    def __init__(self, name, employee_id, salary):\n",
    "        self.__name = name  \n",
    "        self.__employee_id = employee_id \n",
    "        self.__salary = salary  \n",
    "        \n",
    "    def get_name(self):\n",
    "        return self.__name\n",
    "\n",
    "    def get_employee_id(self):\n",
    "        return self.__employee_id\n",
    "\n",
    "    def get_salary(self):\n",
    "        return self.__salary\n",
    "\n",
    "    def set_name(self, name):\n",
    "        self.__name = name\n",
    "\n",
    "    def set_employee_id(self, employee_id):\n",
    "        self.__employee_id = employee_id\n",
    "\n",
    "    def set_salary(self, salary):\n",
    "        self.__salary = salary\n",
    "\n",
    "    def calculate_salary(self):\n",
    "        pass\n",
    "\n",
    "\n",
    "class FullTimeEmployee(Employee):\n",
    "    def __init__(self, name, employee_id, annual_salary):\n",
    "        super().__init__(name, employee_id, 0)  \n",
    "        self.__annual_salary = annual_salary  \n",
    "\n",
    "    def get_annual_salary(self):\n",
    "        return self.__annual_salary\n",
    "\n",
    "    def calculate_salary(self):\n",
    "        return self.__annual_salary / 12  \n",
    "\n",
    "\n",
    "class PartTimeEmployee(Employee):\n",
    "    def __init__(self, name, employee_id, hourly_rate, hours_worked):\n",
    "        super().__init__(name, employee_id, 0)  \n",
    "        self.__hourly_rate = hourly_rate  \n",
    "        self.__hours_worked = hours_worked  \n",
    "\n",
    "    def get_hourly_rate(self):\n",
    "        return self.__hourly_rate\n",
    "\n",
    "    def get_hours_worked(self):\n",
    "        return self.__hours_worked\n",
    "\n",
    "    def calculate_salary(self):\n",
    "        return self.__hourly_rate * self.__hours_worked\n",
    "\n",
    "\n",
    "full_time_employee = FullTimeEmployee(\"Achuthan\", \"MPH23\", 60000)\n",
    "part_time_employee = PartTimeEmployee(\"john\", \"MPH21\", 15, 160)\n",
    "\n",
    "employees = [full_time_employee, part_time_employee]\n",
    "\n",
    "for employee in employees:\n",
    "    print(\"Employee Name:\", employee.get_name())\n",
    "    print(\"Employee ID:\", employee.get_employee_id())\n",
    "    print(\"Monthly Salary:\", employee.calculate_salary())\n",
    "    print()\n"
   ]
  },
  {
   "cell_type": "code",
   "execution_count": null,
   "id": "34077e6c",
   "metadata": {},
   "outputs": [],
   "source": []
  }
 ],
 "metadata": {
  "kernelspec": {
   "display_name": "Python 3 (ipykernel)",
   "language": "python",
   "name": "python3"
  },
  "language_info": {
   "codemirror_mode": {
    "name": "ipython",
    "version": 3
   },
   "file_extension": ".py",
   "mimetype": "text/x-python",
   "name": "python",
   "nbconvert_exporter": "python",
   "pygments_lexer": "ipython3",
   "version": "3.11.4"
  }
 },
 "nbformat": 4,
 "nbformat_minor": 5
}
