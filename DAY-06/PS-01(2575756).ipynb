{
 "cells": [
  {
   "cell_type": "markdown",
   "id": "f3d18cbe",
   "metadata": {},
   "source": [
    "# 1. Write a python program to create a base class \"Shape\" with methods to calculate area and perimeter. Then, create derived classes \"Circle\" and \"Rectangle\" that inherit from the base class and calculate their respective areas and perimeters. Demonstrate their usage in a program.\n",
    "\n",
    "You are developing an online quiz application where users can take quizzes on various topics and receive scores.\n",
    "\n",
    "1. Create a class for quizzes and questions.\n",
    "\n",
    "2. Implement a scoring system that calculates the user's score on a quiz.\n",
    "\n",
    "3. How would you store and retrieve user progress, including quiz history and scores?\n"
   ]
  },
  {
   "cell_type": "code",
   "execution_count": 14,
   "id": "5a93cb5d",
   "metadata": {},
   "outputs": [
    {
     "name": "stdout",
     "output_type": "stream",
     "text": [
      "Circle Area: 78.53981633974483\n",
      "Circle Perimeter: 31.41592653589793\n",
      "Rectangle Area: 24\n",
      "Rectangle Perimeter: 20\n"
     ]
    }
   ],
   "source": [
    "import math\n",
    "class Shape:\n",
    "    def calculate_area(self):\n",
    "        pass\n",
    "    def calculate_perimeter(self):\n",
    "        pass\n",
    "class Circle(Shape):\n",
    "    def __init__(self, radius):\n",
    "        self.radius = radius\n",
    "    \n",
    "    def calculate_area(self):\n",
    "        return math.pi * self.radius ** 2\n",
    "    \n",
    "    def calculate_perimeter(self):\n",
    "        return 2 * math.pi * self.radius\n",
    "\n",
    "class Rectangle(Shape):\n",
    "    def __init__(self, length, width):\n",
    "        self.length = length\n",
    "        self.width = width\n",
    "    \n",
    "    def calculate_area(self):\n",
    "        return self.length * self.width\n",
    "    \n",
    "    def calculate_perimeter(self):\n",
    "        return 2 * (self.length + self.width)\n",
    "circle = Circle(5)\n",
    "print(\"Circle Area:\", circle.calculate_area())\n",
    "print(\"Circle Perimeter:\", circle.calculate_perimeter())\n",
    "rectangle = Rectangle(4, 6)\n",
    "print(\"Rectangle Area:\", rectangle.calculate_area())\n",
    "print(\"Rectangle Perimeter:\", rectangle.calculate_perimeter())\n"
   ]
  },
  {
   "cell_type": "code",
   "execution_count": 15,
   "id": "742bfae7",
   "metadata": {},
   "outputs": [
    {
     "name": "stdout",
     "output_type": "stream",
     "text": [
      "User's Score: 2\n"
     ]
    }
   ],
   "source": [
    "class Question:\n",
    "    def __init__(self, text, options, correct_option):\n",
    "        self.text = text\n",
    "        self.options = options\n",
    "        self.correct_option = correct_option\n",
    "\n",
    "class Quiz:\n",
    "    def __init__(self, name, questions):\n",
    "        self.name = name\n",
    "        self.questions = questions\n",
    "\n",
    "    def calculate_score(self, user_answers):\n",
    "        if len(user_answers) != len(self.questions):\n",
    "            return 0\n",
    "\n",
    "        score = 0\n",
    "        for i, user_answer in enumerate(user_answers):\n",
    "            if user_answer == self.questions[i].correct_option:\n",
    "                score += 1\n",
    "        return score\n",
    "question1 = Question(\"What is 2 + 2?\", [\"3\", \"4\", \"5\"], 1)\n",
    "question2 = Question(\"What is the capital of France?\", [\"Berlin\", \"Madrid\", \"Paris\"], 2)\n",
    "question3 = Question(\"What is the largest planet in our solar system?\", [\"Earth\", \"Mars\", \"Jupiter\"], 2)\n",
    "quiz = Quiz(\"General Knowledge Quiz\", [question1, question2, question3])\n",
    "user_answers = [1, 1, 2] \n",
    "score = quiz.calculate_score(user_answers)\n",
    "print(\"User's Score:\", score)\n"
   ]
  },
  {
   "cell_type": "code",
   "execution_count": null,
   "id": "4778c8f3",
   "metadata": {},
   "outputs": [],
   "source": []
  }
 ],
 "metadata": {
  "kernelspec": {
   "display_name": "Python 3 (ipykernel)",
   "language": "python",
   "name": "python3"
  },
  "language_info": {
   "codemirror_mode": {
    "name": "ipython",
    "version": 3
   },
   "file_extension": ".py",
   "mimetype": "text/x-python",
   "name": "python",
   "nbconvert_exporter": "python",
   "pygments_lexer": "ipython3",
   "version": "3.11.4"
  }
 },
 "nbformat": 4,
 "nbformat_minor": 5
}
