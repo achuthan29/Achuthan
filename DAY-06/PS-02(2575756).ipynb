{
 "cells": [
  {
   "cell_type": "markdown",
   "id": "192dda1c",
   "metadata": {},
   "source": [
    "# 2. Write a python script to create a class \"Person\" with private attributes for age and nume. Implement a method to calculate a person's eligibility for voting based on their age. Ensure that age cannot be accessed directly but only through a getter method."
   ]
  },
  {
   "cell_type": "code",
   "execution_count": 6,
   "id": "87434c83",
   "metadata": {},
   "outputs": [
    {
     "name": "stdout",
     "output_type": "stream",
     "text": [
      "Name: Achuthan\n",
      "Age: 17\n",
      "\n",
      "Is eligible to vote?False\n"
     ]
    }
   ],
   "source": [
    "class Person:\n",
    "    def __init__(self, name, age):\n",
    "        self.__name = name  \n",
    "        self.__age = age    \n",
    "    def get_age(self):\n",
    "        return self.__age\n",
    "    def is_eligible_to_vote(self):\n",
    "        if self.__age >= 18:\n",
    "            return True\n",
    "        else:\n",
    "            return False\n",
    "    def get_name(self):\n",
    "        return self.__name\n",
    "    \n",
    "person1 = Person(\"Achuthan\",17)\n",
    "print(f\"Name: {person1.get_name()}\")\n",
    "print(f\"Age: {person1.get_age()}\")\n",
    "print()\n",
    "print(f\"Is eligible to vote?{person1.is_eligible_to_vote()}\")\n"
   ]
  },
  {
   "cell_type": "code",
   "execution_count": null,
   "id": "a48df573",
   "metadata": {},
   "outputs": [],
   "source": []
  }
 ],
 "metadata": {
  "kernelspec": {
   "display_name": "Python 3 (ipykernel)",
   "language": "python",
   "name": "python3"
  },
  "language_info": {
   "codemirror_mode": {
    "name": "ipython",
    "version": 3
   },
   "file_extension": ".py",
   "mimetype": "text/x-python",
   "name": "python",
   "nbconvert_exporter": "python",
   "pygments_lexer": "ipython3",
   "version": "3.11.4"
  }
 },
 "nbformat": 4,
 "nbformat_minor": 5
}
