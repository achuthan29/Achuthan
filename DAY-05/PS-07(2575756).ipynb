{
 "cells": [
  {
   "cell_type": "markdown",
   "id": "14568098",
   "metadata": {},
   "source": [
    "# 4. You are developing an employee management system for a company. The database should store employee information, including name, salary, department, and hire date. Managers should be able to view and update employee details.\n",
    "\n",
    "1. Design the database schema for the employee management system. \n",
    "\n",
    "2. Write Python code to connect to the database and retrieve a list of employees in a specific department\n",
    "\n",
    "3. Implement a feature to update an employee's salary"
   ]
  },
  {
   "cell_type": "code",
   "execution_count": 1,
   "id": "58fd75bd",
   "metadata": {},
   "outputs": [
    {
     "name": "stdout",
     "output_type": "stream",
     "text": [
      "<mysql.connector.connection_cext.CMySQLConnection object at 0x00000258D9D22E50>\n"
     ]
    }
   ],
   "source": [
    "import mysql.connector\n",
    "db = mysql.connector.connect(\n",
    "    host=\"127.0.0.1\",\n",
    "    user=\"root\",\n",
    "    password=\"Achu@1821101\",\n",
    "    database=\"Employee_managament\")\n",
    "print(db) "
   ]
  },
  {
   "cell_type": "code",
   "execution_count": 2,
   "id": "3e791f4b",
   "metadata": {},
   "outputs": [],
   "source": [
    "cursor = db.cursor()"
   ]
  },
  {
   "cell_type": "code",
   "execution_count": 3,
   "id": "826c82bf",
   "metadata": {},
   "outputs": [
    {
     "data": {
      "text/plain": [
       "<mysql.connector.cursor_cext.CMySQLCursor at 0x258d9db8ad0>"
      ]
     },
     "execution_count": 3,
     "metadata": {},
     "output_type": "execute_result"
    }
   ],
   "source": [
    "cursor"
   ]
  },
  {
   "cell_type": "code",
   "execution_count": 7,
   "id": "27f3575d",
   "metadata": {},
   "outputs": [],
   "source": [
    "cursor.execute(\"CREATE TABLE Employees(Name VARCHAR(255) NOT NULL,Salary INT NOT NULL,Hire_Date DATE NOT NULL)\")"
   ]
  },
  {
   "cell_type": "code",
   "execution_count": 9,
   "id": "1d093c2e",
   "metadata": {},
   "outputs": [],
   "source": [
    "cursor.execute(\"alter table Employees add column department VARCHAR(55)\")"
   ]
  },
  {
   "cell_type": "code",
   "execution_count": 22,
   "id": "72a10b42",
   "metadata": {},
   "outputs": [],
   "source": [
    "cursor.execute('INSERT INTO Employees (Name,Salary,Hire_Date,Department) VALUES (\"Achu\",2500,\"2023-09-15\",\"HR\")')\n",
    "db.commit()"
   ]
  },
  {
   "cell_type": "code",
   "execution_count": 6,
   "id": "90fe33c8",
   "metadata": {},
   "outputs": [
    {
     "name": "stdout",
     "output_type": "stream",
     "text": [
      "Name: Achu, Salary: 2500, Hire Date: 2023-09-15\n"
     ]
    }
   ],
   "source": [
    "import mysql.connector\n",
    "try:\n",
    "    db_config = {\n",
    "        \"host\": \"localhost\",\n",
    "        \"user\": \"root\",\n",
    "        \"password\": \"Achu@1821101\",\n",
    "        \"database\": \"Employee_managament\"\n",
    "    }\n",
    "    conn = mysql.connector.connect(**db_config)\n",
    "    cursor = conn.cursor()\n",
    "    target_department = \"HR\"\n",
    "    query = \"SELECT name, salary, hire_date FROM Employees WHERE department = %s\"\n",
    "    cursor.execute(query, (target_department,))\n",
    "    employees = cursor.fetchall()\n",
    "    for employee in employees:\n",
    "        name, salary, hire_date = employee\n",
    "        print(f\"Name: {name}, Salary: {salary}, Hire Date: {hire_date}\")\n",
    "except mysql.connector.Error as err:\n",
    "    print(f\"Error: {err}\")\n",
    "except Exception as e:\n",
    "    print(f\"An error occurred: {e}\")\n"
   ]
  },
  {
   "cell_type": "code",
   "execution_count": 7,
   "id": "0f167c30",
   "metadata": {},
   "outputs": [
    {
     "name": "stdout",
     "output_type": "stream",
     "text": [
      "John Doe's salary updated to 60000.00\n"
     ]
    }
   ],
   "source": [
    "employee_name = \"John Doe\"\n",
    "new_salary = 60000.00\n",
    "update_query = \"UPDATE Employees SET salary = %s WHERE name = %s\"\n",
    "cursor.execute(update_query, (new_salary, employee_name))\n",
    "db.commit()\n",
    "print(f\"{employee_name}'s salary updated to {new_salary:.2f}\")"
   ]
  }
 ],
 "metadata": {
  "kernelspec": {
   "display_name": "Python 3 (ipykernel)",
   "language": "python",
   "name": "python3"
  },
  "language_info": {
   "codemirror_mode": {
    "name": "ipython",
    "version": 3
   },
   "file_extension": ".py",
   "mimetype": "text/x-python",
   "name": "python",
   "nbconvert_exporter": "python",
   "pygments_lexer": "ipython3",
   "version": "3.11.4"
  }
 },
 "nbformat": 4,
 "nbformat_minor": 5
}
