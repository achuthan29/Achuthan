{
 "cells": [
  {
   "cell_type": "markdown",
   "id": "9f06efba",
   "metadata": {},
   "source": [
    "# 1. Implement Inventory Management in Python with MySQL\n",
    "\n",
    "a) Inventory management, a critical element of the supply chain, is the tracking of inventory from manufacturers to warehouses and from these facilities to a point of sale. The goal of inventory management is to have the right products in the right place at the right time.\n",
    "\n",
    "b) The required Database is Inventory, and the required Tables are Purchases, Sales and Inventory\n",
    "\n",
    "c) Note: Apply your thoughts to demonstrate the DB Operation in Python.\n"
   ]
  },
  {
   "cell_type": "code",
   "execution_count": 17,
   "id": "32f15bf8",
   "metadata": {},
   "outputs": [
    {
     "name": "stdout",
     "output_type": "stream",
     "text": [
      "<mysql.connector.connection_cext.CMySQLConnection object at 0x000001CF006C1510>\n"
     ]
    }
   ],
   "source": [
    "import mysql.connector\n",
    "conn = mysql.connector.connect(\n",
    "    host=\"127.0.0.1\",\n",
    "    user=\"root\",\n",
    "    password=\"Achu@1821101\",\n",
    "    database=\"Inventory_management\")\n",
    "print(conn)"
   ]
  },
  {
   "cell_type": "code",
   "execution_count": 18,
   "id": "4c278ac2",
   "metadata": {},
   "outputs": [],
   "source": [
    "cursor = conn.cursor()"
   ]
  },
  {
   "cell_type": "code",
   "execution_count": 19,
   "id": "11562050",
   "metadata": {},
   "outputs": [
    {
     "data": {
      "text/plain": [
       "<mysql.connector.cursor_cext.CMySQLCursor at 0x1cf7f4d6290>"
      ]
     },
     "execution_count": 19,
     "metadata": {},
     "output_type": "execute_result"
    }
   ],
   "source": [
    "cursor"
   ]
  },
  {
   "cell_type": "code",
   "execution_count": 11,
   "id": "5bde8493",
   "metadata": {},
   "outputs": [],
   "source": [
    "cursor.execute(\"CREATE TABLE Purchases (id INT AUTO_INCREMENT PRIMARY KEY,product_name VARCHAR(255) NOT NULL,quantity INT NOT NULL)\")\n",
    "cursor.execute(\"CREATE TABLE Sales (id INT AUTO_INCREMENT PRIMARY KEY,product_name VARCHAR(255) NOT NULL,quantity INT NOT NULL)\")\n",
    "cursor.execute(\"CREATE TABLE Inventory (id INT AUTO_INCREMENT PRIMARY KEY,product_name VARCHAR(255) NOT NULL,quantity INT NOT NULL)\")"
   ]
  },
  {
   "cell_type": "code",
   "execution_count": 12,
   "id": "96de8a78",
   "metadata": {},
   "outputs": [],
   "source": [
    "cursor.execute(\"alter table purchases add column products_date Date NOT NULL\")"
   ]
  },
  {
   "cell_type": "code",
   "execution_count": 22,
   "id": "5c72feca",
   "metadata": {},
   "outputs": [],
   "source": [
    "cursor.execute(\"alter table Sales add column sale_date Date NOT NULL\")"
   ]
  },
  {
   "cell_type": "code",
   "execution_count": 24,
   "id": "ddb25a8c",
   "metadata": {},
   "outputs": [],
   "source": [
    "insert_purchase_query = \"INSERT INTO Purchases (id,product_name, quantity, products_date) VALUES (%s,%s, %s, %s)\"\n",
    "insert_purchase_query = \"INSERT INTO Sales (id,product_name, quantity, sale_date) VALUES (%s,%s, %s, %s)\"\n",
    "purchase_data = [(1,\"Product A\", 100, \"2023-09-15\"),(2,\"Product B\", 100, \"2023-09-15\")]\n",
    "sales_data = [(1,\"Product A\", 100, \"2023-09-15\"),(2,\"Product B\", 100, \"2023-09-15\")]\n",
    "cursor.executemany(insert_purchase_query, purchase_data)\n",
    "conn.commit()"
   ]
  },
  {
   "cell_type": "code",
   "execution_count": 14,
   "id": "0e66d3e0",
   "metadata": {},
   "outputs": [
    {
     "name": "stdout",
     "output_type": "stream",
     "text": [
      "(1, 'Product A', 100, datetime.date(2023, 9, 15))\n",
      "(2, 'Product B', 100, datetime.date(2023, 9, 15))\n"
     ]
    }
   ],
   "source": [
    "select_sample_query = \"SELECT * FROM Purchases\"\n",
    "cursor.execute(select_sample_query)\n",
    "sample_data = cursor.fetchall()\n",
    "for row in sample_data:\n",
    "    print(row)\n",
    "\n",
    "cursor.close()\n",
    "conn.close()\n"
   ]
  },
  {
   "cell_type": "code",
   "execution_count": null,
   "id": "81ad22ab",
   "metadata": {},
   "outputs": [],
   "source": []
  }
 ],
 "metadata": {
  "kernelspec": {
   "display_name": "Python 3 (ipykernel)",
   "language": "python",
   "name": "python3"
  },
  "language_info": {
   "codemirror_mode": {
    "name": "ipython",
    "version": 3
   },
   "file_extension": ".py",
   "mimetype": "text/x-python",
   "name": "python",
   "nbconvert_exporter": "python",
   "pygments_lexer": "ipython3",
   "version": "3.11.4"
  }
 },
 "nbformat": 4,
 "nbformat_minor": 5
}
