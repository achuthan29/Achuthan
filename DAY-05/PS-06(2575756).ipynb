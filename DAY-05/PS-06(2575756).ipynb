{
 "cells": [
  {
   "cell_type": "markdown",
   "id": "f979ab09",
   "metadata": {},
   "source": [
    "# 3. You are tasked with developing a Python program that connects to a MySQL database, retrieves data from a table, performs some operations on the data, and updates the database with the modified data. Please write Python code to accomplish this task.\n",
    "\n",
    "Instructions:\n",
    "\n",
    "1. Assume that you have a MySQL database server running with the following details:\n",
    "\n",
    "i) Host: localhost\n",
    "\n",
    "ii) Port: 3306\n",
    "\n",
    "iii) Username: your username\n",
    "\n",
    "iv) Password: your password\n",
    "\n",
    "v) Database Name: your database.\n",
    "\n",
    "vi) Table Name your table\n",
    "\n",
    "vii) The table has the following columns: id (int), name (varchar),quantity (int)\n",
    "\n",
    "2. Your Python program should\n",
    "\n",
    "i) Connect to the MySQL database.\n",
    "\n",
    "ii) Retrieve all records from the your table table.\n",
    "\n",
    "iii) Calculate the total quantity of all records retrieved.\n",
    "\n",
    "iv) Update the quantity column of each record by doubling its value.\n",
    "\n",
    "v) Commit the changes to the database v Close the database connection.\n",
    "\n",
    "3. Handle any potential errors that may occur during the database connection and data manipulation, such as connection failures or SQL errors\n",
    "\n",
    "4. Provide comments in your code to explain each step.\n",
    "\n"
   ]
  },
  {
   "cell_type": "code",
   "execution_count": 1,
   "id": "3e5da0ca",
   "metadata": {},
   "outputs": [
    {
     "name": "stdout",
     "output_type": "stream",
     "text": [
      "<mysql.connector.connection_cext.CMySQLConnection object at 0x000001C541843CD0>\n"
     ]
    }
   ],
   "source": [
    "import mysql.connector\n",
    "db = mysql.connector.connect(\n",
    "    host=\"127.0.0.1\",\n",
    "    user=\"root\",\n",
    "    password=\"Achu@1821101\",\n",
    "    database=\"Customer_Order\")\n",
    "print(db) "
   ]
  },
  {
   "cell_type": "code",
   "execution_count": 2,
   "id": "1d286db8",
   "metadata": {},
   "outputs": [],
   "source": [
    "cursor = db.cursor()"
   ]
  },
  {
   "cell_type": "code",
   "execution_count": 3,
   "id": "6aae4ee3",
   "metadata": {},
   "outputs": [
    {
     "data": {
      "text/plain": [
       "<mysql.connector.cursor_cext.CMySQLCursor at 0x1c541898b90>"
      ]
     },
     "execution_count": 3,
     "metadata": {},
     "output_type": "execute_result"
    }
   ],
   "source": [
    "cursor"
   ]
  },
  {
   "cell_type": "code",
   "execution_count": 6,
   "id": "b9ba416a",
   "metadata": {},
   "outputs": [],
   "source": [
    "cursor.execute('INSERT INTO products (product_id,product_name,price,quantity,quantity_available) VALUES (3,\"sum\",1800,15,20)')\n",
    "db.commit()"
   ]
  },
  {
   "cell_type": "code",
   "execution_count": 7,
   "id": "23de75f3",
   "metadata": {},
   "outputs": [
    {
     "name": "stdout",
     "output_type": "stream",
     "text": [
      "Database update completed successfully.\n",
      "Total quantity before update: 50\n",
      "Total quantity after update: 100\n"
     ]
    }
   ],
   "source": [
    "import mysql.connector\n",
    "\n",
    "try:\n",
    "    # Database connection parameters\n",
    "    db_config = {\n",
    "        \"host\":\"127.0.0.1\",\n",
    "        \"port\":3306,\n",
    "        \"user\": \"root\",\n",
    "        \"password\": \"Achu@1821101\",\n",
    "        \"database\": \"Customer_Order\" }\n",
    "    conn = mysql.connector.connect(**db_config)\n",
    "    cursor = conn.cursor()\n",
    "    cursor.execute(\"SELECT * FROM Products\")\n",
    "    records = cursor.fetchall()\n",
    "    total_quantity = sum(record[4] for record in records)\n",
    "    update_query = \"UPDATE Products SET quantity = quantity * 2\"\n",
    "    cursor.execute(update_query)\n",
    "\n",
    "    # Commit the changes to the database\n",
    "    conn.commit()\n",
    "\n",
    "    # Close the cursor and connection\n",
    "    cursor.close()\n",
    "    conn.close()\n",
    "\n",
    "    print(\"Database update completed successfully.\")\n",
    "    print(f\"Total quantity before update: {total_quantity}\")\n",
    "    print(f\"Total quantity after update: {total_quantity * 2}\")\n",
    "\n",
    "except mysql.connector.Error as err:\n",
    "    print(f\"Error: {err}\")\n",
    "except Exception as e:\n",
    "    print(f\"An error occurred: {e}\")\n"
   ]
  },
  {
   "cell_type": "code",
   "execution_count": null,
   "id": "b8b735e6",
   "metadata": {},
   "outputs": [],
   "source": []
  }
 ],
 "metadata": {
  "kernelspec": {
   "display_name": "Python 3 (ipykernel)",
   "language": "python",
   "name": "python3"
  },
  "language_info": {
   "codemirror_mode": {
    "name": "ipython",
    "version": 3
   },
   "file_extension": ".py",
   "mimetype": "text/x-python",
   "name": "python",
   "nbconvert_exporter": "python",
   "pygments_lexer": "ipython3",
   "version": "3.11.4"
  }
 },
 "nbformat": 4,
 "nbformat_minor": 5
}
