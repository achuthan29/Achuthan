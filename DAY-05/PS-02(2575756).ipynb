{
 "cells": [
  {
   "cell_type": "markdown",
   "id": "765285ec",
   "metadata": {},
   "source": [
    "# 2. Virtual Environment Management.\n",
    "\n",
    "Scenario: You are working on multiple Python projects with different dependencies and\n",
    "\n",
    "versions. To avoid conflicts and ensure project isolation, you decide to use virtual environments\n",
    "\n",
    "Create a Python program that demonstrates the following:\n",
    "\n",
    "1. Create a virtual environment for a specific project.\n",
    "\n",
    "2. Activate and deactivate virtual environments. \n",
    "\n",
    "3. Install, upgrade, and uninstall packages within a virtual environment\n",
    "\n",
    "4. List the installed packages in a virtual environment\n",
    "\n",
    "5. Implement error handling for virtual environment operations "
   ]
  },
  {
   "cell_type": "code",
   "execution_count": 2,
   "id": "84647b37",
   "metadata": {},
   "outputs": [
    {
     "name": "stdout",
     "output_type": "stream",
     "text": [
      "Virtual environment 'my_virtual_env' created successfully.\n",
      "Activated virtual environment 'my_virtual_env'.\n",
      "Installed 'requests' in the current virtual environment.\n",
      "Deactivated the current virtual environment.\n"
     ]
    }
   ],
   "source": [
    "import os\n",
    "import subprocess\n",
    "\n",
    "# Function to create a virtual environment\n",
    "def create_virtual_environment(venv_name):\n",
    "    try:\n",
    "        subprocess.run([\"python\", \"-m\", \"venv\", venv_name], check=True)\n",
    "        print(f\"Virtual environment '{venv_name}' created successfully.\")\n",
    "    except subprocess.CalledProcessError as e:\n",
    "        print(f\"Error creating virtual environment: {e}\")\n",
    "\n",
    "# Function to activate a virtual environment\n",
    "def activate_virtual_environment(venv_name):\n",
    "    try:\n",
    "        activate_script = os.path.join(venv_name, \"Scripts\" if os.name == \"nt\" else \"bin\", \"activate\")\n",
    "        subprocess.run([activate_script], shell=True, check=True)\n",
    "        print(f\"Activated virtual environment '{venv_name}'.\")\n",
    "    except subprocess.CalledProcessError as e:\n",
    "        print(f\"Error activating virtual environment: {e}\")\n",
    "def deactivate_virtual_environment():\n",
    "    try:\n",
    "        subprocess.run([\"deactivate\"], shell=True, check=True)\n",
    "        print(\"Deactivated the current virtual environment.\")\n",
    "    except subprocess.CalledProcessError as e:\n",
    "        print(f\"Error deactivating virtual environment: {e}\")\n",
    "def install_package(package_name):\n",
    "    try:\n",
    "        subprocess.run([\"pip\", \"install\", package_name], check=True)\n",
    "        print(f\"Installed '{package_name}' in the current virtual environment.\")\n",
    "    except subprocess.CalledProcessError as e:\n",
    "        print(f\"Error installing package: {e}\")\n",
    "def list_installed_packages():\n",
    "    try:\n",
    "        subprocess.run([\"pip\", \"list\"], check=True)\n",
    "    except subprocess.CalledProcessError as e:\n",
    "        print(f\"Error listing installed packages: {e}\")\n",
    "\n",
    "if __name__ == \"__main__\":\n",
    "    venv_name = \"my_virtual_env\"  \n",
    "    create_virtual_environment(venv_name)\n",
    "    activate_virtual_environment(venv_name)\n",
    "    install_package(\"requests\")\n",
    "    list_installed_packages()\n",
    "    deactivate_virtual_environment()\n"
   ]
  },
  {
   "cell_type": "code",
   "execution_count": null,
   "id": "c28ebe80",
   "metadata": {},
   "outputs": [],
   "source": []
  }
 ],
 "metadata": {
  "kernelspec": {
   "display_name": "Python 3 (ipykernel)",
   "language": "python",
   "name": "python3"
  },
  "language_info": {
   "codemirror_mode": {
    "name": "ipython",
    "version": 3
   },
   "file_extension": ".py",
   "mimetype": "text/x-python",
   "name": "python",
   "nbconvert_exporter": "python",
   "pygments_lexer": "ipython3",
   "version": "3.11.4"
  }
 },
 "nbformat": 4,
 "nbformat_minor": 5
}
