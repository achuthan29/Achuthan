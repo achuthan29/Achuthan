{
 "cells": [
  {
   "cell_type": "markdown",
   "id": "9ba6fb93",
   "metadata": {},
   "source": [
    "# 3. Module Dependency Resolution.\n",
    "\n",
    "Scenario: You are developing a Python application that relies on third-party packages. Managing\n",
    "\n",
    "dependencies and ensuring compatibility is crucial for your project's success. Design a Python program that demonstrates the following:\n",
    "\n",
    "1. Use a requirements txt file to specify project dependencies.\n",
    "\n",
    "2. Automatically install all project dependencies from the requirements.txt file. \n",
    "\n",
    "3. Ensure that the versions of installed packages are compatible\n",
    "\n",
    "4. implement error handling for dependency resolution and installation"
   ]
  },
  {
   "cell_type": "code",
   "execution_count": 4,
   "id": "c9d06612",
   "metadata": {},
   "outputs": [
    {
     "name": "stdout",
     "output_type": "stream",
     "text": [
      "Dependencies installed successfully.\n"
     ]
    }
   ],
   "source": [
    "import subprocess\n",
    "def install_dependencies(requirements_file):\n",
    "    try:\n",
    "        subprocess.run([\"pip\", \"install\", \"-r\", requirements_file], check=True)\n",
    "        print(\"Dependencies installed successfully.\")\n",
    "    except subprocess.CalledProcessError as e:\n",
    "        print(f\"Error installing dependencies: {e}\")\n",
    "\n",
    "if __name__ == \"__main__\":\n",
    "    requirements_file = \"requirements.txt\"  # Replace with the path to your requirements.txt file\n",
    "    install_dependencies(requirements_file)\n"
   ]
  },
  {
   "cell_type": "code",
   "execution_count": null,
   "id": "371c5dbf",
   "metadata": {},
   "outputs": [],
   "source": []
  }
 ],
 "metadata": {
  "kernelspec": {
   "display_name": "Python 3 (ipykernel)",
   "language": "python",
   "name": "python3"
  },
  "language_info": {
   "codemirror_mode": {
    "name": "ipython",
    "version": 3
   },
   "file_extension": ".py",
   "mimetype": "text/x-python",
   "name": "python",
   "nbconvert_exporter": "python",
   "pygments_lexer": "ipython3",
   "version": "3.11.4"
  }
 },
 "nbformat": 4,
 "nbformat_minor": 5
}
