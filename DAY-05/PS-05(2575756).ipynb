{
 "cells": [
  {
   "cell_type": "markdown",
   "id": "2e5ba85f",
   "metadata": {},
   "source": [
    "# 2. Customer Order Processing\n",
    "\n",
    "Scenario: You are building a customer order processing system for an e-commerce company. The system needs to interact with a MySQL database to store customer orders, products, and order details\n",
    "\n",
    "1. Design a MySQL database schema for the order processing system, including tables for customers, products, and orders\n",
    "\n",
    "2. Write a Python program that connects to the database and allows customers to place new orders\n",
    "\n",
    "3. Implement a feature that calculates the total cost of an order and updates product quantities in the database\n",
    "\n",
    "4. How would you handle cases where a product is no longer available when a customer places an order?\n",
    "\n",
    "5. Develop a function to generate order reports for the company's finance department"
   ]
  },
  {
   "cell_type": "code",
   "execution_count": 7,
   "id": "1d830b58",
   "metadata": {},
   "outputs": [
    {
     "name": "stdout",
     "output_type": "stream",
     "text": [
      "<mysql.connector.connection_cext.CMySQLConnection object at 0x000001F5829C9390>\n"
     ]
    }
   ],
   "source": [
    "import mysql.connector\n",
    "db = mysql.connector.connect(\n",
    "    host=\"127.0.0.1\",\n",
    "    user=\"root\",\n",
    "    password=\"Achu@1821101\",\n",
    "    database=\"Customer_Order\")\n",
    "print(db)"
   ]
  },
  {
   "cell_type": "code",
   "execution_count": 8,
   "id": "e5d63c99",
   "metadata": {},
   "outputs": [],
   "source": [
    "cursor = db.cursor()"
   ]
  },
  {
   "cell_type": "code",
   "execution_count": 9,
   "id": "4e1adb73",
   "metadata": {},
   "outputs": [
    {
     "data": {
      "text/plain": [
       "<mysql.connector.cursor_cext.CMySQLCursor at 0x1f5829c90d0>"
      ]
     },
     "execution_count": 9,
     "metadata": {},
     "output_type": "execute_result"
    }
   ],
   "source": [
    "cursor"
   ]
  },
  {
   "cell_type": "code",
   "execution_count": null,
   "id": "71ae2e24",
   "metadata": {},
   "outputs": [],
   "source": [
    "cursor.execute(\"CREATE TABLE Customers(customer_id INT AUTO_INCREMENT PRIMARY KEY,first_name VARCHAR(255) NOT NULL,last_name VARCHAR(255) NOT NULL,email VARCHAR(255) NOT NULL)\")\n",
    "cursor.execute(\"CREATE TABLE Products(product_id INT AUTO_INCREMENT PRIMARY KEY,product_name VARCHAR(255) NOT NULL,price DECIMAL(10, 2) NOT NULL,quantity INT NOT NULL)\")\n",
    "cursor.execute(\"CREATE TABLE Orders(order_id INT AUTO_INCREMENT PRIMARY KEY,customer_id INT NOT NULL,order_date DATE NOT NULL,FOREIGN KEY (customer_id) REFERENCES Customers(customer_id))\")"
   ]
  },
  {
   "cell_type": "code",
   "execution_count": 10,
   "id": "d61ee8d3",
   "metadata": {},
   "outputs": [],
   "source": [
    "cursor.execute(\"alter table Orders add column total_cost INT NOT NULL \")"
   ]
  },
  {
   "cell_type": "code",
   "execution_count": null,
   "id": "7c836237",
   "metadata": {},
   "outputs": [],
   "source": [
    "cursor.execute(\"alter table Products add column quantity_available INT NOT NULL \")"
   ]
  },
  {
   "cell_type": "code",
   "execution_count": 4,
   "id": "ed9ec426",
   "metadata": {},
   "outputs": [
    {
     "name": "stdout",
     "output_type": "stream",
     "text": [
      "Product not available in the desired quantity.\n"
     ]
    }
   ],
   "source": [
    "def place_order(customer_id, product_id, quantity):\n",
    "    # Check if the product is available\n",
    "    cursor.execute(\"SELECT quantity_available FROM Products WHERE product_id = %s\", (product_id,))\n",
    "    available_quantity = 1\n",
    "\n",
    "    if available_quantity < quantity:\n",
    "        print(\"Product not available in the desired quantity.\")\n",
    "        return\n",
    "\n",
    "    # Calculate the total cost\n",
    "    cursor.execute(\"SELECT price FROM Products WHERE product_id = %s\", (product_id,))\n",
    "    unit_price = cursor.fetchone()[0]\n",
    "    total_cost = unit_price * quantity\n",
    "    cursor.execute(\"INSERT INTO Orders (customer_id, total_cost) VALUES (%s, %s)\", (customer_id, total_cost))\n",
    "    order_id = cursor.lastrowid\n",
    "    cursor.execute(\"INSERT INTO OrderDetails (order_id, product_id, quantity, unit_price) VALUES (%s, %s, %s, %s)\",(order_id, product_id, quantity, unit_price))\n",
    "    new_quantity = available_quantity - quantity\n",
    "    cursor.execute(\"UPDATE Products SET quantity_available = %s WHERE product_id = %s\", (new_quantity, product_id))\n",
    "    db.commit()\n",
    "    print(\"Order placed successfully.\")\n",
    "place_order(1, 101, 3)  \n"
   ]
  },
  {
   "cell_type": "code",
   "execution_count": 12,
   "id": "fea5e182",
   "metadata": {},
   "outputs": [
    {
     "name": "stdout",
     "output_type": "stream",
     "text": [
      "No orders found for the specified date range.\n"
     ]
    }
   ],
   "source": [
    "def generate_order_report(start_date, end_date):\n",
    "    cursor.execute(\"SELECT Customers.first_name, Customers.last_name, Orders.order_date, Orders.total_cost \"\n",
    "                   \"FROM Customers \"\n",
    "                   \"JOIN Orders ON Customers.customer_id = Orders.customer_id \"\n",
    "                   \"WHERE Orders.order_date BETWEEN %s AND %s\", (start_date, end_date))\n",
    "    \n",
    "    orders = cursor.fetchall()\n",
    "\n",
    "    if not orders:\n",
    "        print(\"No orders found for the specified date range.\")\n",
    "        return\n",
    "\n",
    "    print(\"Order Report:\")\n",
    "    print(\"Customer Name\\tOrder Date\\tTotal Cost\")\n",
    "    for order in orders:\n",
    "        print(f\"{order[0]} {order[1]}\\t{order[2]}\\t${order[3]:.2f}\")\n",
    "generate_order_report(\"2023-01-01\", \"2023-12-31\")"
   ]
  },
  {
   "cell_type": "code",
   "execution_count": null,
   "id": "fefabd10",
   "metadata": {},
   "outputs": [],
   "source": []
  }
 ],
 "metadata": {
  "kernelspec": {
   "display_name": "Python 3 (ipykernel)",
   "language": "python",
   "name": "python3"
  },
  "language_info": {
   "codemirror_mode": {
    "name": "ipython",
    "version": 3
   },
   "file_extension": ".py",
   "mimetype": "text/x-python",
   "name": "python",
   "nbconvert_exporter": "python",
   "pygments_lexer": "ipython3",
   "version": "3.11.4"
  }
 },
 "nbformat": 4,
 "nbformat_minor": 5
}
