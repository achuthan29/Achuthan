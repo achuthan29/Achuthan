{
 "cells": [
  {
   "cell_type": "markdown",
   "id": "6e7a5fca",
   "metadata": {},
   "source": [
    "# 1. Module Import and Management\n",
    "\n",
    "Scenario: You are developing a complex Python project with multiple modules. To manage the project effectively, you need to import and use various modules. Additionally, you want to organize your code using namespaces and avoid naming conflicts.\n",
    "\n",
    "Design a Python program that demonstrates the following:\n",
    "\n",
    "1. Import multiple modules within your project.\n",
    "\n",
    "2. Use the import statement to access functions, classes, and variables from imported modules.\n",
    "\n",
    "3. Create your custom module and use it in your main program.\n",
    "\n",
    "4. Handle naming conflicts and ensure proper namespacing.\n",
    "\n",
    "5. Implement error handling for missing modules or incorrect module usage."
   ]
  },
  {
   "cell_type": "code",
   "execution_count": 4,
   "id": "46ea41a7",
   "metadata": {},
   "outputs": [],
   "source": [
    "def add(x, y):\n",
    "    return x + y\n",
    "def subtract(x, y):\n",
    "    return x - y"
   ]
  },
  {
   "cell_type": "code",
   "execution_count": 5,
   "id": "8287ca20",
   "metadata": {},
   "outputs": [],
   "source": [
    "def custom_function():\n",
    "    return \"This is a custom function from custom_module.py\""
   ]
  },
  {
   "cell_type": "code",
   "execution_count": 6,
   "id": "465a6978",
   "metadata": {},
   "outputs": [
    {
     "name": "stdout",
     "output_type": "stream",
     "text": [
      "Error: No module named 'math_operations' module not found.\n"
     ]
    }
   ],
   "source": [
    "try:\n",
    "    import math_operations\n",
    "    import custom_module\n",
    "    result_add = math_operations.add(5, 3)\n",
    "    result_subtract = math_operations.subtract(10, 2)\n",
    "    print(f\"Addition result: {result_add}\")\n",
    "    print(f\"Subtraction result: {result_subtract}\")\n",
    "    custom_result = custom_module.custom_function()\n",
    "    print(f\"Custom module result: {custom_result}\")\n",
    "    \n",
    "except ImportError as e:\n",
    "    print(f\"Error: {e} module not found.\")\n",
    "except AttributeError as e:\n",
    "    print(f\"Error: {e}\")\n",
    "except Exception as e:\n",
    "    print(f\"An error occurred: {e}\")\n"
   ]
  },
  {
   "cell_type": "code",
   "execution_count": null,
   "id": "a0366108",
   "metadata": {},
   "outputs": [],
   "source": []
  }
 ],
 "metadata": {
  "kernelspec": {
   "display_name": "Python 3 (ipykernel)",
   "language": "python",
   "name": "python3"
  },
  "language_info": {
   "codemirror_mode": {
    "name": "ipython",
    "version": 3
   },
   "file_extension": ".py",
   "mimetype": "text/x-python",
   "name": "python",
   "nbconvert_exporter": "python",
   "pygments_lexer": "ipython3",
   "version": "3.11.4"
  }
 },
 "nbformat": 4,
 "nbformat_minor": 5
}
