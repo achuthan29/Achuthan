{
 "cells": [
  {
   "cell_type": "markdown",
   "id": "fd77a9ae",
   "metadata": {},
   "source": [
    "# 2. Print all numbers present in the text file and print the number of blank spaces in that file."
   ]
  },
  {
   "cell_type": "code",
   "execution_count": 1,
   "id": "c68594ed",
   "metadata": {},
   "outputs": [
    {
     "name": "stdout",
     "output_type": "stream",
     "text": [
      "The digits in the text file are :  8\n",
      "The spaces in the text file are :  43\n"
     ]
    }
   ],
   "source": [
    "def num():\n",
    "    file=open('one.txt','r')\n",
    "    count1=0\n",
    "    count2=0\n",
    "    count=file.read()\n",
    "    for i in count:\n",
    "        if i.isdigit():\n",
    "            count1=count1+1\n",
    "        if i[0]== \" \":\n",
    "            count2=count2+1\n",
    "    print(\"The digits in the text file are : \",count1)\n",
    "    print(\"The spaces in the text file are : \",count2)\n",
    "    file.close()\n",
    "\n",
    "num()"
   ]
  },
  {
   "cell_type": "code",
   "execution_count": null,
   "id": "403dba88",
   "metadata": {},
   "outputs": [],
   "source": []
  }
 ],
 "metadata": {
  "kernelspec": {
   "display_name": "Python 3 (ipykernel)",
   "language": "python",
   "name": "python3"
  },
  "language_info": {
   "codemirror_mode": {
    "name": "ipython",
    "version": 3
   },
   "file_extension": ".py",
   "mimetype": "text/x-python",
   "name": "python",
   "nbconvert_exporter": "python",
   "pygments_lexer": "ipython3",
   "version": "3.11.4"
  }
 },
 "nbformat": 4,
 "nbformat_minor": 5
}
