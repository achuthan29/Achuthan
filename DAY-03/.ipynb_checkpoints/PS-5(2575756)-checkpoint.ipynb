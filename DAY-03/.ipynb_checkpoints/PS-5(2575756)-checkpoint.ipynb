{
 "cells": [
  {
   "cell_type": "markdown",
   "id": "9cf6c988",
   "metadata": {},
   "source": [
    "# 5. Text File Search and Replace: You have a text file with a large amount of text, and you want to search for specific words or phrases and replace them with new content.\n",
    "\n",
    "\n"
   ]
  },
  {
   "cell_type": "markdown",
   "id": "72e4e20e",
   "metadata": {},
   "source": [
    "# a. Write Python code to search for and replace text within a text file."
   ]
  },
  {
   "cell_type": "code",
   "execution_count": 14,
   "id": "baf53ca1",
   "metadata": {},
   "outputs": [],
   "source": [
    "file=open(\"one.txt\",'r')"
   ]
  },
  {
   "cell_type": "code",
   "execution_count": 15,
   "id": "51619440",
   "metadata": {},
   "outputs": [
    {
     "data": {
      "text/plain": [
       "'Python was conceived in the late 1980s[43] by Guido van Rossum at Centrum Wiskunde & Informatica (CWI) in the Netherlands as a successor to the ABC programming language, which was inspired by SETL,[44] capable of exception handling and interfacing with the Amoeba operating system.'"
      ]
     },
     "execution_count": 15,
     "metadata": {},
     "output_type": "execute_result"
    }
   ],
   "source": [
    "file.read()"
   ]
  },
  {
   "cell_type": "code",
   "execution_count": 6,
   "id": "1f21f0c5",
   "metadata": {},
   "outputs": [
    {
     "name": "stdout",
     "output_type": "stream",
     "text": [
      "Text 'Guido van Rossum' replaced with 'Achuthan' successfully.\n"
     ]
    }
   ],
   "source": [
    "def search_and_replace(input_file, output_file, search_text, replace_text):\n",
    "    try:\n",
    "        with open(input_file, 'r') as infile, open(output_file, 'w') as outfile:\n",
    "            for line in infile:\n",
    "                modified_line = line.replace(search_text, replace_text)\n",
    "                outfile.write(modified_line)\n",
    "    \n",
    "    except FileNotFoundError:\n",
    "        print(f\"Error: Input file '{input_file}' not found.\")\n",
    "    except Exception as e:\n",
    "        print(f\"An error occurred: {e}\")\n",
    "    else:\n",
    "        print(f\"Text '{search_text}' replaced with '{replace_text}' successfully.\")\n",
    "\n",
    "search_and_replace(\"one.txt\",\"three.txt\",\"Guido van Rossum\",\"Achuthan\")\n"
   ]
  },
  {
   "cell_type": "code",
   "execution_count": 7,
   "id": "c2e9b039",
   "metadata": {},
   "outputs": [],
   "source": [
    "file=open(\"three.txt\",'r')\n"
   ]
  },
  {
   "cell_type": "code",
   "execution_count": 8,
   "id": "c633616b",
   "metadata": {},
   "outputs": [
    {
     "data": {
      "text/plain": [
       "'Python was conceived in the late 1980s[43] by Achuthan at Centrum Wiskunde & Informatica (CWI) in the Netherlands as a successor to the ABC programming language, which was inspired by SETL,[44] capable of exception handling and interfacing with the Amoeba operating system.'"
      ]
     },
     "execution_count": 8,
     "metadata": {},
     "output_type": "execute_result"
    }
   ],
   "source": [
    "file.read()"
   ]
  },
  {
   "cell_type": "markdown",
   "id": "c2d63b8f",
   "metadata": {},
   "source": [
    "# b. How would you handle cases where you need to perform multiple replacements in a single pass?\n"
   ]
  },
  {
   "cell_type": "code",
   "execution_count": 9,
   "id": "00e59ca8",
   "metadata": {},
   "outputs": [],
   "source": [
    "file=open(\"one.txt\",'r')"
   ]
  },
  {
   "cell_type": "code",
   "execution_count": 10,
   "id": "67ab7f19",
   "metadata": {},
   "outputs": [
    {
     "data": {
      "text/plain": [
       "'Python was conceived in the late 1980s[43] by Guido van Rossum at Centrum Wiskunde & Informatica (CWI) in the Netherlands as a successor to the ABC programming language, which was inspired by SETL,[44] capable of exception handling and interfacing with the Amoeba operating system.'"
      ]
     },
     "execution_count": 10,
     "metadata": {},
     "output_type": "execute_result"
    }
   ],
   "source": [
    "file.read()"
   ]
  },
  {
   "cell_type": "code",
   "execution_count": 11,
   "id": "31458f9d",
   "metadata": {},
   "outputs": [
    {
     "name": "stdout",
     "output_type": "stream",
     "text": [
      "Multiple replacements completed successfully.\n"
     ]
    }
   ],
   "source": [
    "def search_and_replace_multiple(input_file, output_file, replace_dict):\n",
    "    try:\n",
    "        with open(input_file, 'r') as infile, open(output_file, 'w') as outfile:\n",
    "            for line in infile:\n",
    "                for search_text, replace_text in replace_dict.items():\n",
    "                    line = line.replace(search_text, replace_text)\n",
    "                outfile.write(line)\n",
    "    \n",
    "    except FileNotFoundError:\n",
    "        print(f\"Error: Input file '{input_file}' not found.\")\n",
    "    except Exception as e:\n",
    "        print(f\"An error occurred: {e}\")\n",
    "    else:\n",
    "        print(\"Multiple replacements completed successfully.\")\n",
    "\n",
    "replace_dict = {\n",
    "    \"Guido van Rossum\": \"Achuthan Suresh\",\n",
    "    \"Centrum Wiskunde & Informatica\": \"MPHASIS\",\n",
    "    }\n",
    "\n",
    "search_and_replace_multiple(\"one.txt\", \"three.txt\", replace_dict)\n"
   ]
  },
  {
   "cell_type": "code",
   "execution_count": 12,
   "id": "176f40bf",
   "metadata": {},
   "outputs": [],
   "source": [
    "file=open(\"three.txt\",'r')"
   ]
  },
  {
   "cell_type": "code",
   "execution_count": 13,
   "id": "5da9b3e7",
   "metadata": {},
   "outputs": [
    {
     "data": {
      "text/plain": [
       "'Python was conceived in the late 1980s[43] by Achuthan Suresh at MPHASIS (CWI) in the Netherlands as a successor to the ABC programming language, which was inspired by SETL,[44] capable of exception handling and interfacing with the Amoeba operating system.'"
      ]
     },
     "execution_count": 13,
     "metadata": {},
     "output_type": "execute_result"
    }
   ],
   "source": [
    "file.read()"
   ]
  },
  {
   "cell_type": "code",
   "execution_count": null,
   "id": "9053a60e",
   "metadata": {},
   "outputs": [],
   "source": []
  }
 ],
 "metadata": {
  "kernelspec": {
   "display_name": "Python 3 (ipykernel)",
   "language": "python",
   "name": "python3"
  },
  "language_info": {
   "codemirror_mode": {
    "name": "ipython",
    "version": 3
   },
   "file_extension": ".py",
   "mimetype": "text/x-python",
   "name": "python",
   "nbconvert_exporter": "python",
   "pygments_lexer": "ipython3",
   "version": "3.11.4"
  }
 },
 "nbformat": 4,
 "nbformat_minor": 5
}
