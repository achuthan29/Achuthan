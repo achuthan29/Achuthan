{
 "cells": [
  {
   "cell_type": "code",
   "execution_count": 5,
   "id": "661e20dc",
   "metadata": {},
   "outputs": [],
   "source": [
    "file=open(\"sample 1.txt\",'w')\n",
    "file.close()\n"
   ]
  },
  {
   "cell_type": "code",
   "execution_count": 7,
   "id": "5be4b37e",
   "metadata": {},
   "outputs": [],
   "source": [
    "file=open(\"sample 1.txt\",'r')"
   ]
  },
  {
   "cell_type": "code",
   "execution_count": 8,
   "id": "ba69f59f",
   "metadata": {},
   "outputs": [
    {
     "data": {
      "text/plain": [
       "True"
      ]
     },
     "execution_count": 8,
     "metadata": {},
     "output_type": "execute_result"
    }
   ],
   "source": [
    "file.readable()\n"
   ]
  },
  {
   "cell_type": "code",
   "execution_count": 13,
   "id": "7404fa0c",
   "metadata": {},
   "outputs": [],
   "source": [
    "file=open(\"sample 2.txt\",'w')"
   ]
  },
  {
   "cell_type": "code",
   "execution_count": 14,
   "id": "025d9be3",
   "metadata": {},
   "outputs": [],
   "source": [
    "file.close()"
   ]
  },
  {
   "cell_type": "code",
   "execution_count": 15,
   "id": "14523483",
   "metadata": {},
   "outputs": [],
   "source": [
    "file=open(\"sample 2.txt\",'r')"
   ]
  },
  {
   "cell_type": "code",
   "execution_count": 16,
   "id": "d8b77c8f",
   "metadata": {},
   "outputs": [
    {
     "data": {
      "text/plain": [
       "True"
      ]
     },
     "execution_count": 16,
     "metadata": {},
     "output_type": "execute_result"
    }
   ],
   "source": [
    "file.readable()"
   ]
  },
  {
   "cell_type": "code",
   "execution_count": 17,
   "id": "a30198c5",
   "metadata": {},
   "outputs": [
    {
     "name": "stdout",
     "output_type": "stream",
     "text": [
      "File copied successfully.\n"
     ]
    }
   ],
   "source": [
    "def copy_file(input_file_path, output_file_path):\n",
    "    try:\n",
    "        with open(input_file_path, 'r') as input_file, open(output_file_path, 'w') as output_file:\n",
    "            while True:\n",
    "                chunk = input_file.read(50)\n",
    "                if not chunk:\n",
    "                    break\n",
    "                output_file.write(chunk)\n",
    "    except FileNotFoundError:\n",
    "        print(f\"Error: Input file '{input_file_path}' not found.\")\n",
    "    except Exception as e:\n",
    "        print(f\"An error occurred: {e}\")\n",
    "    else:\n",
    "        print(\"File copied successfully.\")\n",
    "input_file_path = 'sample 1.txt'\n",
    "output_file_path = 'sample 2.txt'\n",
    "copy_file(input_file_path, output_file_path)\n"
   ]
  },
  {
   "cell_type": "code",
   "execution_count": null,
   "id": "8aff590d",
   "metadata": {},
   "outputs": [],
   "source": []
  }
 ],
 "metadata": {
  "kernelspec": {
   "display_name": "Python 3 (ipykernel)",
   "language": "python",
   "name": "python3"
  },
  "language_info": {
   "codemirror_mode": {
    "name": "ipython",
    "version": 3
   },
   "file_extension": ".py",
   "mimetype": "text/x-python",
   "name": "python",
   "nbconvert_exporter": "python",
   "pygments_lexer": "ipython3",
   "version": "3.11.4"
  }
 },
 "nbformat": 4,
 "nbformat_minor": 5
}
