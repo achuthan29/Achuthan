{
 "cells": [
  {
   "cell_type": "markdown",
   "id": "049e782c",
   "metadata": {},
   "source": [
    "# 1. Write a python function that copies a file reading and writing up to 50 characters at a time.\n"
   ]
  },
  {
   "cell_type": "code",
   "execution_count": 1,
   "id": "a30198c5",
   "metadata": {},
   "outputs": [
    {
     "name": "stdout",
     "output_type": "stream",
     "text": [
      "File copied successfully.\n"
     ]
    }
   ],
   "source": [
    "def copy_file(input_file_path, output_file_path):\n",
    "    try:\n",
    "        with open(input_file_path, 'r') as input_file, open(output_file_path, 'w') as output_file:\n",
    "            while True:\n",
    "                chunk = input_file.read(50)\n",
    "                if not chunk:\n",
    "                    break\n",
    "                output_file.write(chunk)\n",
    "    except FileNotFoundError:\n",
    "        print(f\"Error: Input file '{input_file_path}' not found.\")\n",
    "    except Exception as e:\n",
    "        print(f\"An error occurred: {e}\")\n",
    "    else:\n",
    "        print(\"File copied successfully.\")\n",
    "input_file_path = 'one.txt'\n",
    "output_file_path = 'one 1.txt'\n",
    "copy_file(input_file_path, output_file_path)\n"
   ]
  },
  {
   "cell_type": "code",
   "execution_count": 2,
   "id": "a5621c42",
   "metadata": {},
   "outputs": [],
   "source": [
    "file=open(\"one 1.txt\",'r')"
   ]
  },
  {
   "cell_type": "code",
   "execution_count": 3,
   "id": "a1fb6062",
   "metadata": {},
   "outputs": [
    {
     "data": {
      "text/plain": [
       "'Python was conceived in the late 1980s[43] by Guido van Rossum at Centrum Wiskunde & Informatica (CWI) in the Netherlands as a successor to the ABC programming language, which was inspired by SETL,[44] capable of exception handling and interfacing with the Amoeba operating system.'"
      ]
     },
     "execution_count": 3,
     "metadata": {},
     "output_type": "execute_result"
    }
   ],
   "source": [
    "file.read()\n"
   ]
  },
  {
   "cell_type": "code",
   "execution_count": null,
   "id": "8aff590d",
   "metadata": {},
   "outputs": [],
   "source": []
  }
 ],
 "metadata": {
  "kernelspec": {
   "display_name": "Python 3 (ipykernel)",
   "language": "python",
   "name": "python3"
  },
  "language_info": {
   "codemirror_mode": {
    "name": "ipython",
    "version": 3
   },
   "file_extension": ".py",
   "mimetype": "text/x-python",
   "name": "python",
   "nbconvert_exporter": "python",
   "pygments_lexer": "ipython3",
   "version": "3.11.4"
  }
 },
 "nbformat": 4,
 "nbformat_minor": 5
}
