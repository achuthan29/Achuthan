{
 "cells": [
  {
   "cell_type": "markdown",
   "id": "1117f753",
   "metadata": {},
   "source": [
    "# 7. You are given a text file named input.txt containing a list of words, one word per line. Your task is to create a Python program that reads the contents of input.txt, processes the words, and writes the result to an output file named output.txt.\n",
    "a. The program should perform the following operations:"
   ]
  },
  {
   "cell_type": "markdown",
   "id": "c8118a5b",
   "metadata": {},
   "source": [
    "# i. Read the words from input.txt.\n"
   ]
  },
  {
   "cell_type": "code",
   "execution_count": 12,
   "id": "cd6bd7a8",
   "metadata": {},
   "outputs": [
    {
     "name": "stdout",
     "output_type": "stream",
     "text": [
      "Words from 'one.txt':\n",
      "Python\n",
      "was\n",
      "conceived\n",
      "in\n",
      "the\n",
      "late\n",
      "1980s[43]\n",
      "by\n",
      "Guido\n",
      "van\n",
      "Rossum\n",
      "at\n",
      "Centrum\n",
      "Wiskunde\n",
      "&\n",
      "Informatica\n",
      "(CWI)\n",
      "in\n",
      "the\n",
      "Netherlands\n",
      "as\n",
      "a\n",
      "successor\n",
      "to\n",
      "the\n",
      "ABC\n",
      "programming\n",
      "language,\n",
      "which\n",
      "was\n",
      "inspired\n",
      "by\n",
      "SETL,[44]\n",
      "capable\n",
      "of\n",
      "exception\n",
      "handling\n",
      "and\n",
      "interfacing\n",
      "with\n",
      "the\n",
      "Amoeba\n",
      "operating\n",
      "system.\n"
     ]
    }
   ],
   "source": [
    "def read_words_from_file(file_path):\n",
    "    try:\n",
    "        with open(file_path, 'r') as file:\n",
    "            words = file.read().split()\n",
    "        return words\n",
    "    except FileNotFoundError:\n",
    "        print(f\"Error: File '{file_path}' not found.\")\n",
    "        return []\n",
    "    except Exception as e:\n",
    "        print(f\"An error occurred: {e}\")\n",
    "        return []\n",
    "\n",
    "file_path = 'one.txt'\n",
    "words_list = read_words_from_file(file_path)\n",
    "\n",
    "print(\"Words from 'one.txt':\")\n",
    "for word in words_list:\n",
    "    print(word)\n"
   ]
  },
  {
   "cell_type": "markdown",
   "id": "49103ecd",
   "metadata": {},
   "source": [
    "# ii. For each word in the input file, calculate the length of the word and store it in a dictionary where the word is the key, and the length is the value.\n"
   ]
  },
  {
   "cell_type": "code",
   "execution_count": 13,
   "id": "51b5f3a3",
   "metadata": {},
   "outputs": [
    {
     "name": "stdout",
     "output_type": "stream",
     "text": [
      "Python: 6\n",
      "was: 3\n",
      "conceived: 9\n",
      "in: 2\n",
      "the: 3\n",
      "late: 4\n",
      "1980s[43: 8\n",
      "by: 2\n",
      "Guido: 5\n",
      "van: 3\n",
      "Rossum: 6\n",
      "at: 2\n",
      "Centrum: 7\n",
      "Wiskunde: 8\n",
      "&: 1\n",
      "Informatica: 11\n",
      "CWI: 3\n",
      "Netherlands: 11\n",
      "as: 2\n",
      "a: 1\n",
      "successor: 9\n",
      "to: 2\n",
      "ABC: 3\n",
      "programming: 11\n",
      "language: 8\n",
      "which: 5\n",
      "inspired: 8\n",
      "SETL,[44: 8\n",
      "capable: 7\n",
      "of: 2\n",
      "exception: 9\n",
      "handling: 8\n",
      "and: 3\n",
      "interfacing: 11\n",
      "with: 4\n",
      "Amoeba: 6\n",
      "operating: 9\n",
      "system: 6\n"
     ]
    }
   ],
   "source": [
    "word_lengths = {}\n",
    "with open('one.txt', 'r') as file:\n",
    "    content = file.read()\n",
    "    words = content.split()\n",
    "    \n",
    "    for word in words:\n",
    "        word = word.strip(\".,!?()[]{}\\\"'\")\n",
    "        length = len(word)\n",
    "        word_lengths[word] = length\n",
    "\n",
    "for word, length in word_lengths.items():\n",
    "    print(f'{word}: {length}')\n"
   ]
  },
  {
   "cell_type": "markdown",
   "id": "0b97227c",
   "metadata": {},
   "source": [
    "# iii. Write the word-length dictionary to output.txt in the following format:\n"
   ]
  },
  {
   "cell_type": "code",
   "execution_count": 14,
   "id": "09a13951",
   "metadata": {},
   "outputs": [
    {
     "name": "stdout",
     "output_type": "stream",
     "text": [
      "Word-length dictionary has been written to output.txt\n"
     ]
    }
   ],
   "source": [
    "word_lengths = {}\n",
    "with open('one.txt', 'r') as file:\n",
    "  \n",
    "    content = file.read()\n",
    "    words = content.split()\n",
    "    for word in words:\n",
    "        word = word.strip(\".,!?()[]{}\\\"'\")\n",
    "        length = len(word)\n",
    "        word_lengths[word] = length\n",
    "\n",
    "with open('output.txt', 'w') as output_file:\n",
    "    for word, length in word_lengths.items():\n",
    "        output_file.write(f'{word}: {length}\\n')\n",
    "\n",
    "print(\"Word-length dictionary has been written to output.txt\")\n"
   ]
  },
  {
   "cell_type": "code",
   "execution_count": 15,
   "id": "9e439777",
   "metadata": {},
   "outputs": [],
   "source": [
    "file=open(\"output.txt\",'r')"
   ]
  },
  {
   "cell_type": "code",
   "execution_count": 16,
   "id": "2dbde67e",
   "metadata": {},
   "outputs": [
    {
     "data": {
      "text/plain": [
       "'Python: 6\\nwas: 3\\nconceived: 9\\nin: 2\\nthe: 3\\nlate: 4\\n1980s[43: 8\\nby: 2\\nGuido: 5\\nvan: 3\\nRossum: 6\\nat: 2\\nCentrum: 7\\nWiskunde: 8\\n&: 1\\nInformatica: 11\\nCWI: 3\\nNetherlands: 11\\nas: 2\\na: 1\\nsuccessor: 9\\nto: 2\\nABC: 3\\nprogramming: 11\\nlanguage: 8\\nwhich: 5\\ninspired: 8\\nSETL,[44: 8\\ncapable: 7\\nof: 2\\nexception: 9\\nhandling: 8\\nand: 3\\ninterfacing: 11\\nwith: 4\\nAmoeba: 6\\noperating: 9\\nsystem: 6\\n'"
      ]
     },
     "execution_count": 16,
     "metadata": {},
     "output_type": "execute_result"
    }
   ],
   "source": [
    "file.read()"
   ]
  },
  {
   "cell_type": "markdown",
   "id": "e2d63195",
   "metadata": {},
   "source": [
    "# iv. Close both input and output files properly."
   ]
  },
  {
   "cell_type": "code",
   "execution_count": 30,
   "id": "0ea4f75e",
   "metadata": {},
   "outputs": [
    {
     "ename": "IndentationError",
     "evalue": "expected an indented block after 'with' statement on line 2 (3102162271.py, line 3)",
     "output_type": "error",
     "traceback": [
      "\u001b[1;36m  Cell \u001b[1;32mIn[30], line 3\u001b[1;36m\u001b[0m\n\u001b[1;33m    except FileNotFoundError:\u001b[0m\n\u001b[1;37m    ^\u001b[0m\n\u001b[1;31mIndentationError\u001b[0m\u001b[1;31m:\u001b[0m expected an indented block after 'with' statement on line 2\n"
     ]
    }
   ],
   "source": [
    "try:\n",
    "    with open('one.txt','r') as input_file:\n",
    "    except FileNotFoundError:\n",
    "        print(\"Input\")\n",
    "        except IOError as e:\n",
    "            print(f\"error: {e}\")\n",
    "            try:\n",
    "                with open('output.txt','r') as output_file:\n",
    "                    except IOError as e:\n",
    "                        print(f\"error: {e}\")"
   ]
  },
  {
   "cell_type": "markdown",
   "id": "a47a2388",
   "metadata": {},
   "source": [
    "# v. Write Python code to accomplish this task. Ensure proper error handling for file operations."
   ]
  },
  {
   "cell_type": "code",
   "execution_count": 31,
   "id": "3da05b5f",
   "metadata": {},
   "outputs": [
    {
     "name": "stdout",
     "output_type": "stream",
     "text": [
      "File operations completed successfully.\n"
     ]
    }
   ],
   "source": [
    "try:\n",
    "    with open('one.txt', 'r') as input_file:\n",
    "        input_data = input_file.read()\n",
    "\n",
    "    with open('output.txt', 'w') as output_file:\n",
    "        output_file.write(input_data)\n",
    "    print(\"File operations completed successfully.\")\n",
    "except FileNotFoundError:\n",
    "    print(\"Error: The input file was not found.\")\n",
    "except IOError as e:\n",
    "    print(f\"Error: An I/O error occurred - {e}\")\n",
    "except Exception as e:\n",
    "    print(f\"An unexpected error occurred - {e}\")\n"
   ]
  },
  {
   "cell_type": "code",
   "execution_count": null,
   "id": "216da87a",
   "metadata": {},
   "outputs": [],
   "source": []
  }
 ],
 "metadata": {
  "kernelspec": {
   "display_name": "Python 3 (ipykernel)",
   "language": "python",
   "name": "python3"
  },
  "language_info": {
   "codemirror_mode": {
    "name": "ipython",
    "version": 3
   },
   "file_extension": ".py",
   "mimetype": "text/x-python",
   "name": "python",
   "nbconvert_exporter": "python",
   "pygments_lexer": "ipython3",
   "version": "3.11.4"
  }
 },
 "nbformat": 4,
 "nbformat_minor": 5
}
