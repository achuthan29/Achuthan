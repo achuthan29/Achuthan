{
 "cells": [
  {
   "cell_type": "code",
   "execution_count": 55,
   "id": "84006a07",
   "metadata": {},
   "outputs": [],
   "source": [
    "import numpy as np"
   ]
  },
  {
   "cell_type": "markdown",
   "id": "44fae888",
   "metadata": {},
   "source": [
    "# 1. Create a 3x3x3 array with random values"
   ]
  },
  {
   "cell_type": "code",
   "execution_count": 56,
   "id": "4009f98b",
   "metadata": {},
   "outputs": [
    {
     "data": {
      "text/plain": [
       "array([[[0.34251955, 0.96992486, 0.66256252],\n",
       "        [0.25809902, 0.78195706, 0.40309735],\n",
       "        [0.23615002, 0.28859054, 0.15615824]],\n",
       "\n",
       "       [[0.14558903, 0.77500798, 0.38901682],\n",
       "        [0.25976864, 0.81710685, 0.17061567],\n",
       "        [0.47858598, 0.1015154 , 0.37813942]],\n",
       "\n",
       "       [[0.10686541, 0.81498856, 0.94574274],\n",
       "        [0.42328824, 0.16288894, 0.82903041],\n",
       "        [0.25710585, 0.63353764, 0.84059947]]])"
      ]
     },
     "execution_count": 56,
     "metadata": {},
     "output_type": "execute_result"
    }
   ],
   "source": [
    "random_array = np.random.rand(3, 3, 3)\n",
    "random_array"
   ]
  },
  {
   "cell_type": "markdown",
   "id": "54abb0c5",
   "metadata": {},
   "source": [
    "# 2.Create a 5x5 matrix with values 1,2,3,4 just below the diagonal"
   ]
  },
  {
   "cell_type": "code",
   "execution_count": 57,
   "id": "cd8bc1f3",
   "metadata": {},
   "outputs": [
    {
     "data": {
      "text/plain": [
       "array([[0, 0, 0, 0, 0],\n",
       "       [1, 0, 0, 0, 0],\n",
       "       [0, 2, 0, 0, 0],\n",
       "       [0, 0, 3, 0, 0],\n",
       "       [0, 0, 0, 4, 0]])"
      ]
     },
     "execution_count": 57,
     "metadata": {},
     "output_type": "execute_result"
    }
   ],
   "source": [
    "matrix = np.diag(1 + np.arange(4), k=-1)\n",
    "matrix"
   ]
  },
  {
   "cell_type": "markdown",
   "id": "2b75759c",
   "metadata": {},
   "source": [
    "# 3.Create a 8x8 matrix and fill it with a checkerboard pattern"
   ]
  },
  {
   "cell_type": "code",
   "execution_count": 58,
   "id": "1647b44f",
   "metadata": {},
   "outputs": [
    {
     "data": {
      "text/plain": [
       "array([[0, 1, 0, 1, 0, 1, 0, 1],\n",
       "       [1, 0, 1, 0, 1, 0, 1, 0],\n",
       "       [0, 1, 0, 1, 0, 1, 0, 1],\n",
       "       [1, 0, 1, 0, 1, 0, 1, 0],\n",
       "       [0, 1, 0, 1, 0, 1, 0, 1],\n",
       "       [1, 0, 1, 0, 1, 0, 1, 0],\n",
       "       [0, 1, 0, 1, 0, 1, 0, 1],\n",
       "       [1, 0, 1, 0, 1, 0, 1, 0]])"
      ]
     },
     "execution_count": 58,
     "metadata": {},
     "output_type": "execute_result"
    }
   ],
   "source": [
    "checkerboard = np.zeros((8, 8), dtype=int)\n",
    "checkerboard[1::2, ::2] = 1\n",
    "checkerboard[::2, 1::2] = 1\n",
    "checkerboard"
   ]
  },
  {
   "cell_type": "markdown",
   "id": "2391ba8b",
   "metadata": {},
   "source": [
    "# 4. Normalize a 5x5 random matrix"
   ]
  },
  {
   "cell_type": "code",
   "execution_count": 59,
   "id": "8cceaecb",
   "metadata": {},
   "outputs": [
    {
     "data": {
      "text/plain": [
       "array([[0.88335122, 0.92155671, 0.54708635, 0.94423886, 0.79720666],\n",
       "       [0.        , 0.62454279, 1.        , 0.23819623, 0.4812827 ],\n",
       "       [0.93590286, 0.58983134, 0.4192672 , 0.0914556 , 0.52495309],\n",
       "       [0.76745827, 0.41085932, 0.14340834, 0.72379961, 0.25595787],\n",
       "       [0.56922937, 0.98007276, 0.49798847, 0.93407584, 0.20047132]])"
      ]
     },
     "execution_count": 59,
     "metadata": {},
     "output_type": "execute_result"
    }
   ],
   "source": [
    "random_matrix = np.random.rand(5, 5)\n",
    "normalized_matrix = (random_matrix - random_matrix.min()) / (random_matrix.max() - random_matrix.min())\n",
    "normalized_matrix "
   ]
  },
  {
   "cell_type": "markdown",
   "id": "4725f1a8",
   "metadata": {},
   "source": [
    "# 5. How to find common values between two arrays?"
   ]
  },
  {
   "cell_type": "code",
   "execution_count": 60,
   "id": "5549e60c",
   "metadata": {},
   "outputs": [
    {
     "data": {
      "text/plain": [
       "array([3, 4, 5])"
      ]
     },
     "execution_count": 60,
     "metadata": {},
     "output_type": "execute_result"
    }
   ],
   "source": [
    "array1 = np.array([1, 2, 3, 4, 5])\n",
    "array2 = np.array([3, 4, 5, 6, 7])\n",
    "common_values = np.intersect1d(array1, array2)\n",
    "common_values"
   ]
  },
  {
   "cell_type": "markdown",
   "id": "2ffa8a10",
   "metadata": {},
   "source": [
    "# 6. How to get the dates of yesterday, today and tomorrow?"
   ]
  },
  {
   "cell_type": "code",
   "execution_count": 61,
   "id": "78550481",
   "metadata": {},
   "outputs": [
    {
     "name": "stdout",
     "output_type": "stream",
     "text": [
      "Yesterday: 2023-09-20\n",
      "Today: 2023-09-21\n",
      "Tomorrow: 2023-09-22\n"
     ]
    }
   ],
   "source": [
    "from datetime import datetime, timedelta\n",
    "today = datetime.now()\n",
    "yesterday = today - timedelta(days=1)\n",
    "tomorrow = today + timedelta(days=1)\n",
    "print(\"Yesterday:\", yesterday.strftime(\"%Y-%m-%d\"))\n",
    "print(\"Today:\", today.strftime(\"%Y-%m-%d\"))\n",
    "print(\"Tomorrow:\", tomorrow.strftime(\"%Y-%m-%d\"))\n"
   ]
  },
  {
   "cell_type": "markdown",
   "id": "7a59158a",
   "metadata": {},
   "source": [
    "# 7. Consider two random array A and B, check if they are equal"
   ]
  },
  {
   "cell_type": "code",
   "execution_count": 62,
   "id": "3c93956d",
   "metadata": {},
   "outputs": [
    {
     "data": {
      "text/plain": [
       "False"
      ]
     },
     "execution_count": 62,
     "metadata": {},
     "output_type": "execute_result"
    }
   ],
   "source": [
    "array_A = np.random.rand(5)\n",
    "array_B = np.random.rand(5)\n",
    "are_equal = np.array_equal(array_A, array_B)\n",
    "are_equal"
   ]
  },
  {
   "cell_type": "markdown",
   "id": "4e4779db",
   "metadata": {},
   "source": [
    "# 8.Create random vector of size 10 and replace the maximum value by 0"
   ]
  },
  {
   "cell_type": "code",
   "execution_count": 63,
   "id": "7481d741",
   "metadata": {},
   "outputs": [
    {
     "data": {
      "text/plain": [
       "array([0.29847315, 0.39600855, 0.29909392, 0.57068144, 0.12320204,\n",
       "       0.19367776, 0.04049408, 0.        , 0.01101325, 0.38766536])"
      ]
     },
     "execution_count": 63,
     "metadata": {},
     "output_type": "execute_result"
    }
   ],
   "source": [
    "random_vector = np.random.rand(10)\n",
    "max_value_index = np.argmax(random_vector)\n",
    "random_vector[max_value_index] = 0\n",
    "random_vector"
   ]
  },
  {
   "cell_type": "markdown",
   "id": "b973142a",
   "metadata": {},
   "source": [
    "# 9. How to print all the values of an array?"
   ]
  },
  {
   "cell_type": "code",
   "execution_count": 64,
   "id": "fb28bbb6",
   "metadata": {},
   "outputs": [
    {
     "name": "stdout",
     "output_type": "stream",
     "text": [
      "[1 2 3 4 5]\n"
     ]
    }
   ],
   "source": [
    "array = np.array([1, 2, 3, 4, 5])\n",
    "print(array)"
   ]
  },
  {
   "cell_type": "markdown",
   "id": "cd91f3d9",
   "metadata": {},
   "source": [
    "# 10.Subtract the mean of each row of a matrix"
   ]
  },
  {
   "cell_type": "code",
   "execution_count": 65,
   "id": "b17769e2",
   "metadata": {},
   "outputs": [
    {
     "data": {
      "text/plain": [
       "array([[-0.42279477,  0.30337289,  0.11942188],\n",
       "       [ 0.15613869,  0.20592077, -0.36205946],\n",
       "       [-0.20232678, -0.03907284,  0.24139961]])"
      ]
     },
     "execution_count": 65,
     "metadata": {},
     "output_type": "execute_result"
    }
   ],
   "source": [
    "matrix = np.random.rand(3, 3)\n",
    "row_means = np.mean(matrix, axis=1)\n",
    "matrix_minus_means = matrix - row_means[:, np.newaxis]\n",
    "matrix_minus_means"
   ]
  },
  {
   "cell_type": "markdown",
   "id": "8bf82497",
   "metadata": {},
   "source": [
    "# 11.Consider a given vector, how to add 1 to each element indexed by a second vector (be careful with repeated indices)?"
   ]
  },
  {
   "cell_type": "code",
   "execution_count": 66,
   "id": "26c20df3",
   "metadata": {},
   "outputs": [
    {
     "data": {
      "text/plain": [
       "array([0.16737182, 1.4342868 , 0.75651416, 1.2803272 , 0.46169293,\n",
       "       1.07944801, 0.9838844 , 0.56113354, 0.61045301, 0.81685903])"
      ]
     },
     "execution_count": 66,
     "metadata": {},
     "output_type": "execute_result"
    }
   ],
   "source": [
    "vector = np.random.rand(10)\n",
    "indices_to_add_one = np.array([1, 3, 5, 3])  \n",
    "vector[indices_to_add_one] += 1\n",
    "vector "
   ]
  },
  {
   "cell_type": "markdown",
   "id": "8cd2bd3c",
   "metadata": {},
   "source": [
    "# 12.How to get the diagonal of a dot product?"
   ]
  },
  {
   "cell_type": "code",
   "execution_count": 67,
   "id": "583e2a76",
   "metadata": {},
   "outputs": [
    {
     "data": {
      "text/plain": [
       "array([0.97657595, 0.43849374, 0.84472379])"
      ]
     },
     "execution_count": 67,
     "metadata": {},
     "output_type": "execute_result"
    }
   ],
   "source": [
    "matrix1 = np.random.rand(3, 3)\n",
    "matrix2 = np.random.rand(3, 3)\n",
    "dot_product = np.dot(matrix1, matrix2)\n",
    "diagonal = np.diag(dot_product)\n",
    "diagonal"
   ]
  },
  {
   "cell_type": "markdown",
   "id": "57189233",
   "metadata": {},
   "source": [
    "# 13.How to find the most frequent value in an array?"
   ]
  },
  {
   "cell_type": "code",
   "execution_count": 68,
   "id": "17ac3b04",
   "metadata": {},
   "outputs": [
    {
     "data": {
      "text/plain": [
       "2"
      ]
     },
     "execution_count": 68,
     "metadata": {},
     "output_type": "execute_result"
    }
   ],
   "source": [
    "x=np.random.randint(0,10,50)\n",
    "most_frequent_value = np.bincount(x).argmax()\n",
    "most_frequent_value "
   ]
  },
  {
   "cell_type": "markdown",
   "id": "1c656b22",
   "metadata": {},
   "source": [
    "# 14.How to get the n largest values of an array"
   ]
  },
  {
   "cell_type": "code",
   "execution_count": 69,
   "id": "3ed1c707",
   "metadata": {},
   "outputs": [
    {
     "name": "stdout",
     "output_type": "stream",
     "text": [
      "[(1, 'Red') (2, 'Green') (3, 'White') (4, 'Orange')]\n"
     ]
    }
   ],
   "source": [
    "a1 = np.array([1, 2, 3, 4])\n",
    "a2 = np.array(['Red', 'Green', 'White', 'Orange'])\n",
    "result = np.core.records.fromarrays([a1, a2], names='a,b')\n",
    "print(result)\n"
   ]
  },
  {
   "cell_type": "markdown",
   "id": "7054cc4e",
   "metadata": {},
   "source": [
    "# 15.How to create a record array from a regular array?"
   ]
  },
  {
   "cell_type": "code",
   "execution_count": 70,
   "id": "edba4532",
   "metadata": {},
   "outputs": [
    {
     "data": {
      "text/plain": [
       "array([5, 6, 9])"
      ]
     },
     "execution_count": 70,
     "metadata": {},
     "output_type": "execute_result"
    }
   ],
   "source": [
    "array = np.array([3, 1, 4, 1, 5, 9, 2, 6, 5, 3])\n",
    "n_largest_values = np.partition(array, -3)[-3:] \n",
    "n_largest_values"
   ]
  },
  {
   "cell_type": "markdown",
   "id": "76668b7a",
   "metadata": {},
   "source": [
    "# 16. How to swap two rows of an array?"
   ]
  },
  {
   "cell_type": "code",
   "execution_count": 71,
   "id": "24306cbf",
   "metadata": {},
   "outputs": [
    {
     "data": {
      "text/plain": [
       "array([[0.07078284, 0.53919591, 0.70648867],\n",
       "       [0.67610542, 0.18543405, 0.21497379],\n",
       "       [0.25536212, 0.3576307 , 0.58392365]])"
      ]
     },
     "execution_count": 71,
     "metadata": {},
     "output_type": "execute_result"
    }
   ],
   "source": [
    "matrix = np.random.rand(3, 3)\n",
    "matrix[[0, 2]] = matrix[[2, 0]]\n",
    "matrix"
   ]
  },
  {
   "cell_type": "markdown",
   "id": "bafd2934",
   "metadata": {},
   "source": [
    "# 17. Write python code to reshape to the next dimension of numpy array?"
   ]
  },
  {
   "cell_type": "code",
   "execution_count": 72,
   "id": "2fa2a9c7",
   "metadata": {},
   "outputs": [
    {
     "name": "stdout",
     "output_type": "stream",
     "text": [
      "[[ 24  34 121]\n",
      " [ 23  22  67]\n",
      " [686 434 123]]\n"
     ]
    }
   ],
   "source": [
    "x = np.array([[24, 34, 121], [23, 22, 67], [686, 434, 123]])\n",
    "reshaped_array = x.reshape(-1, 3)\n",
    "\n",
    "print(reshaped_array)"
   ]
  }
 ],
 "metadata": {
  "kernelspec": {
   "display_name": "Python 3 (ipykernel)",
   "language": "python",
   "name": "python3"
  },
  "language_info": {
   "codemirror_mode": {
    "name": "ipython",
    "version": 3
   },
   "file_extension": ".py",
   "mimetype": "text/x-python",
   "name": "python",
   "nbconvert_exporter": "python",
   "pygments_lexer": "ipython3",
   "version": "3.11.4"
  }
 },
 "nbformat": 4,
 "nbformat_minor": 5
}
