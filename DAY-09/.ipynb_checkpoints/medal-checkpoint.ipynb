{
 "cells": [
  {
   "cell_type": "code",
   "execution_count": 9,
   "id": "3c053141",
   "metadata": {},
   "outputs": [],
   "source": [
    "import numpy as np\n",
    "np_olympic_country=np.array(['GBR', 'Chine', 'US', 'AS', 'OR', '2PM', 'GER'])\n",
    "np_olympic_country_gold=np.array([29,38,24,46,13,7,11]) \n",
    "np_olympic_country_silver=np.array([17, 28, 25, 28,8,14,11])\n",
    "np_olympic_country_Bronze=np.array([19,22,32,29,7,17,14])\n"
   ]
  },
  {
   "cell_type": "markdown",
   "id": "b13b9207",
   "metadata": {},
   "source": [
    "# 1.find the country index with maximum gold\n"
   ]
  },
  {
   "cell_type": "code",
   "execution_count": 10,
   "id": "9c0a109e",
   "metadata": {},
   "outputs": [
    {
     "name": "stdout",
     "output_type": "stream",
     "text": [
      "Country index: 3\n"
     ]
    }
   ],
   "source": [
    "max_gold_index = np.argmax(np_olympic_country_gold)\n",
    "print(f\"Country index: {max_gold_index}\")"
   ]
  },
  {
   "cell_type": "markdown",
   "id": "0932ad02",
   "metadata": {},
   "source": [
    "# 2. Print Country with Maximum gold\n"
   ]
  },
  {
   "cell_type": "code",
   "execution_count": 11,
   "id": "a2733e82",
   "metadata": {},
   "outputs": [
    {
     "name": "stdout",
     "output_type": "stream",
     "text": [
      "Country with Maximum Gold: AS\n"
     ]
    }
   ],
   "source": [
    "country_with_max_gold = np_olympic_country[max_gold_index]\n",
    "print(f\"Country with Maximum Gold: {country_with_max_gold}\")"
   ]
  },
  {
   "cell_type": "markdown",
   "id": "ffa8cf7b",
   "metadata": {},
   "source": [
    "# 3. Find countries with more than 20 gold medals"
   ]
  },
  {
   "cell_type": "code",
   "execution_count": 12,
   "id": "da8eb50a",
   "metadata": {},
   "outputs": [
    {
     "name": "stdout",
     "output_type": "stream",
     "text": [
      "Countries with more than 20 gold medals: ['GBR' 'Chine' 'US' 'AS']\n"
     ]
    }
   ],
   "source": [
    "countries_with_more_than_20_gold = np_olympic_country[np_olympic_country_gold > 20]\n",
    "print(\"Countries with more than 20 gold medals:\", countries_with_more_than_20_gold)"
   ]
  },
  {
   "cell_type": "markdown",
   "id": "ecfe3d87",
   "metadata": {},
   "source": [
    "# 4. Evaluate the dataset and print the medal:\n",
    "    \n",
    "    1. print each country name with number of gold medals\n",
    "\n",
    "    2. print each country sale with total master of medals"
   ]
  },
  {
   "cell_type": "code",
   "execution_count": 18,
   "id": "60eed66f",
   "metadata": {},
   "outputs": [
    {
     "name": "stdout",
     "output_type": "stream",
     "text": [
      "Country: GBR, Gold Medals: 29\n",
      "Country: Chine, Gold Medals: 38\n",
      "Country: US, Gold Medals: 24\n",
      "Country: AS, Gold Medals: 46\n",
      "Country: OR, Gold Medals: 13\n",
      "Country: 2PM, Gold Medals: 7\n",
      "Country: GER, Gold Medals: 11\n",
      "\n",
      "Country: GBR, Total Medals: 65\n",
      "\n",
      "Country: Chine, Total Medals: 88\n",
      "\n",
      "Country: US, Total Medals: 81\n",
      "\n",
      "Country: AS, Total Medals: 103\n",
      "\n",
      "Country: OR, Total Medals: 28\n",
      "\n",
      "Country: 2PM, Total Medals: 38\n",
      "\n",
      "Country: GER, Total Medals: 36\n"
     ]
    }
   ],
   "source": [
    "total_medals = np_olympic_country_gold + np_olympic_country_silver + np_olympic_country_Bronze\n",
    "for i in range(len(np_olympic_country)):\n",
    "    print(f\"Country: {np_olympic_country[i]}, Gold Medals: {np_olympic_country_gold[i]}\")\n",
    "for i in range(len(np_olympic_country)):\n",
    "    print(f\"\\nCountry: {np_olympic_country[i]}, Total Medals: {total_medals[i]}\")"
   ]
  },
  {
   "cell_type": "code",
   "execution_count": null,
   "id": "24071544",
   "metadata": {},
   "outputs": [],
   "source": []
  }
 ],
 "metadata": {
  "kernelspec": {
   "display_name": "Python 3 (ipykernel)",
   "language": "python",
   "name": "python3"
  },
  "language_info": {
   "codemirror_mode": {
    "name": "ipython",
    "version": 3
   },
   "file_extension": ".py",
   "mimetype": "text/x-python",
   "name": "python",
   "nbconvert_exporter": "python",
   "pygments_lexer": "ipython3",
   "version": "3.11.4"
  }
 },
 "nbformat": 4,
 "nbformat_minor": 5
}
