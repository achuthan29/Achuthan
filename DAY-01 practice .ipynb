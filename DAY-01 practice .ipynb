{
 "cells": [
  {
   "cell_type": "markdown",
   "id": "605f7825",
   "metadata": {},
   "source": [
    "# 1.Manipulate using a list.\n",
    "\n",
    "1.To add new elements to the end of the list\n",
    "\n",
    "2.To reverse elements in the list\n",
    "\n",
    "3.To display the same list of elements multiple times.\n",
    "\n",
    "4.To concatenate two list\n",
    "\n",
    "5.To sort the elements in the list in ascending order"
   ]
  },
  {
   "cell_type": "code",
   "execution_count": 95,
   "id": "d41c6f2c",
   "metadata": {},
   "outputs": [],
   "source": [
    "list =[1,2,3,4,5]"
   ]
  },
  {
   "cell_type": "code",
   "execution_count": 96,
   "id": "327669af",
   "metadata": {},
   "outputs": [
    {
     "name": "stdout",
     "output_type": "stream",
     "text": [
      "[1, 2, 3, 4, 5]\n"
     ]
    }
   ],
   "source": [
    "print(list)"
   ]
  },
  {
   "cell_type": "code",
   "execution_count": 97,
   "id": "97cdb754",
   "metadata": {},
   "outputs": [
    {
     "name": "stdout",
     "output_type": "stream",
     "text": [
      "[1, 2, 3, 4, 5, 6]\n"
     ]
    }
   ],
   "source": [
    "list.append(6)\n",
    "print(list)"
   ]
  },
  {
   "cell_type": "code",
   "execution_count": 98,
   "id": "f6525aed",
   "metadata": {},
   "outputs": [
    {
     "name": "stdout",
     "output_type": "stream",
     "text": [
      "[6, 5, 4, 3, 2, 1]\n"
     ]
    }
   ],
   "source": [
    "list.reverse()\n",
    "print(list)"
   ]
  },
  {
   "cell_type": "code",
   "execution_count": 99,
   "id": "3a24c814",
   "metadata": {},
   "outputs": [
    {
     "name": "stdout",
     "output_type": "stream",
     "text": [
      "Enter the number of time to repeat5\n",
      "[1, 2, 3, 4, 5, 6]\n",
      "[1, 2, 3, 4, 5, 6]\n",
      "[1, 2, 3, 4, 5, 6]\n",
      "[1, 2, 3, 4, 5, 6]\n",
      "[1, 2, 3, 4, 5, 6]\n"
     ]
    }
   ],
   "source": [
    "list.reverse()\n",
    "no_of_times = int(input(\"Enter the number of time to repeat: \"))\n",
    "for rep in range(no_of_times):\n",
    "    print(list)"
   ]
  },
  {
   "cell_type": "code",
   "execution_count": 100,
   "id": "9058be14",
   "metadata": {},
   "outputs": [
    {
     "name": "stdout",
     "output_type": "stream",
     "text": [
      "[1, 2, 3, 4, 5, 'a', 'b', 'c', 'd']\n"
     ]
    }
   ],
   "source": [
    "listA = [1, 2, 3, 4, 5]\n",
    "listB = ['a', 'b', 'c', 'd']\n",
    "result_list = listA+listB\n",
    "print(result_list)"
   ]
  },
  {
   "cell_type": "code",
   "execution_count": 102,
   "id": "df6eb178",
   "metadata": {},
   "outputs": [
    {
     "name": "stdout",
     "output_type": "stream",
     "text": [
      "[40, 50, 60, 70, 80, 90, 100]\n"
     ]
    }
   ],
   "source": [
    "listC = [100, 90,80,70,50,40,60]\n",
    "listC.sort() \n",
    "print(listC)"
   ]
  },
  {
   "cell_type": "markdown",
   "id": "d6b7b7fe",
   "metadata": {},
   "source": [
    "# 2.Write a Python program to do in the tuples.\n",
    "\n",
    "1.Manipulate using tuples.\n",
    "\n",
    "2.To add new elements to the end of the tuples.\n",
    "\n",
    "3.To reverse elements in the list.\n",
    "\n",
    "4.To display the elements of the same tuple multiple times.\n",
    "\n",
    "5.To concatenate two tuples.\n",
    "\n",
    "6.To sort the elements in the list in ascending order."
   ]
  },
  {
   "cell_type": "code",
   "execution_count": 69,
   "id": "6456935c",
   "metadata": {},
   "outputs": [
    {
     "name": "stdout",
     "output_type": "stream",
     "text": [
      "(1, 2, 3, 4)\n"
     ]
    }
   ],
   "source": [
    "tuple = (1, 2, 3, 4)\n",
    "print(tuple)"
   ]
  },
  {
   "cell_type": "code",
   "execution_count": 72,
   "id": "7bcff237",
   "metadata": {},
   "outputs": [
    {
     "name": "stdout",
     "output_type": "stream",
     "text": [
      "(1, 2, 3, 4, 5)\n"
     ]
    }
   ],
   "source": [
    "tuple = tuple + (5,) \n",
    "print(tuple)"
   ]
  },
  {
   "cell_type": "code",
   "execution_count": 74,
   "id": "6dfccbb7",
   "metadata": {},
   "outputs": [
    {
     "name": "stdout",
     "output_type": "stream",
     "text": [
      "(1, 2, 3, 4, 5, 6, 7, 8, 9, 6, 7, 8, 9)\n"
     ]
    }
   ],
   "source": [
    "tuple2 = (6,7,8,9)\n",
    "tuple = tuple + tuple2\n",
    "print(tuple)"
   ]
  },
  {
   "cell_type": "code",
   "execution_count": 75,
   "id": "3a12af66",
   "metadata": {},
   "outputs": [
    {
     "name": "stdout",
     "output_type": "stream",
     "text": [
      "(9, 8, 7, 6, 9, 8, 7, 6, 5, 4, 3, 2, 1)\n"
     ]
    }
   ],
   "source": [
    "print(tuple[::-1])"
   ]
  },
  {
   "cell_type": "code",
   "execution_count": 77,
   "id": "1b6eca68",
   "metadata": {},
   "outputs": [
    {
     "name": "stdout",
     "output_type": "stream",
     "text": [
      "Enter the num of times10\n",
      "\n",
      " (1, 2, 3, 4, 5, 6, 7, 8, 9, 6, 7, 8, 9, 1, 2, 3, 4, 5, 6, 7, 8, 9, 6, 7, 8, 9, 1, 2, 3, 4, 5, 6, 7, 8, 9, 6, 7, 8, 9, 1, 2, 3, 4, 5, 6, 7, 8, 9, 6, 7, 8, 9, 1, 2, 3, 4, 5, 6, 7, 8, 9, 6, 7, 8, 9, 1, 2, 3, 4, 5, 6, 7, 8, 9, 6, 7, 8, 9, 1, 2, 3, 4, 5, 6, 7, 8, 9, 6, 7, 8, 9, 1, 2, 3, 4, 5, 6, 7, 8, 9, 6, 7, 8, 9, 1, 2, 3, 4, 5, 6, 7, 8, 9, 6, 7, 8, 9, 1, 2, 3, 4, 5, 6, 7, 8, 9, 6, 7, 8, 9)\n"
     ]
    }
   ],
   "source": [
    "rep = int(input(\"Enter the num of times\"))\n",
    "new_tuple = tuple*rep\n",
    "print('\\n',new_tuple)\n"
   ]
  },
  {
   "cell_type": "code",
   "execution_count": 80,
   "id": "627f0ddf",
   "metadata": {},
   "outputs": [
    {
     "name": "stdout",
     "output_type": "stream",
     "text": [
      "('Apple', 'Banana', 'Strawberry', 'Carrot', 'Beetroot', 'lemon')\n"
     ]
    }
   ],
   "source": [
    "fruits = (\"Apple\", \"Banana\", \"Strawberry\")\n",
    "vegetable = (\"Carrot\", \"Beetroot\", \"lemon\")\n",
    "grocery_list = fruits + vegetable\n",
    "\n",
    "print(grocery_list)"
   ]
  },
  {
   "cell_type": "code",
   "execution_count": 81,
   "id": "1e5bcd73",
   "metadata": {},
   "outputs": [
    {
     "name": "stdout",
     "output_type": "stream",
     "text": [
      "['Apple', 'Banana', 'Beetroot', 'Carrot', 'Strawberry', 'lemon']\n"
     ]
    }
   ],
   "source": [
    "items = []\n",
    "for i in range (len(grocery_list)):\n",
    "    items.append(grocery_list[i])\n",
    "    \n",
    "items.sort()\n",
    "print(items)"
   ]
  },
  {
   "cell_type": "markdown",
   "id": "842ee693",
   "metadata": {},
   "source": [
    "# 3. Write a python program to implement the following using list.\n",
    "\n",
    "1.Create a list with integers (minimum 10 numbers)\n",
    "\n",
    "2.How to display the last number in the list.\n",
    "\n",
    "3.Command for displaying the values from the list [0:4]\n",
    "\n",
    "4.Command for displaying the values from the list [2:]\n",
    "\n",
    "5.Command for displaying the values from the list [:6]"
   ]
  },
  {
   "cell_type": "code",
   "execution_count": 83,
   "id": "08eb6b8a",
   "metadata": {},
   "outputs": [
    {
     "name": "stdout",
     "output_type": "stream",
     "text": [
      "[1, 2, 3, 4, 5, 6, 7, 8, 9, 10]\n"
     ]
    }
   ],
   "source": [
    "nums = [1,2,3,4,5,6,7,8,9,10]\n",
    "\n",
    "print(nums)"
   ]
  },
  {
   "cell_type": "code",
   "execution_count": 84,
   "id": "5b628a7e",
   "metadata": {},
   "outputs": [
    {
     "name": "stdout",
     "output_type": "stream",
     "text": [
      "10\n"
     ]
    }
   ],
   "source": [
    "print(nums[-1])"
   ]
  },
  {
   "cell_type": "code",
   "execution_count": 85,
   "id": "5acb9ae0",
   "metadata": {},
   "outputs": [
    {
     "name": "stdout",
     "output_type": "stream",
     "text": [
      "[2, 3, 4, 5]\n"
     ]
    }
   ],
   "source": [
    "print(nums[1:5])"
   ]
  },
  {
   "cell_type": "code",
   "execution_count": 86,
   "id": "b9269b80",
   "metadata": {},
   "outputs": [
    {
     "name": "stdout",
     "output_type": "stream",
     "text": [
      "[3, 4, 5, 6, 7, 8, 9, 10]\n"
     ]
    }
   ],
   "source": [
    "print(nums[2:])"
   ]
  },
  {
   "cell_type": "code",
   "execution_count": 87,
   "id": "38e46003",
   "metadata": {},
   "outputs": [
    {
     "name": "stdout",
     "output_type": "stream",
     "text": [
      "[1, 2, 3, 4, 5, 6]\n"
     ]
    }
   ],
   "source": [
    "print(nums[:6])"
   ]
  },
  {
   "cell_type": "markdown",
   "id": "16bf9ede",
   "metadata": {},
   "source": [
    "# 4. Write a Python program: tuple1 = (10,50,20,40,30)\n",
    "\n",
    "1.To display the elements 10 and 50 from tuple1\n",
    "\n",
    "2.To display the length of a tuple1.\n",
    "\n",
    "3.To find the minimum element from tuple1\n",
    "\n",
    "4.To add all elements in the tuple1.\n",
    "\n",
    "5.To display the same tuple1 multiple times"
   ]
  },
  {
   "cell_type": "code",
   "execution_count": 88,
   "id": "87c92d14",
   "metadata": {},
   "outputs": [
    {
     "name": "stdout",
     "output_type": "stream",
     "text": [
      "(10, 50)\n"
     ]
    }
   ],
   "source": [
    "tuple1 = (10,50,20,40,30)\n",
    "print(tuple1[:2])"
   ]
  },
  {
   "cell_type": "code",
   "execution_count": 89,
   "id": "abdbaf25",
   "metadata": {},
   "outputs": [
    {
     "name": "stdout",
     "output_type": "stream",
     "text": [
      "5\n"
     ]
    }
   ],
   "source": [
    "print(len(tuple1))"
   ]
  },
  {
   "cell_type": "code",
   "execution_count": 90,
   "id": "9b1dc5cb",
   "metadata": {},
   "outputs": [
    {
     "name": "stdout",
     "output_type": "stream",
     "text": [
      "10\n"
     ]
    }
   ],
   "source": [
    "print(min(tuple1))"
   ]
  },
  {
   "cell_type": "code",
   "execution_count": 91,
   "id": "a3fa1e2c",
   "metadata": {},
   "outputs": [
    {
     "name": "stdout",
     "output_type": "stream",
     "text": [
      "150\n"
     ]
    }
   ],
   "source": [
    "print(sum(tuple1))"
   ]
  },
  {
   "cell_type": "code",
   "execution_count": 93,
   "id": "3aa11e36",
   "metadata": {},
   "outputs": [
    {
     "name": "stdout",
     "output_type": "stream",
     "text": [
      "Enter count: 3\n",
      "(10, 50, 20, 40, 30, 10, 50, 20, 40, 30, 10, 50, 20, 40, 30)\n"
     ]
    }
   ],
   "source": [
    "rep = int(input(\"Enter count: \"))\n",
    "print(tuple1*rep)"
   ]
  },
  {
   "cell_type": "code",
   "execution_count": null,
   "id": "0b0cd6de",
   "metadata": {},
   "outputs": [],
   "source": []
  },
  {
   "cell_type": "markdown",
   "id": "31e011ea",
   "metadata": {},
   "source": [
    "# 5. Write a Python program:\n",
    "\n",
    "1.To calculate the length of a string\n",
    "\n",
    "2.To reverse words in a string\n",
    "\n",
    "3.To display the same string multiple times\n",
    "\n",
    "4.To concatenate two strings\n",
    "\n",
    "5.Str1\" South India\", using string slicing to display \"India\""
   ]
  },
  {
   "cell_type": "code",
   "execution_count": 59,
   "id": "1d188463",
   "metadata": {},
   "outputs": [
    {
     "name": "stdout",
     "output_type": "stream",
     "text": [
      "16\n"
     ]
    }
   ],
   "source": [
    "movie = \"Avenger End Game\"\n",
    "print(len(movie))"
   ]
  },
  {
   "cell_type": "code",
   "execution_count": 60,
   "id": "53134f00",
   "metadata": {},
   "outputs": [
    {
     "name": "stdout",
     "output_type": "stream",
     "text": [
      "['Game', 'End', 'Avenger']\n"
     ]
    }
   ],
   "source": [
    "words = movie.split()\n",
    "rev_words = words[::-1]\n",
    "print(rev_words)"
   ]
  },
  {
   "cell_type": "code",
   "execution_count": 63,
   "id": "4d223f7a",
   "metadata": {},
   "outputs": [
    {
     "name": "stdout",
     "output_type": "stream",
     "text": [
      "Avenger End Game\n",
      "Avenger End Game\n",
      "Avenger End Game\n",
      "Avenger End Game\n",
      "Avenger End Game\n",
      "Avenger End Game\n",
      "Avenger End Game\n",
      "Avenger End Game\n",
      "Avenger End Game\n",
      "Avenger End Game\n",
      "\n"
     ]
    }
   ],
   "source": [
    "print((movie+\"\\n\")*10)"
   ]
  },
  {
   "cell_type": "code",
   "execution_count": 64,
   "id": "889095a7",
   "metadata": {},
   "outputs": [
    {
     "name": "stdout",
     "output_type": "stream",
     "text": [
      "Avengers End Game\n"
     ]
    }
   ],
   "source": [
    "movie = \"Avengers\"\n",
    "tag = \" End Game\"\n",
    "\n",
    "movie_title = movie+tag\n",
    "print(movie_title)"
   ]
  },
  {
   "cell_type": "code",
   "execution_count": 15,
   "id": "cc0dce14",
   "metadata": {},
   "outputs": [
    {
     "name": "stdout",
     "output_type": "stream",
     "text": [
      "India\n"
     ]
    }
   ],
   "source": [
    "Str1 = \"South India\"\n",
    "print(Str1[6:])"
   ]
  },
  {
   "cell_type": "markdown",
   "id": "8d317fe1",
   "metadata": {},
   "source": [
    "# 6.Perform the following\n",
    "\n",
    "1.Cretaing the dictionary.\n",
    "\n",
    "2.Accessing the values and keys in the Dictionary.\n",
    "\n",
    "3.Updating the dictionary using a function.\n",
    "\n",
    "4.Clear and delete the dictionary values."
   ]
  },
  {
   "cell_type": "code",
   "execution_count": 55,
   "id": "68228a96",
   "metadata": {},
   "outputs": [
    {
     "name": "stdout",
     "output_type": "stream",
     "text": [
      "{'Name': 'MSD', 'Age': 45, 'Sport': 'cricket', 'contry': 'India'}\n"
     ]
    }
   ],
   "source": [
    "player = {'Name': \"MSD\", \"Age\": 45, \"Sport\":\"cricket\", \"contry\": \"India\"}\n",
    "print(player)"
   ]
  },
  {
   "cell_type": "code",
   "execution_count": 56,
   "id": "8238cafd",
   "metadata": {},
   "outputs": [
    {
     "name": "stdout",
     "output_type": "stream",
     "text": [
      "Name:MSD\n",
      "Age:45\n",
      "Sport:cricket\n",
      "contry:India\n"
     ]
    }
   ],
   "source": [
    "for i, j in player.items():\n",
    "    print(f\"{i}:{j}\")"
   ]
  },
  {
   "cell_type": "code",
   "execution_count": 57,
   "id": "ec5b8f32",
   "metadata": {},
   "outputs": [
    {
     "name": "stdout",
     "output_type": "stream",
     "text": [
      "{'Name': 'MSD', 'Age': 45, 'Sport': 'cricket', 'contry': 'India', 'Home town': 'Ranchi'}\n"
     ]
    }
   ],
   "source": [
    "def update_player(player, i, j):\n",
    "    player[i] = j\n",
    "    \n",
    "update_player(player, \"Home town\", \"Ranchi\")\n",
    "\n",
    "print(player)"
   ]
  },
  {
   "cell_type": "code",
   "execution_count": 58,
   "id": "8c911244",
   "metadata": {},
   "outputs": [
    {
     "name": "stdout",
     "output_type": "stream",
     "text": [
      "{'Name': 'MSD', 'Age': 45, 'Sport': 'cricket', 'contry': 'India', 'Home town': 'Ranchi'}\n"
     ]
    }
   ],
   "source": [
    "player_details = player.copy()\n",
    "\n",
    "player.clear()\n",
    "\n",
    "del player\n",
    "\n",
    "# print(player)\n",
    "print(player_details)"
   ]
  },
  {
   "cell_type": "markdown",
   "id": "396eaace",
   "metadata": {},
   "source": [
    "# 7.Python program to insert a number to any position in a list"
   ]
  },
  {
   "cell_type": "code",
   "execution_count": 31,
   "id": "436d5bed",
   "metadata": {},
   "outputs": [
    {
     "name": "stdout",
     "output_type": "stream",
     "text": [
      "number:  [12, 34, 32, 43, 67, 53, 99, 78, 102, 83, 56, 43]\n",
      "\n",
      " Insert 3rd position:  [12, 34, 32, 1000, 43, 67, 53, 99, 78, 102, 83, 56, 43]\n"
     ]
    }
   ],
   "source": [
    "nums = [12, 34, 32, 43, 67, 53, 99, 78, 102, 83, 56, 43]\n",
    "\n",
    "print(\"number: \",nums)\n",
    "\n",
    "nums.insert(3, 1000)\n",
    "print('\\n Insert 3rd position: ' ,nums)"
   ]
  },
  {
   "cell_type": "markdown",
   "id": "bcf259db",
   "metadata": {},
   "source": [
    "# 8.Pyton program to delete an element from a list by index"
   ]
  },
  {
   "cell_type": "code",
   "execution_count": 28,
   "id": "ba017643",
   "metadata": {},
   "outputs": [
    {
     "name": "stdout",
     "output_type": "stream",
     "text": [
      "number:  [12, 34, 32, 1000, 67, 99, 78, 102, 83, 56, 43]\n",
      "delete 4th element : [12, 34, 32, 1000, 99, 78, 102, 83, 56, 43]\n",
      "delete 5th element : [12, 34, 32, 1000, 99, 102, 83, 56, 43]\n"
     ]
    }
   ],
   "source": [
    "print(\"number: \",nums)\n",
    "\n",
    "nums.pop(4)\n",
    "\n",
    "print(\"delete 4th element :\",nums)\n",
    "\n",
    "del nums[5]\n",
    "print(\"delete 5th element :\",nums)"
   ]
  },
  {
   "cell_type": "markdown",
   "id": "bd800fcf",
   "metadata": {},
   "source": [
    "# 9.Write a program to display the numbers from 1 to 100"
   ]
  },
  {
   "cell_type": "code",
   "execution_count": 36,
   "id": "72a43721",
   "metadata": {},
   "outputs": [
    {
     "name": "stdout",
     "output_type": "stream",
     "text": [
      "1\n",
      "2\n",
      "3\n",
      "4\n",
      "5\n",
      "6\n",
      "7\n",
      "8\n",
      "9\n",
      "10\n",
      "11\n",
      "12\n",
      "13\n",
      "14\n",
      "15\n",
      "16\n",
      "17\n",
      "18\n",
      "19\n",
      "20\n",
      "21\n",
      "22\n",
      "23\n",
      "24\n",
      "25\n",
      "26\n",
      "27\n",
      "28\n",
      "29\n",
      "30\n",
      "31\n",
      "32\n",
      "33\n",
      "34\n",
      "35\n",
      "36\n",
      "37\n",
      "38\n",
      "39\n",
      "40\n",
      "41\n",
      "42\n",
      "43\n",
      "44\n",
      "45\n",
      "46\n",
      "47\n",
      "48\n",
      "49\n",
      "50\n",
      "51\n",
      "52\n",
      "53\n",
      "54\n",
      "55\n",
      "56\n",
      "57\n",
      "58\n",
      "59\n",
      "60\n",
      "61\n",
      "62\n",
      "63\n",
      "64\n",
      "65\n",
      "66\n",
      "67\n",
      "68\n",
      "69\n",
      "70\n",
      "71\n",
      "72\n",
      "73\n",
      "74\n",
      "75\n",
      "76\n",
      "77\n",
      "78\n",
      "79\n",
      "80\n",
      "81\n",
      "82\n",
      "83\n",
      "84\n",
      "85\n",
      "86\n",
      "87\n",
      "88\n",
      "89\n",
      "90\n",
      "91\n",
      "92\n",
      "93\n",
      "94\n",
      "95\n",
      "96\n",
      "97\n",
      "98\n",
      "99\n",
      "100\n"
     ]
    }
   ],
   "source": [
    "for num in range(1, 101):\n",
    "    print(num)"
   ]
  },
  {
   "cell_type": "markdown",
   "id": "943707da",
   "metadata": {},
   "source": [
    "# 10.write a python program to find the sum of all items in a tuple"
   ]
  },
  {
   "cell_type": "code",
   "execution_count": 34,
   "id": "10f43d1d",
   "metadata": {},
   "outputs": [
    {
     "name": "stdout",
     "output_type": "stream",
     "text": [
      "100\n"
     ]
    }
   ],
   "source": [
    "values = (1, 2, 3, 4, 5, 6, 7, 8, 9, 10, 9, 8, 7, 6, 5, 4, 3, 2, 1)\n",
    "print(sum(values))"
   ]
  },
  {
   "cell_type": "markdown",
   "id": "265f6d94",
   "metadata": {},
   "source": [
    "# 11 create a dictionary containing three lambda functions square, cube and square root"
   ]
  },
  {
   "cell_type": "code",
   "execution_count": 1,
   "id": "53d020f2",
   "metadata": {},
   "outputs": [
    {
     "name": "stdout",
     "output_type": "stream",
     "text": [
      "Enter a number: 5\n",
      "Square of 5 is 25\n",
      "Cube of 5 is 125\n",
      "Squareroot of 5 is 2.23606797749979\n"
     ]
    }
   ],
   "source": [
    "import math\n",
    "calculate = {\n",
    "    \"Square\": lambda x: x**2,\n",
    "    \"Cube\": lambda x: x**3,\n",
    "    \"Squareroot\": lambda x: math.sqrt(x)\n",
    "}\n",
    "number = int(input(\"Enter a number: \"))\n",
    "sq_res = calculate[\"Square\"](number)\n",
    "cb_res = calculate[\"Cube\"](number)\n",
    "sqrt_res = calculate[\"Squareroot\"](number)\n",
    "print(f\"Square of {number} is {sq_res}\")\n",
    "print(f\"Cube of {number} is {cb_res}\")\n",
    "print(f\"Squareroot of {number} is {sqrt_res}\")"
   ]
  },
  {
   "cell_type": "markdown",
   "id": "239a0cc3",
   "metadata": {},
   "source": [
    "# 12 A list of words is given."
   ]
  },
  {
   "cell_type": "code",
   "execution_count": 2,
   "id": "a3201f58",
   "metadata": {},
   "outputs": [
    {
     "name": "stdout",
     "output_type": "stream",
     "text": [
      "['hello', 'Dear', 'hOw', 'ARe', 'You']\n",
      "['hOw', 'ARe']\n"
     ]
    }
   ],
   "source": [
    "ls = [\"hello\", \"Dear\", \"hOw\", \"ARe\", \"You\"]\n",
    "res = []\n",
    "for i in ls:\n",
    "    if i[1].isupper():\n",
    "        res.append(i)\n",
    "        \n",
    "print(ls)\n",
    "print(res)"
   ]
  },
  {
   "cell_type": "markdown",
   "id": "71160a56",
   "metadata": {},
   "source": [
    "# 13. A dictionary of names and their weights on earth is given. Find how much they will weigh on the moon. (Use map and lambda functions) Formula: wMoon = (wEarth GMoon) / GEarth"
   ]
  },
  {
   "cell_type": "code",
   "execution_count": 3,
   "id": "8338ea17",
   "metadata": {},
   "outputs": [],
   "source": [
    "# Weight of people in kg\n",
    "WeightOnEarth = {'John': 45, 'Shelly': 65, 'Marry': 35}\n"
   ]
  },
  {
   "cell_type": "code",
   "execution_count": 4,
   "id": "87469ac6",
   "metadata": {},
   "outputs": [],
   "source": [
    "# Gravitational force on the Moon: 1.622 m/s^2\n",
    "GMoon = 1.622\n"
   ]
  },
  {
   "cell_type": "code",
   "execution_count": 5,
   "id": "2475772c",
   "metadata": {},
   "outputs": [],
   "source": [
    "# Gravitational force on the Earth: 9.81 m/s^2\n",
    "GEarth = 9.81\n",
    "\n"
   ]
  },
  {
   "cell_type": "code",
   "execution_count": 6,
   "id": "82fee1ff",
   "metadata": {},
   "outputs": [],
   "source": [
    "# Calculate weight on the Moon for each person\n",
    "WeightOnMoon = list(map(lambda person: (person[0], (person[1] * GMoon) / GEarth), WeightOnEarth.items()))\n",
    "\n"
   ]
  },
  {
   "cell_type": "code",
   "execution_count": 7,
   "id": "e2df68c1",
   "metadata": {},
   "outputs": [
    {
     "name": "stdout",
     "output_type": "stream",
     "text": [
      "John's weight on the Moon: 7.44 kg\n",
      "Shelly's weight on the Moon: 10.75 kg\n",
      "Marry's weight on the Moon: 5.79 kg\n"
     ]
    }
   ],
   "source": [
    "# Print the results\n",
    "for person, weight_moon in WeightOnMoon:\n",
    "    print(f\"{person}'s weight on the Moon: {weight_moon:.2f} kg\")"
   ]
  },
  {
   "cell_type": "markdown",
   "id": "3bf91650",
   "metadata": {},
   "source": [
    "# Control Structures"
   ]
  },
  {
   "cell_type": "markdown",
   "id": "221657ec",
   "metadata": {},
   "source": [
    "# 1. Write a python program to find the first N Prime numbers.\n"
   ]
  },
  {
   "cell_type": "code",
   "execution_count": 9,
   "id": "7f7a9ba2",
   "metadata": {},
   "outputs": [
    {
     "name": "stdout",
     "output_type": "stream",
     "text": [
      "The sum of the first 10 prime numbers is: 129\n"
     ]
    }
   ],
   "source": [
    "def is_prime(num):\n",
    "    if num < 2:\n",
    "        return False\n",
    "    for i in range(2, int(num**0.5) + 1):\n",
    "        if num % i == 0:\n",
    "            return False\n",
    "    return True\n",
    "\n",
    "count = 0\n",
    "sum_of_primes = 0\n",
    "number = 2\n",
    "\n",
    "while count < 10:\n",
    "    if is_prime(number):\n",
    "        sum_of_primes += number\n",
    "        count += 1\n",
    "    number += 1\n",
    "\n",
    "print(f\"The sum of the first 10 prime numbers is: {sum_of_primes}\")"
   ]
  },
  {
   "cell_type": "markdown",
   "id": "bb55389b",
   "metadata": {},
   "source": [
    "# 2. Write the python code that calculates the salary of an employee. Prompt the user to enter the Basic Salary, HRA, TA, and DA. Add these components to calculate the Gross Salary. Also, deduct 10% of salary from the Gross Salary to be paid as tax and display gross minus tax as net salary.\n",
    "\n"
   ]
  },
  {
   "cell_type": "code",
   "execution_count": 13,
   "id": "ac3d26c4",
   "metadata": {},
   "outputs": [
    {
     "name": "stdout",
     "output_type": "stream",
     "text": [
      "Enter the Basic Salary: 25000\n",
      "Enter the HRA: 1500\n",
      "Enter the TA: 1000\n",
      "Enter the DA: 500\n",
      "Net Salary: 25200.0\n"
     ]
    }
   ],
   "source": [
    "def calculate_salary(basic_salary, hra, ta, da):\n",
    "    gross_salary = basic_salary + hra + ta + da\n",
    "    tax = gross_salary * 0.1\n",
    "    net_salary = gross_salary - tax\n",
    "    return net_salary\n",
    "basic_salary = float(input(\"Enter the Basic Salary: \"))\n",
    "hra = float(input(\"Enter the HRA: \"))\n",
    "ta = float(input(\"Enter the TA: \"))\n",
    "da = float(input(\"Enter the DA: \"))\n",
    "\n",
    "net_salary = calculate_salary(basic_salary, hra, ta, da)\n",
    "\n",
    "print(\"Net Salary:\",net_salary)"
   ]
  },
  {
   "cell_type": "markdown",
   "id": "6d4e15c1",
   "metadata": {},
   "source": [
    "# 3. Write a python program to search for a string in the given list.\n"
   ]
  },
  {
   "cell_type": "code",
   "execution_count": 40,
   "id": "adc1684e",
   "metadata": {},
   "outputs": [
    {
     "name": "stdout",
     "output_type": "stream",
     "text": [
      "Enter the string to search: durian\n",
      "String found at index 3\n"
     ]
    }
   ],
   "source": [
    "def search_string(list, string):\n",
    "    for i in range(len(list)):\n",
    "         if list[i] == string:\n",
    "            return i\n",
    "    return -1\n",
    "list = [\"apple\", \"banana\", \"cherry\", \"durian\"]\n",
    "\n",
    "string = input(\"Enter the string to search: \")\n",
    "\n",
    "index = search_string(list, string)\n",
    "\n",
    "if index == -1:\n",
    "    print(\"String not found\")\n",
    "else:\n",
    "    print(\"String found at index\",index)"
   ]
  },
  {
   "cell_type": "markdown",
   "id": "f9d76bd1",
   "metadata": {},
   "source": [
    "# 4. Write a Python function that accepts a string and calculates the number of upper-case letters and lower-case letters."
   ]
  },
  {
   "cell_type": "code",
   "execution_count": 47,
   "id": "df7a7678",
   "metadata": {},
   "outputs": [
    {
     "name": "stdout",
     "output_type": "stream",
     "text": [
      "No.of.Upper case letters: 3\n",
      "No.of.Lower case letters: 4\n"
     ]
    }
   ],
   "source": [
    "def Count(str):\n",
    "    upper, lower = 0, 0\n",
    "    for i in range(len(str)):\n",
    "        if str[i].isupper():\n",
    "            upper += 1\n",
    "        else: \n",
    "            str[i].islower()\n",
    "            lower += 1\n",
    "    print('No.of.Upper case letters:', upper)\n",
    "    print('No.of.Lower case letters:', lower)\n",
    "    \n",
    "str = \"MPHasis\"\n",
    "Count(str)"
   ]
  },
  {
   "cell_type": "markdown",
   "id": "8d624514",
   "metadata": {},
   "source": [
    "# 5. Write a program to display the sum of odd numbers and even numbers that fall between 12 and 37\n"
   ]
  },
  {
   "cell_type": "code",
   "execution_count": 65,
   "id": "7e4be9ce",
   "metadata": {},
   "outputs": [
    {
     "name": "stdout",
     "output_type": "stream",
     "text": [
      "Sum of even numbers: 312\n",
      "Sum of odd numbers: 325\n"
     ]
    }
   ],
   "source": [
    "sum_odd = 0\n",
    "sum_even = 0\n",
    "\n",
    "for num in range(12, 38):\n",
    "    if num % 2 == 0:\n",
    "        sum_even += num\n",
    "    else:\n",
    "        sum_odd += num\n",
    "\n",
    "print(\"Sum of even numbers:\", sum_even)\n",
    "print(\"Sum of odd numbers:\", sum_odd)"
   ]
  },
  {
   "cell_type": "markdown",
   "id": "66e551e8",
   "metadata": {},
   "source": [
    "# 6. Write a python Program to print the table of any number.\n",
    "\n"
   ]
  },
  {
   "cell_type": "code",
   "execution_count": 66,
   "id": "db801faa",
   "metadata": {},
   "outputs": [
    {
     "name": "stdout",
     "output_type": "stream",
     "text": [
      "Enter a number: 5\n",
      "Multiplication Table of 5:\n",
      "5 x 1 = 5\n",
      "5 x 2 = 10\n",
      "5 x 3 = 15\n",
      "5 x 4 = 20\n",
      "5 x 5 = 25\n",
      "5 x 6 = 30\n",
      "5 x 7 = 35\n",
      "5 x 8 = 40\n",
      "5 x 9 = 45\n",
      "5 x 10 = 50\n"
     ]
    }
   ],
   "source": [
    "num = int(input(\"Enter a number: \"))\n",
    "\n",
    "print(f\"Multiplication Table of {num}:\")\n",
    "for i in range(1, 11):\n",
    "    print(f\"{num} x {i} = {num * i}\")"
   ]
  },
  {
   "cell_type": "markdown",
   "id": "fa42c983",
   "metadata": {},
   "source": [
    "# 7. Write a Python program to sum the first 10 prime numbers,\n"
   ]
  },
  {
   "cell_type": "code",
   "execution_count": 67,
   "id": "e0218bf1",
   "metadata": {},
   "outputs": [
    {
     "name": "stdout",
     "output_type": "stream",
     "text": [
      "The sum of the first 10 prime numbers is: 129\n"
     ]
    }
   ],
   "source": [
    "def is_prime(num):\n",
    "    if num <= 1:\n",
    "        return False\n",
    "    if num <= 3:\n",
    "        return True\n",
    "    if num % 2 == 0 or num % 3 == 0:\n",
    "        return False\n",
    "    i = 5\n",
    "    while i * i <= num:\n",
    "        if num % i == 0 or num % (i + 2) == 0:\n",
    "            return False\n",
    "        i += 6\n",
    "    return True\n",
    "\n",
    "count = 0\n",
    "number = 2\n",
    "prime_sum = 0\n",
    "\n",
    "while count < 10:\n",
    "    if is_prime(number):\n",
    "        prime_sum += number\n",
    "        count += 1\n",
    "    number += 1\n",
    "\n",
    "print(\"The sum of the first 10 prime numbers is:\", prime_sum)"
   ]
  },
  {
   "cell_type": "markdown",
   "id": "0b509f40",
   "metadata": {},
   "source": [
    "# 8.Write a python program to implement arithmetic operations using nested if statement."
   ]
  },
  {
   "cell_type": "code",
   "execution_count": 68,
   "id": "78b00963",
   "metadata": {},
   "outputs": [
    {
     "name": "stdout",
     "output_type": "stream",
     "text": [
      "Enter the first number: 5\n",
      "Enter the second number: 7\n",
      "Enter an arithmetic operation (+, -, *, /): +\n",
      "Result: 12.0\n"
     ]
    }
   ],
   "source": [
    "num1 = float(input(\"Enter the first number: \"))\n",
    "num2 = float(input(\"Enter the second number: \"))\n",
    "\n",
    "operation = input(\"Enter an arithmetic operation (+, -, *, /): \")\n",
    "\n",
    "if operation == \"+\":\n",
    "    result = num1 + num2\n",
    "elif operation == \"-\":\n",
    "    result = num1 - num2\n",
    "elif operation == \"*\":\n",
    "    result = num1 * num2\n",
    "elif operation == \"/\":\n",
    "    if num2 != 0:\n",
    "        result = num1 / num2\n",
    "    else:\n",
    "        result = \"Division by zero is not allowed.\"\n",
    "else:\n",
    "    result = \"Invalid operation\"\n",
    "\n",
    "print(f\"Result: {result}\")"
   ]
  },
  {
   "cell_type": "markdown",
   "id": "4564be6f",
   "metadata": {},
   "source": [
    "# 9.Write a python program to take the temperature in Celsius and convert it to a Fahrenheit."
   ]
  },
  {
   "cell_type": "code",
   "execution_count": 69,
   "id": "795ff6b4",
   "metadata": {},
   "outputs": [
    {
     "name": "stdout",
     "output_type": "stream",
     "text": [
      "Enter temperature in Celsius: 5\n",
      "5.0 degrees Celsius is equal to 41.0 degrees Fahrenheit\n"
     ]
    }
   ],
   "source": [
    "celsius = float(input(\"Enter temperature in Celsius: \"))\n",
    "\n",
    "fahrenheit = (celsius * 9/5) + 32\n",
    "\n",
    "print(f\"{celsius} degrees Celsius is equal to {fahrenheit} degrees Fahrenheit\")"
   ]
  },
  {
   "cell_type": "markdown",
   "id": "fa8888f3",
   "metadata": {},
   "source": [
    "# 10.Write a python program to find a maximum and minimum number in a list without using an inbuilt function."
   ]
  },
  {
   "cell_type": "code",
   "execution_count": 72,
   "id": "9b64032d",
   "metadata": {},
   "outputs": [],
   "source": [
    "def find_max_min(numbers):\n",
    "    \n",
    "    if not numbers:\n",
    "        return None, None\n",
    "\n",
    "    maximum = minimum = numbers[0]\n",
    "    for number in numbers:\n",
    "        if number > maximum:\n",
    "            maximum = number\n",
    "        if number < minimum:\n",
    "            minimum = number\n",
    "\n",
    "    return maximum, minimum"
   ]
  },
  {
   "cell_type": "markdown",
   "id": "86e4ea14",
   "metadata": {},
   "source": [
    "# 11.Write a program in python to print out the number of seconds in 30-day month 30 days, 24 hours in a day, 60 minutes per day, 60 seconds in a minute."
   ]
  },
  {
   "cell_type": "code",
   "execution_count": 73,
   "id": "d021d9c7",
   "metadata": {},
   "outputs": [
    {
     "name": "stdout",
     "output_type": "stream",
     "text": [
      "There are 2592000 seconds in a 30-day month.\n"
     ]
    }
   ],
   "source": [
    "days_in_month = 30\n",
    "hours_in_day = 24\n",
    "minutes_in_hour = 60\n",
    "seconds_in_minute = 60\n",
    "\n",
    "seconds_in_30_days = days_in_month * hours_in_day * minutes_in_hour * seconds_in_minute\n",
    "\n",
    "print(f\"There are {seconds_in_30_days} seconds in a 30-day month.\")"
   ]
  },
  {
   "cell_type": "markdown",
   "id": "8b48f317",
   "metadata": {},
   "source": [
    "# 12.Write a program in python to print out the number of seconds in a year."
   ]
  },
  {
   "cell_type": "code",
   "execution_count": 74,
   "id": "15a12b47",
   "metadata": {},
   "outputs": [
    {
     "name": "stdout",
     "output_type": "stream",
     "text": [
      "The number of seconds in a year (assuming 365 days) is: 31536000 seconds\n"
     ]
    }
   ],
   "source": [
    "days_per_year = 365\n",
    "hours_per_day = 24\n",
    "minutes_per_hour = 60\n",
    "seconds_per_minute = 60\n",
    "\n",
    "total_seconds = days_per_year * hours_per_day * minutes_per_hour * seconds_per_minute\n",
    "\n",
    "print(f\"The number of seconds in a year (assuming 365 days) is: {total_seconds} seconds\")"
   ]
  },
  {
   "cell_type": "markdown",
   "id": "9747de39",
   "metadata": {},
   "source": [
    "# 13.A high-speed train can travel at an average speed of 150 mph, how long will it take a train travelling at this speed to travel from London to Glasgow which is 414 miles away?"
   ]
  },
  {
   "cell_type": "code",
   "execution_count": 75,
   "id": "c1ecca7a",
   "metadata": {},
   "outputs": [
    {
     "name": "stdout",
     "output_type": "stream",
     "text": [
      "It will take approximately 2 hours and 45.60 minutes to travel from London to Glasgow.\n"
     ]
    }
   ],
   "source": [
    "distance = 414\n",
    "speed = 150\n",
    "time_hours = distance / speed\n",
    "\n",
    "hours = int(time_hours)\n",
    "minutes = (time_hours - hours) * 60\n",
    "\n",
    "print(f\"It will take approximately {hours} hours and {minutes:.2f} minutes to travel from London to Glasgow.\")"
   ]
  },
  {
   "cell_type": "markdown",
   "id": "4ff10ac6",
   "metadata": {},
   "source": [
    "# 14.Write a python program that defines a variable called days in each school year and assign 192 to the variable. The program should then print out the total hours that you spend in school from year 7 to year 11, if each day you spend 6 hours in school days_in_each_school_year = 192"
   ]
  },
  {
   "cell_type": "code",
   "execution_count": 76,
   "id": "6e4328cb",
   "metadata": {},
   "outputs": [
    {
     "name": "stdout",
     "output_type": "stream",
     "text": [
      "Total hours spent in school from year 7 to year 11: 51840 hours\n"
     ]
    }
   ],
   "source": [
    "days_in_each_school_year = 192\n",
    "\n",
    "# Years 7 to 11\n",
    "years = range(7, 12)\n",
    "\n",
    "# Calculate the total hours spent in school\n",
    "total_hours = sum(year * days_in_each_school_year * 6 for year in years)\n",
    "\n",
    "print(f\"Total hours spent in school from year 7 to year 11: {total_hours} hours\")"
   ]
  },
  {
   "cell_type": "markdown",
   "id": "466fd63a",
   "metadata": {},
   "source": [
    "# 15.If the age of Ram,Sam and Khan are input through the keyboard,write a python program to determine the eldest and youngest of the three."
   ]
  },
  {
   "cell_type": "code",
   "execution_count": 78,
   "id": "d4fde357",
   "metadata": {},
   "outputs": [
    {
     "name": "stdout",
     "output_type": "stream",
     "text": [
      "Enter Ram's age: 25\n",
      "Enter Sam's age: 23\n",
      "Enter Khan's age: 34\n",
      "The eldest among Ram, Sam, and Khan is: Khan\n",
      "The youngest among Ram, Sam, and Khan is: Sam\n"
     ]
    }
   ],
   "source": [
    "ram_age = int(input(\"Enter Ram's age: \"))\n",
    "sam_age = int(input(\"Enter Sam's age: \"))\n",
    "khan_age = int(input(\"Enter Khan's age: \"))\n",
    "\n",
    "# Determine the eldest and youngest\n",
    "if ram_age >= sam_age and ram_age >= khan_age:\n",
    "    eldest = \"Ram\"\n",
    "    if sam_age <= khan_age:\n",
    "        youngest = \"Sam\"\n",
    "    else:\n",
    "        youngest = \"Khan\"\n",
    "elif sam_age >= ram_age and sam_age >= khan_age:\n",
    "    eldest = \"Sam\"\n",
    "    if ram_age <= khan_age:\n",
    "        youngest = \"Ram\"\n",
    "    else:\n",
    "        youngest = \"Khan\"\n",
    "else:\n",
    "    eldest = \"Khan\"\n",
    "    if ram_age <= sam_age:\n",
    "        youngest = \"Ram\"\n",
    "    else:\n",
    "        youngest = \"Sam\"\n",
    "\n",
    "# Print the results\n",
    "print(f\"The eldest among Ram, Sam, and Khan is: {eldest}\")\n",
    "print(f\"The youngest among Ram, Sam, and Khan is: {youngest}\")"
   ]
  },
  {
   "cell_type": "markdown",
   "id": "4cf51ec4",
   "metadata": {},
   "source": [
    "# 16.Write a python program to rotate a list by right in times with and without slicing technique."
   ]
  },
  {
   "cell_type": "code",
   "execution_count": 79,
   "id": "61813682",
   "metadata": {},
   "outputs": [
    {
     "name": "stdout",
     "output_type": "stream",
     "text": [
      "Enter the number of times to rotate to the right: 45\n",
      "Rotated list using slicing technique: [1, 2, 3, 4, 5]\n",
      "Enter the number of times to rotate to the right: 25\n",
      "Rotated list without slicing technique: [1, 2, 3, 4, 5]\n"
     ]
    }
   ],
   "source": [
    "def rotate_list_using_slicing(input_list, n):\n",
    "    if len(input_list) == 0:\n",
    "        return input_list\n",
    "    \n",
    "    n %= len(input_list)  # Ensure n is within the length of the list\n",
    "    rotated_list = input_list[-n:] + input_list[:-n]\n",
    "    return rotated_list\n",
    "\n",
    "# Input list\n",
    "my_list = [1, 2, 3, 4, 5]\n",
    "n = int(input(\"Enter the number of times to rotate to the right: \"))\n",
    "\n",
    "rotated_list = rotate_list_using_slicing(my_list, n)\n",
    "print(\"Rotated list using slicing technique:\", rotated_list)\n",
    "\n",
    "def rotate_list_without_slicing(input_list, n):\n",
    "    if len(input_list) == 0:\n",
    "        return input_list\n",
    "    \n",
    "    n %= len(input_list)  # Ensure n is within the length of the list\n",
    "    for _ in range(n):\n",
    "        temp = input_list.pop()\n",
    "        input_list.insert(0, temp)\n",
    "    return input_list\n",
    "\n",
    "# Input list\n",
    "my_list = [1, 2, 3, 4, 5]\n",
    "n = int(input(\"Enter the number of times to rotate to the right: \"))\n",
    "\n",
    "rotated_list = rotate_list_without_slicing(my_list, n)\n",
    "print(\"Rotated list without slicing technique:\", rotated_list)"
   ]
  },
  {
   "cell_type": "markdown",
   "id": "fc814278",
   "metadata": {},
   "source": [
    "# 17.Python program to print the patterns given below"
   ]
  },
  {
   "cell_type": "code",
   "execution_count": 80,
   "id": "e475bf5f",
   "metadata": {},
   "outputs": [
    {
     "name": "stdout",
     "output_type": "stream",
     "text": [
      "Enter the number of rows: 5\n",
      "1 \n",
      "1 1 \n",
      "1 2 1 \n",
      "1 3 3 1 \n",
      "1 4 6 4 1 \n"
     ]
    }
   ],
   "source": [
    "n = int(input(\"Enter the number of rows: \"))\n",
    "\n",
    "def binomial_coefficient(n, k):\n",
    "    if k == 0 or k == n:\n",
    "        return 1\n",
    "    return binomial_coefficient(n - 1, k - 1) + binomial_coefficient(n - 1, k)\n",
    "\n",
    "for i in range(n):\n",
    "    for j in range(i + 1):\n",
    "        print(binomial_coefficient(i, j), end=\" \")\n",
    "    print()"
   ]
  },
  {
   "cell_type": "code",
   "execution_count": 81,
   "id": "f60c88c7",
   "metadata": {},
   "outputs": [
    {
     "name": "stdout",
     "output_type": "stream",
     "text": [
      "Object `program` not found.\n",
      "* \n",
      "* * \n",
      "* * * \n",
      "* * * * \n",
      "* * * * * \n",
      "Enter the number of rows: 5\n",
      "    * \n",
      "   * * \n",
      "  * * * \n",
      " * * * * \n",
      "* * * * * \n",
      "\n",
      "P\n",
      "Py\n",
      "Pyt\n",
      "Pyth\n",
      "Pytho\n",
      "Python\n",
      "Python program\n"
     ]
    }
   ],
   "source": [
    "get_ipython().run_line_magic('pinfo', 'program')\n",
    "\n",
    "n = 5  # Number of rows\n",
    "\n",
    "for i in range(n):\n",
    "    # Inner loop for columns\n",
    "    for j in range(i + 1):\n",
    "        print(\"*\", end=\" \")\n",
    "    print()  # Move to the next line after each row\n",
    "\n",
    "\n",
    "3 # Input the number of rows for the pattern\n",
    "n = int(input(\"Enter the number of rows: \"))\n",
    "\n",
    "# Loop to print the pattern\n",
    "for i in range(1, n + 1):\n",
    "    print(\" \" * (n - i), end=\"\")  # Print spaces before asterisks\n",
    "    print(\"* \" * i)  # Print asterisks with a space in between\n",
    "\n",
    "\n",
    "# In[25]:\n",
    "\n",
    "\n",
    "word = \"Python\"\n",
    "for i in range(len(word) + 1):\n",
    "    print(word[:i])\n",
    "print(\"Python program\")"
   ]
  },
  {
   "cell_type": "code",
   "execution_count": null,
   "id": "3f326739",
   "metadata": {},
   "outputs": [],
   "source": []
  }
 ],
 "metadata": {
  "kernelspec": {
   "display_name": "Python 3 (ipykernel)",
   "language": "python",
   "name": "python3"
  },
  "language_info": {
   "codemirror_mode": {
    "name": "ipython",
    "version": 3
   },
   "file_extension": ".py",
   "mimetype": "text/x-python",
   "name": "python",
   "nbconvert_exporter": "python",
   "pygments_lexer": "ipython3",
   "version": "3.11.4"
  }
 },
 "nbformat": 4,
 "nbformat_minor": 5
}
