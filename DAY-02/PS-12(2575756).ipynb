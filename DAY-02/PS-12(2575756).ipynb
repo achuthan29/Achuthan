{
 "cells": [
  {
   "cell_type": "markdown",
   "id": "04674006",
   "metadata": {},
   "source": [
    "# 12. Write a python Function to find the number of digits and sum of digits for a given integer."
   ]
  },
  {
   "cell_type": "code",
   "execution_count": 1,
   "id": "feeba723",
   "metadata": {},
   "outputs": [
    {
     "name": "stdout",
     "output_type": "stream",
     "text": [
      "Enter an integer: 25\n",
      "Number of digits: 2\n",
      "Sum of digits: 7\n"
     ]
    }
   ],
   "source": [
    "def find_digits_and_sum(num):\n",
    "    num_str = str(num)\n",
    "    num_digits = len(num_str)\n",
    "    digit_sum = sum(int(digit) for digit in num_str)\n",
    "    return num_digits, digit_sum\n",
    "number = int(input(\"Enter an integer: \"))\n",
    "num_digits, digit_sum = find_digits_and_sum(number)\n",
    "print(f\"Number of digits: {num_digits}\")\n",
    "print(f\"Sum of digits: {digit_sum}\")\n"
   ]
  },
  {
   "cell_type": "code",
   "execution_count": null,
   "id": "44fbb7ed",
   "metadata": {},
   "outputs": [],
   "source": []
  }
 ],
 "metadata": {
  "kernelspec": {
   "display_name": "Python 3 (ipykernel)",
   "language": "python",
   "name": "python3"
  },
  "language_info": {
   "codemirror_mode": {
    "name": "ipython",
    "version": 3
   },
   "file_extension": ".py",
   "mimetype": "text/x-python",
   "name": "python",
   "nbconvert_exporter": "python",
   "pygments_lexer": "ipython3",
   "version": "3.11.4"
  }
 },
 "nbformat": 4,
 "nbformat_minor": 5
}
