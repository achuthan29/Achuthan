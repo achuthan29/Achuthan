{
 "cells": [
  {
   "cell_type": "markdown",
   "id": "0c3ac27e",
   "metadata": {},
   "source": [
    "# 7.Write a python Function to count the number of vowels in a string.\n"
   ]
  },
  {
   "cell_type": "code",
   "execution_count": 1,
   "id": "54caf47a",
   "metadata": {},
   "outputs": [
    {
     "name": "stdout",
     "output_type": "stream",
     "text": [
      "Number of vowels in 'Hello, World!': 3\n"
     ]
    }
   ],
   "source": [
    "def count_vowels(string):\n",
    "    vowels = set(\"aeiouAEIOU\")\n",
    "    vowel_count = 0\n",
    "    for char in string:\n",
    "        if char in vowels:\n",
    "            vowel_count += 1\n",
    "    return vowel_count\n",
    "input_string = \"Hello, World!\"\n",
    "result = count_vowels(input_string)\n",
    "print(f\"Number of vowels in '{input_string}': {result}\")\n"
   ]
  },
  {
   "cell_type": "code",
   "execution_count": null,
   "id": "0a6cd29d",
   "metadata": {},
   "outputs": [],
   "source": []
  }
 ],
 "metadata": {
  "kernelspec": {
   "display_name": "Python 3 (ipykernel)",
   "language": "python",
   "name": "python3"
  },
  "language_info": {
   "codemirror_mode": {
    "name": "ipython",
    "version": 3
   },
   "file_extension": ".py",
   "mimetype": "text/x-python",
   "name": "python",
   "nbconvert_exporter": "python",
   "pygments_lexer": "ipython3",
   "version": "3.11.4"
  }
 },
 "nbformat": 4,
 "nbformat_minor": 5
}
