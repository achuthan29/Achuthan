{
 "cells": [
  {
   "cell_type": "markdown",
   "id": "818be0bd",
   "metadata": {},
   "source": [
    "# 14. Write functions called nested_sum that takes a list of integers and adds up the elements from all the nested lists and cumsum that takes a list of numbers and returns the cumulative sum; that is, a new list where the ith element is the sum of the first i + 1 elements from the original list."
   ]
  },
  {
   "cell_type": "code",
   "execution_count": 2,
   "id": "2291231c",
   "metadata": {},
   "outputs": [
    {
     "name": "stdout",
     "output_type": "stream",
     "text": [
      "Nested Sum: 36\n",
      "Cumulative Sum: [1, 3, 6, 10, 15]\n"
     ]
    }
   ],
   "source": [
    "def nested_sum(nested_list):\n",
    "    total = 0\n",
    "    for sublist in nested_list:\n",
    "        total += sum(sublist)\n",
    "    return total\n",
    "def cumsum(input_list):\n",
    "    cumulative_sum = []\n",
    "    current_sum = 0\n",
    "    for num in input_list:\n",
    "        current_sum += num\n",
    "        cumulative_sum.append(current_sum)\n",
    "    return cumulative_sum\n",
    "\n",
    "nested_numbers = [[1, 2], [3,4, 5], [6, 7, 8]]\n",
    "result_nested = nested_sum(nested_numbers)\n",
    "print(\"Nested Sum:\", result_nested)  \n",
    "\n",
    "numbers = [1, 2, 3, 4, 5]\n",
    "result_cumsum = cumsum(numbers)\n",
    "print(\"Cumulative Sum:\", result_cumsum) \n"
   ]
  },
  {
   "cell_type": "code",
   "execution_count": null,
   "id": "35a62d50",
   "metadata": {},
   "outputs": [],
   "source": []
  },
  {
   "cell_type": "code",
   "execution_count": null,
   "id": "3070b15d",
   "metadata": {},
   "outputs": [],
   "source": []
  }
 ],
 "metadata": {
  "kernelspec": {
   "display_name": "Python 3 (ipykernel)",
   "language": "python",
   "name": "python3"
  },
  "language_info": {
   "codemirror_mode": {
    "name": "ipython",
    "version": 3
   },
   "file_extension": ".py",
   "mimetype": "text/x-python",
   "name": "python",
   "nbconvert_exporter": "python",
   "pygments_lexer": "ipython3",
   "version": "3.11.4"
  }
 },
 "nbformat": 4,
 "nbformat_minor": 5
}
