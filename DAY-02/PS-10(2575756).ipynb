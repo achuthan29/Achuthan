{
 "cells": [
  {
   "cell_type": "markdown",
   "id": "32bd5168",
   "metadata": {},
   "source": [
    "# 10. Python program to display the given integer in reverse order using the function without an in-built function."
   ]
  },
  {
   "cell_type": "code",
   "execution_count": 1,
   "id": "8278c2e1",
   "metadata": {},
   "outputs": [
    {
     "name": "stdout",
     "output_type": "stream",
     "text": [
      "Enter an integer: 5236\n",
      "The integer in reverse order is: 6\n"
     ]
    }
   ],
   "source": [
    "def reverse_integer(num):\n",
    "    reversed_num = 0\n",
    "    while num != 0:\n",
    "        digit = num % 10\n",
    "        reversed_num = reversed_num * 10 + digit\n",
    "        num = num // 10\n",
    "        return reversed_num\n",
    "number = int(input(\"Enter an integer: \"))\n",
    "reversed_number = reverse_integer(number)\n",
    "print(f\"The integer in reverse order is: {reversed_number}\")\n"
   ]
  },
  {
   "cell_type": "code",
   "execution_count": null,
   "id": "3447a19b",
   "metadata": {},
   "outputs": [],
   "source": []
  }
 ],
 "metadata": {
  "kernelspec": {
   "display_name": "Python 3 (ipykernel)",
   "language": "python",
   "name": "python3"
  },
  "language_info": {
   "codemirror_mode": {
    "name": "ipython",
    "version": 3
   },
   "file_extension": ".py",
   "mimetype": "text/x-python",
   "name": "python",
   "nbconvert_exporter": "python",
   "pygments_lexer": "ipython3",
   "version": "3.11.4"
  }
 },
 "nbformat": 4,
 "nbformat_minor": 5
}
