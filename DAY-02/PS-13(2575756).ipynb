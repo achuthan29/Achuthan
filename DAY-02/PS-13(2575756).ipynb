{
 "cells": [
  {
   "cell_type": "markdown",
   "id": "5e9f6200",
   "metadata": {},
   "source": [
    "# 13. Write functions called is sorted that takes a list as a parameter and returns True if the list is sorted I in ascending order and False otherwise and has duplicates that takes a list and returns True if there is any element that appears more than once. It should not modify the original list"
   ]
  },
  {
   "cell_type": "code",
   "execution_count": 1,
   "id": "7099b2ed",
   "metadata": {},
   "outputs": [
    {
     "name": "stdout",
     "output_type": "stream",
     "text": [
      "Is sorted (ascending order):\n",
      "True\n",
      "False\n",
      "\n",
      "Has duplicates:\n",
      "False\n",
      "True\n"
     ]
    }
   ],
   "source": [
    "def is_sorted(input_list):\n",
    "    return all(input_list[i] <= input_list[i+1] for i in range(len(input_list)-1))\n",
    "def has_duplicates(input_list):\n",
    "    seen = set()\n",
    "    for item in input_list:\n",
    "        if item in seen:\n",
    "            return True\n",
    "        seen.add(item)\n",
    "    return False\n",
    "sorted_list = [1, 2, 3, 4, 5]\n",
    "unsorted_list = [5, 2, 7, 1, 4]\n",
    "list_with_duplicates = [1, 2, 3, 2, 4]\n",
    "\n",
    "print(\"Is sorted (ascending order):\")\n",
    "print(is_sorted(sorted_list))\n",
    "print(is_sorted(unsorted_list))  \n",
    "\n",
    "print(\"\\nHas duplicates:\")\n",
    "print(has_duplicates(sorted_list))\n",
    "print(has_duplicates(list_with_duplicates)) \n"
   ]
  },
  {
   "cell_type": "code",
   "execution_count": null,
   "id": "0ae7d8e4",
   "metadata": {},
   "outputs": [],
   "source": []
  }
 ],
 "metadata": {
  "kernelspec": {
   "display_name": "Python 3 (ipykernel)",
   "language": "python",
   "name": "python3"
  },
  "language_info": {
   "codemirror_mode": {
    "name": "ipython",
    "version": 3
   },
   "file_extension": ".py",
   "mimetype": "text/x-python",
   "name": "python",
   "nbconvert_exporter": "python",
   "pygments_lexer": "ipython3",
   "version": "3.11.4"
  }
 },
 "nbformat": 4,
 "nbformat_minor": 5
}
