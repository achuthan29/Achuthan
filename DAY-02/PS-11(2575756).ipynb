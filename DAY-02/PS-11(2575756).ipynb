{
 "cells": [
  {
   "cell_type": "markdown",
   "id": "b4dd883a",
   "metadata": {},
   "source": [
    "# 11. Write a Python Function to display all integers within the range 200-300 whose sum of digits is an even number.\n"
   ]
  },
  {
   "cell_type": "code",
   "execution_count": 1,
   "id": "f1223e7b",
   "metadata": {},
   "outputs": [
    {
     "name": "stdout",
     "output_type": "stream",
     "text": [
      "enter the start range: 300\n",
      "enter the end range: 400\n",
      "Integers in the range  {300} - {400} whose sum of digits is even:\n",
      "[301, 303, 305, 307, 309, 310, 312, 314, 316, 318, 321, 323, 325, 327, 329, 330, 332, 334, 336, 338, 341, 343, 345, 347, 349, 350, 352, 354, 356, 358, 361, 363, 365, 367, 369, 370, 372, 374, 376, 378, 381, 383, 385, 387, 389, 390, 392, 394, 396, 398, 400]\n"
     ]
    }
   ],
   "source": [
    "def is_sum_of_digits_even(num):\n",
    "    digit_sum = sum(int(digit) for digit in str(num))\n",
    "    return digit_sum % 2 == 0\n",
    "def find_integers_with_even_digit_sum(start, end):\n",
    "    result = []\n",
    "    for num in range(start, end + 1):\n",
    "        if is_sum_of_digits_even(num):\n",
    "            result.append(num)\n",
    "    return result\n",
    "start_range = int(input(\"enter the start range: \"))\n",
    "end_range =  int(input(\"enter the end range: \"))\n",
    "integers_with_even_digit_sum = find_integers_with_even_digit_sum(start_range, end_range)\n",
    "print(\"Integers in the range \",{start_range},\"-\",{end_range} ,\"whose sum of digits is even:\")\n",
    "print(integers_with_even_digit_sum)\n"
   ]
  },
  {
   "cell_type": "code",
   "execution_count": null,
   "id": "4971b18a",
   "metadata": {},
   "outputs": [],
   "source": []
  }
 ],
 "metadata": {
  "kernelspec": {
   "display_name": "Python 3 (ipykernel)",
   "language": "python",
   "name": "python3"
  },
  "language_info": {
   "codemirror_mode": {
    "name": "ipython",
    "version": 3
   },
   "file_extension": ".py",
   "mimetype": "text/x-python",
   "name": "python",
   "nbconvert_exporter": "python",
   "pygments_lexer": "ipython3",
   "version": "3.11.4"
  }
 },
 "nbformat": 4,
 "nbformat_minor": 5
}
