{
 "cells": [
  {
   "cell_type": "markdown",
   "id": "9d01073c",
   "metadata": {},
   "source": [
    "# 8.Write a python Function for finding factorial for the given number using a recursive function."
   ]
  },
  {
   "cell_type": "code",
   "execution_count": 1,
   "id": "322ad919",
   "metadata": {},
   "outputs": [
    {
     "name": "stdout",
     "output_type": "stream",
     "text": [
      "enter the number:5\n",
      "The factorial of 5 is 120\n"
     ]
    }
   ],
   "source": [
    "def factorial_recursive(n):\n",
    "    if n == 0:\n",
    "        return 1\n",
    "    else:\n",
    "        return n * factorial_recursive(n - 1)\n",
    "number=int(input(\"enter the number:\"))\n",
    "result = factorial_recursive(number)\n",
    "print(f\"The factorial of {number} is {result}\")"
   ]
  }
 ],
 "metadata": {
  "kernelspec": {
   "display_name": "Python 3 (ipykernel)",
   "language": "python",
   "name": "python3"
  },
  "language_info": {
   "codemirror_mode": {
    "name": "ipython",
    "version": 3
   },
   "file_extension": ".py",
   "mimetype": "text/x-python",
   "name": "python",
   "nbconvert_exporter": "python",
   "pygments_lexer": "ipython3",
   "version": "3.11.4"
  }
 },
 "nbformat": 4,
 "nbformat_minor": 5
}
