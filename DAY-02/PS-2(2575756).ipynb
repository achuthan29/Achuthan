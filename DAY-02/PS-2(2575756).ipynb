{
 "cells": [
  {
   "cell_type": "markdown",
   "id": "1fe00dbd",
   "metadata": {},
   "source": [
    "# 2. Write and run a Python program that asks the user to enter 8 integers (one at a time), and then prints out how many of those integers were even numbers. For example, if the user entered 19, 6, 9, 20, 13, 7, 6, and 1, then your program should print out 3 since 3 of those numbers were even.\n"
   ]
  },
  {
   "cell_type": "code",
   "execution_count": 1,
   "id": "832f5c07",
   "metadata": {},
   "outputs": [
    {
     "name": "stdout",
     "output_type": "stream",
     "text": [
      "Enter integer 1: 2\n",
      "Enter integer 2: 3\n",
      "Enter integer 3: 6\n",
      "Enter integer 4: 5\n",
      "Enter integer 5: 4\n",
      "Enter integer 6: 9\n",
      "Enter integer 7: 8\n",
      "Enter integer 8: 7\n",
      "Number of even integers entered: 4\n"
     ]
    }
   ],
   "source": [
    "even_count = 0\n",
    "for i in range(8):\n",
    "    try:\n",
    "        num = int(input(f\"Enter integer {i + 1}: \"))\n",
    "        if num % 2 == 0:\n",
    "            even_count += 1\n",
    "    except ValueError:\n",
    "        print(\"Invalid input. Please enter an integer.\")\n",
    "print(f\"Number of even integers entered: {even_count}\")"
   ]
  },
  {
   "cell_type": "code",
   "execution_count": null,
   "id": "bc227261",
   "metadata": {},
   "outputs": [],
   "source": []
  }
 ],
 "metadata": {
  "kernelspec": {
   "display_name": "Python 3 (ipykernel)",
   "language": "python",
   "name": "python3"
  },
  "language_info": {
   "codemirror_mode": {
    "name": "ipython",
    "version": 3
   },
   "file_extension": ".py",
   "mimetype": "text/x-python",
   "name": "python",
   "nbconvert_exporter": "python",
   "pygments_lexer": "ipython3",
   "version": "3.11.4"
  }
 },
 "nbformat": 4,
 "nbformat_minor": 5
}
