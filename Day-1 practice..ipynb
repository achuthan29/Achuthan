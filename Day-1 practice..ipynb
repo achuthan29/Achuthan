{
 "cells": [
  {
   "cell_type": "markdown",
   "id": "9cf41601",
   "metadata": {},
   "source": [
    "# Manipulate using a list.\n",
    "\n",
    "1.To add new elements to the end of the list\n",
    "\n",
    "2.To reverse elements in the list\n",
    "\n",
    "3.To display the same list of elements multiple times.\n",
    "\n",
    "4.To concatenate two list\n",
    "\n",
    "5.To sort the elements in the list in ascending order"
   ]
  },
  {
   "cell_type": "code",
   "execution_count": 95,
   "id": "751b9ced",
   "metadata": {},
   "outputs": [],
   "source": [
    "list =[1,2,3,4,5]"
   ]
  },
  {
   "cell_type": "code",
   "execution_count": 96,
   "id": "2f6d4fdb",
   "metadata": {},
   "outputs": [
    {
     "name": "stdout",
     "output_type": "stream",
     "text": [
      "[1, 2, 3, 4, 5]\n"
     ]
    }
   ],
   "source": [
    "print(list)"
   ]
  },
  {
   "cell_type": "code",
   "execution_count": 97,
   "id": "4ea19e97",
   "metadata": {},
   "outputs": [
    {
     "name": "stdout",
     "output_type": "stream",
     "text": [
      "[1, 2, 3, 4, 5, 6]\n"
     ]
    }
   ],
   "source": [
    "list.append(6)\n",
    "print(list)"
   ]
  },
  {
   "cell_type": "code",
   "execution_count": 98,
   "id": "448c3cd3",
   "metadata": {},
   "outputs": [
    {
     "name": "stdout",
     "output_type": "stream",
     "text": [
      "[6, 5, 4, 3, 2, 1]\n"
     ]
    }
   ],
   "source": [
    "list.reverse()\n",
    "print(list)"
   ]
  },
  {
   "cell_type": "code",
   "execution_count": 99,
   "id": "4c202fae",
   "metadata": {},
   "outputs": [
    {
     "name": "stdout",
     "output_type": "stream",
     "text": [
      "Enter the number of time to repeat5\n",
      "[1, 2, 3, 4, 5, 6]\n",
      "[1, 2, 3, 4, 5, 6]\n",
      "[1, 2, 3, 4, 5, 6]\n",
      "[1, 2, 3, 4, 5, 6]\n",
      "[1, 2, 3, 4, 5, 6]\n"
     ]
    }
   ],
   "source": [
    "list.reverse()\n",
    "no_of_times = int(input(\"Enter the number of time to repeat: \"))\n",
    "for rep in range(no_of_times):\n",
    "    print(list)"
   ]
  },
  {
   "cell_type": "code",
   "execution_count": 100,
   "id": "e736d454",
   "metadata": {},
   "outputs": [
    {
     "name": "stdout",
     "output_type": "stream",
     "text": [
      "[1, 2, 3, 4, 5, 'a', 'b', 'c', 'd']\n"
     ]
    }
   ],
   "source": [
    "listA = [1, 2, 3, 4, 5]\n",
    "listB = ['a', 'b', 'c', 'd']\n",
    "result_list = listA+listB\n",
    "print(result_list)"
   ]
  },
  {
   "cell_type": "code",
   "execution_count": 102,
   "id": "eed22266",
   "metadata": {},
   "outputs": [
    {
     "name": "stdout",
     "output_type": "stream",
     "text": [
      "[40, 50, 60, 70, 80, 90, 100]\n"
     ]
    }
   ],
   "source": [
    "listC = [100, 90,80,70,50,40,60]\n",
    "listC.sort() \n",
    "print(listC)"
   ]
  },
  {
   "cell_type": "markdown",
   "id": "24b9013c",
   "metadata": {},
   "source": [
    "# Write a Python program to do in the tuples.\n",
    "\n",
    "1.Manipulate using tuples.\n",
    "\n",
    "2.To add new elements to the end of the tuples.\n",
    "\n",
    "3.To reverse elements in the list.\n",
    "\n",
    "4.To display the elements of the same tuple multiple times.\n",
    "\n",
    "5.To concatenate two tuples.\n",
    "\n",
    "6.To sort the elements in the list in ascending order."
   ]
  },
  {
   "cell_type": "code",
   "execution_count": 69,
   "id": "16d87095",
   "metadata": {},
   "outputs": [
    {
     "name": "stdout",
     "output_type": "stream",
     "text": [
      "(1, 2, 3, 4)\n"
     ]
    }
   ],
   "source": [
    "tuple = (1, 2, 3, 4)\n",
    "print(tuple)"
   ]
  },
  {
   "cell_type": "code",
   "execution_count": 72,
   "id": "dfd989b9",
   "metadata": {},
   "outputs": [
    {
     "name": "stdout",
     "output_type": "stream",
     "text": [
      "(1, 2, 3, 4, 5)\n"
     ]
    }
   ],
   "source": [
    "tuple = tuple + (5,) \n",
    "print(tuple)"
   ]
  },
  {
   "cell_type": "code",
   "execution_count": 74,
   "id": "f5e9f48c",
   "metadata": {},
   "outputs": [
    {
     "name": "stdout",
     "output_type": "stream",
     "text": [
      "(1, 2, 3, 4, 5, 6, 7, 8, 9, 6, 7, 8, 9)\n"
     ]
    }
   ],
   "source": [
    "tuple2 = (6,7,8,9)\n",
    "tuple = tuple + tuple2\n",
    "print(tuple)"
   ]
  },
  {
   "cell_type": "code",
   "execution_count": 75,
   "id": "23168414",
   "metadata": {},
   "outputs": [
    {
     "name": "stdout",
     "output_type": "stream",
     "text": [
      "(9, 8, 7, 6, 9, 8, 7, 6, 5, 4, 3, 2, 1)\n"
     ]
    }
   ],
   "source": [
    "print(tuple[::-1])"
   ]
  },
  {
   "cell_type": "code",
   "execution_count": 77,
   "id": "46aee365",
   "metadata": {},
   "outputs": [
    {
     "name": "stdout",
     "output_type": "stream",
     "text": [
      "Enter the num of times10\n",
      "\n",
      " (1, 2, 3, 4, 5, 6, 7, 8, 9, 6, 7, 8, 9, 1, 2, 3, 4, 5, 6, 7, 8, 9, 6, 7, 8, 9, 1, 2, 3, 4, 5, 6, 7, 8, 9, 6, 7, 8, 9, 1, 2, 3, 4, 5, 6, 7, 8, 9, 6, 7, 8, 9, 1, 2, 3, 4, 5, 6, 7, 8, 9, 6, 7, 8, 9, 1, 2, 3, 4, 5, 6, 7, 8, 9, 6, 7, 8, 9, 1, 2, 3, 4, 5, 6, 7, 8, 9, 6, 7, 8, 9, 1, 2, 3, 4, 5, 6, 7, 8, 9, 6, 7, 8, 9, 1, 2, 3, 4, 5, 6, 7, 8, 9, 6, 7, 8, 9, 1, 2, 3, 4, 5, 6, 7, 8, 9, 6, 7, 8, 9)\n"
     ]
    }
   ],
   "source": [
    "rep = int(input(\"Enter the num of times\"))\n",
    "new_tuple = tuple*rep\n",
    "print('\\n',new_tuple)\n"
   ]
  },
  {
   "cell_type": "code",
   "execution_count": 80,
   "id": "fce0f7a9",
   "metadata": {},
   "outputs": [
    {
     "name": "stdout",
     "output_type": "stream",
     "text": [
      "('Apple', 'Banana', 'Strawberry', 'Carrot', 'Beetroot', 'lemon')\n"
     ]
    }
   ],
   "source": [
    "fruits = (\"Apple\", \"Banana\", \"Strawberry\")\n",
    "vegetable = (\"Carrot\", \"Beetroot\", \"lemon\")\n",
    "grocery_list = fruits + vegetable\n",
    "\n",
    "print(grocery_list)"
   ]
  },
  {
   "cell_type": "code",
   "execution_count": 81,
   "id": "cbf078ae",
   "metadata": {},
   "outputs": [
    {
     "name": "stdout",
     "output_type": "stream",
     "text": [
      "['Apple', 'Banana', 'Beetroot', 'Carrot', 'Strawberry', 'lemon']\n"
     ]
    }
   ],
   "source": [
    "items = []\n",
    "for i in range (len(grocery_list)):\n",
    "    items.append(grocery_list[i])\n",
    "    \n",
    "items.sort()\n",
    "print(items)"
   ]
  },
  {
   "cell_type": "markdown",
   "id": "43b81fc1",
   "metadata": {},
   "source": [
    "# 3. Write a python program to implement the following using list.\n",
    "\n",
    "1.Create a list with integers (minimum 10 numbers)\n",
    "\n",
    "2.How to display the last number in the list.\n",
    "\n",
    "3.Command for displaying the values from the list [0:4]\n",
    "\n",
    "4.Command for displaying the values from the list [2:]\n",
    "\n",
    "5.Command for displaying the values from the list [:6]"
   ]
  },
  {
   "cell_type": "code",
   "execution_count": 83,
   "id": "03689b45",
   "metadata": {},
   "outputs": [
    {
     "name": "stdout",
     "output_type": "stream",
     "text": [
      "[1, 2, 3, 4, 5, 6, 7, 8, 9, 10]\n"
     ]
    }
   ],
   "source": [
    "nums = [1,2,3,4,5,6,7,8,9,10]\n",
    "\n",
    "print(nums)"
   ]
  },
  {
   "cell_type": "code",
   "execution_count": 84,
   "id": "dd5fa884",
   "metadata": {},
   "outputs": [
    {
     "name": "stdout",
     "output_type": "stream",
     "text": [
      "10\n"
     ]
    }
   ],
   "source": [
    "print(nums[-1])"
   ]
  },
  {
   "cell_type": "code",
   "execution_count": 85,
   "id": "455437a3",
   "metadata": {},
   "outputs": [
    {
     "name": "stdout",
     "output_type": "stream",
     "text": [
      "[2, 3, 4, 5]\n"
     ]
    }
   ],
   "source": [
    "print(nums[1:5])"
   ]
  },
  {
   "cell_type": "code",
   "execution_count": 86,
   "id": "c1066e7f",
   "metadata": {},
   "outputs": [
    {
     "name": "stdout",
     "output_type": "stream",
     "text": [
      "[3, 4, 5, 6, 7, 8, 9, 10]\n"
     ]
    }
   ],
   "source": [
    "print(nums[2:])"
   ]
  },
  {
   "cell_type": "code",
   "execution_count": 87,
   "id": "40b82ecf",
   "metadata": {},
   "outputs": [
    {
     "name": "stdout",
     "output_type": "stream",
     "text": [
      "[1, 2, 3, 4, 5, 6]\n"
     ]
    }
   ],
   "source": [
    "print(nums[:6])"
   ]
  },
  {
   "cell_type": "markdown",
   "id": "30a4937f",
   "metadata": {},
   "source": [
    "# 4. Write a Python program: tuple1 = (10,50,20,40,30)\n",
    "\n",
    "1.To display the elements 10 and 50 from tuple1\n",
    "\n",
    "2.To display the length of a tuple1.\n",
    "\n",
    "3.To find the minimum element from tuple1\n",
    "\n",
    "4.To add all elements in the tuple1.\n",
    "\n",
    "5.To display the same tuple1 multiple times"
   ]
  },
  {
   "cell_type": "code",
   "execution_count": 88,
   "id": "b3e55b96",
   "metadata": {},
   "outputs": [
    {
     "name": "stdout",
     "output_type": "stream",
     "text": [
      "(10, 50)\n"
     ]
    }
   ],
   "source": [
    "tuple1 = (10,50,20,40,30)\n",
    "print(tuple1[:2])"
   ]
  },
  {
   "cell_type": "code",
   "execution_count": 89,
   "id": "71869ded",
   "metadata": {},
   "outputs": [
    {
     "name": "stdout",
     "output_type": "stream",
     "text": [
      "5\n"
     ]
    }
   ],
   "source": [
    "print(len(tuple1))"
   ]
  },
  {
   "cell_type": "code",
   "execution_count": 90,
   "id": "bb794f0c",
   "metadata": {},
   "outputs": [
    {
     "name": "stdout",
     "output_type": "stream",
     "text": [
      "10\n"
     ]
    }
   ],
   "source": [
    "print(min(tuple1))"
   ]
  },
  {
   "cell_type": "code",
   "execution_count": 91,
   "id": "d60399d8",
   "metadata": {},
   "outputs": [
    {
     "name": "stdout",
     "output_type": "stream",
     "text": [
      "150\n"
     ]
    }
   ],
   "source": [
    "print(sum(tuple1))"
   ]
  },
  {
   "cell_type": "code",
   "execution_count": 93,
   "id": "e0ae97a9",
   "metadata": {},
   "outputs": [
    {
     "name": "stdout",
     "output_type": "stream",
     "text": [
      "Enter count: 3\n",
      "(10, 50, 20, 40, 30, 10, 50, 20, 40, 30, 10, 50, 20, 40, 30)\n"
     ]
    }
   ],
   "source": [
    "rep = int(input(\"Enter count: \"))\n",
    "print(tuple1*rep)"
   ]
  },
  {
   "cell_type": "code",
   "execution_count": null,
   "id": "508b859f",
   "metadata": {},
   "outputs": [],
   "source": []
  },
  {
   "cell_type": "markdown",
   "id": "ff38056f",
   "metadata": {},
   "source": [
    "# 5. Write a Python program:\n",
    "\n",
    "1.To calculate the length of a string\n",
    "\n",
    "2.To reverse words in a string\n",
    "\n",
    "3.To display the same string multiple times\n",
    "\n",
    "4.To concatenate two strings\n",
    "\n",
    "5.Str1\" South India\", using string slicing to display \"India\""
   ]
  },
  {
   "cell_type": "code",
   "execution_count": 59,
   "id": "545fadf1",
   "metadata": {},
   "outputs": [
    {
     "name": "stdout",
     "output_type": "stream",
     "text": [
      "16\n"
     ]
    }
   ],
   "source": [
    "movie = \"Avenger End Game\"\n",
    "print(len(movie))"
   ]
  },
  {
   "cell_type": "code",
   "execution_count": 60,
   "id": "da3f39f8",
   "metadata": {},
   "outputs": [
    {
     "name": "stdout",
     "output_type": "stream",
     "text": [
      "['Game', 'End', 'Avenger']\n"
     ]
    }
   ],
   "source": [
    "words = movie.split()\n",
    "rev_words = words[::-1]\n",
    "print(rev_words)"
   ]
  },
  {
   "cell_type": "code",
   "execution_count": 63,
   "id": "fdb9dc57",
   "metadata": {},
   "outputs": [
    {
     "name": "stdout",
     "output_type": "stream",
     "text": [
      "Avenger End Game\n",
      "Avenger End Game\n",
      "Avenger End Game\n",
      "Avenger End Game\n",
      "Avenger End Game\n",
      "Avenger End Game\n",
      "Avenger End Game\n",
      "Avenger End Game\n",
      "Avenger End Game\n",
      "Avenger End Game\n",
      "\n"
     ]
    }
   ],
   "source": [
    "print((movie+\"\\n\")*10)"
   ]
  },
  {
   "cell_type": "code",
   "execution_count": 64,
   "id": "6cb59998",
   "metadata": {},
   "outputs": [
    {
     "name": "stdout",
     "output_type": "stream",
     "text": [
      "Avengers End Game\n"
     ]
    }
   ],
   "source": [
    "movie = \"Avengers\"\n",
    "tag = \" End Game\"\n",
    "\n",
    "movie_title = movie+tag\n",
    "print(movie_title)"
   ]
  },
  {
   "cell_type": "code",
   "execution_count": 15,
   "id": "1d5a65e8",
   "metadata": {},
   "outputs": [
    {
     "name": "stdout",
     "output_type": "stream",
     "text": [
      "India\n"
     ]
    }
   ],
   "source": [
    "Str1 = \"South India\"\n",
    "print(Str1[6:])"
   ]
  },
  {
   "cell_type": "markdown",
   "id": "4eb10a1a",
   "metadata": {},
   "source": [
    "# 6 Perform the following\n",
    "\n",
    "1.Cretaing the dictionary.\n",
    "\n",
    "2.Accessing the values and keys in the Dictionary.\n",
    "\n",
    "3.Updating the dictionary using a function.\n",
    "\n",
    "4.Clear and delete the dictionary values."
   ]
  },
  {
   "cell_type": "code",
   "execution_count": 55,
   "id": "1f3f87f0",
   "metadata": {},
   "outputs": [
    {
     "name": "stdout",
     "output_type": "stream",
     "text": [
      "{'Name': 'MSD', 'Age': 45, 'Sport': 'cricket', 'contry': 'India'}\n"
     ]
    }
   ],
   "source": [
    "player = {'Name': \"MSD\", \"Age\": 45, \"Sport\":\"cricket\", \"contry\": \"India\"}\n",
    "print(player)"
   ]
  },
  {
   "cell_type": "code",
   "execution_count": 56,
   "id": "c146429f",
   "metadata": {},
   "outputs": [
    {
     "name": "stdout",
     "output_type": "stream",
     "text": [
      "Name:MSD\n",
      "Age:45\n",
      "Sport:cricket\n",
      "contry:India\n"
     ]
    }
   ],
   "source": [
    "for i, j in player.items():\n",
    "    print(f\"{i}:{j}\")"
   ]
  },
  {
   "cell_type": "code",
   "execution_count": 57,
   "id": "704b8f8e",
   "metadata": {},
   "outputs": [
    {
     "name": "stdout",
     "output_type": "stream",
     "text": [
      "{'Name': 'MSD', 'Age': 45, 'Sport': 'cricket', 'contry': 'India', 'Home town': 'Ranchi'}\n"
     ]
    }
   ],
   "source": [
    "def update_player(player, i, j):\n",
    "    player[i] = j\n",
    "    \n",
    "update_player(player, \"Home town\", \"Ranchi\")\n",
    "\n",
    "print(player)"
   ]
  },
  {
   "cell_type": "code",
   "execution_count": 58,
   "id": "6e8e6590",
   "metadata": {},
   "outputs": [
    {
     "name": "stdout",
     "output_type": "stream",
     "text": [
      "{'Name': 'MSD', 'Age': 45, 'Sport': 'cricket', 'contry': 'India', 'Home town': 'Ranchi'}\n"
     ]
    }
   ],
   "source": [
    "player_details = player.copy()\n",
    "\n",
    "player.clear()\n",
    "\n",
    "del player\n",
    "\n",
    "# print(player)\n",
    "print(player_details)"
   ]
  },
  {
   "cell_type": "markdown",
   "id": "fb2bc4dd",
   "metadata": {},
   "source": [
    "# 7 Python program to insert a number to any position in a list"
   ]
  },
  {
   "cell_type": "code",
   "execution_count": 31,
   "id": "68d800a7",
   "metadata": {},
   "outputs": [
    {
     "name": "stdout",
     "output_type": "stream",
     "text": [
      "number:  [12, 34, 32, 43, 67, 53, 99, 78, 102, 83, 56, 43]\n",
      "\n",
      " Insert 3rd position:  [12, 34, 32, 1000, 43, 67, 53, 99, 78, 102, 83, 56, 43]\n"
     ]
    }
   ],
   "source": [
    "nums = [12, 34, 32, 43, 67, 53, 99, 78, 102, 83, 56, 43]\n",
    "\n",
    "print(\"number: \",nums)\n",
    "\n",
    "nums.insert(3, 1000)\n",
    "print('\\n Insert 3rd position: ' ,nums)"
   ]
  },
  {
   "cell_type": "markdown",
   "id": "ea21d4b3",
   "metadata": {},
   "source": [
    "# 8 Pyton program to delete an element from a list by index"
   ]
  },
  {
   "cell_type": "code",
   "execution_count": 28,
   "id": "05577c96",
   "metadata": {},
   "outputs": [
    {
     "name": "stdout",
     "output_type": "stream",
     "text": [
      "number:  [12, 34, 32, 1000, 67, 99, 78, 102, 83, 56, 43]\n",
      "delete 4th element : [12, 34, 32, 1000, 99, 78, 102, 83, 56, 43]\n",
      "delete 5th element : [12, 34, 32, 1000, 99, 102, 83, 56, 43]\n"
     ]
    }
   ],
   "source": [
    "print(\"number: \",nums)\n",
    "\n",
    "nums.pop(4)\n",
    "\n",
    "print(\"delete 4th element :\",nums)\n",
    "\n",
    "del nums[5]\n",
    "print(\"delete 5th element :\",nums)"
   ]
  },
  {
   "cell_type": "markdown",
   "id": "5781c801",
   "metadata": {},
   "source": [
    "# 9 Write a program to display the numbers from 1 to 100"
   ]
  },
  {
   "cell_type": "code",
   "execution_count": 36,
   "id": "4675b723",
   "metadata": {},
   "outputs": [
    {
     "name": "stdout",
     "output_type": "stream",
     "text": [
      "1\n",
      "2\n",
      "3\n",
      "4\n",
      "5\n",
      "6\n",
      "7\n",
      "8\n",
      "9\n",
      "10\n",
      "11\n",
      "12\n",
      "13\n",
      "14\n",
      "15\n",
      "16\n",
      "17\n",
      "18\n",
      "19\n",
      "20\n",
      "21\n",
      "22\n",
      "23\n",
      "24\n",
      "25\n",
      "26\n",
      "27\n",
      "28\n",
      "29\n",
      "30\n",
      "31\n",
      "32\n",
      "33\n",
      "34\n",
      "35\n",
      "36\n",
      "37\n",
      "38\n",
      "39\n",
      "40\n",
      "41\n",
      "42\n",
      "43\n",
      "44\n",
      "45\n",
      "46\n",
      "47\n",
      "48\n",
      "49\n",
      "50\n",
      "51\n",
      "52\n",
      "53\n",
      "54\n",
      "55\n",
      "56\n",
      "57\n",
      "58\n",
      "59\n",
      "60\n",
      "61\n",
      "62\n",
      "63\n",
      "64\n",
      "65\n",
      "66\n",
      "67\n",
      "68\n",
      "69\n",
      "70\n",
      "71\n",
      "72\n",
      "73\n",
      "74\n",
      "75\n",
      "76\n",
      "77\n",
      "78\n",
      "79\n",
      "80\n",
      "81\n",
      "82\n",
      "83\n",
      "84\n",
      "85\n",
      "86\n",
      "87\n",
      "88\n",
      "89\n",
      "90\n",
      "91\n",
      "92\n",
      "93\n",
      "94\n",
      "95\n",
      "96\n",
      "97\n",
      "98\n",
      "99\n",
      "100\n"
     ]
    }
   ],
   "source": [
    "for num in range(1, 101):\n",
    "    print(num)"
   ]
  },
  {
   "cell_type": "markdown",
   "id": "f3777aff",
   "metadata": {},
   "source": [
    "# 10 write a python program to find the sum of all items in a tuple"
   ]
  },
  {
   "cell_type": "code",
   "execution_count": 34,
   "id": "f9048bb1",
   "metadata": {},
   "outputs": [
    {
     "name": "stdout",
     "output_type": "stream",
     "text": [
      "100\n"
     ]
    }
   ],
   "source": [
    "values = (1, 2, 3, 4, 5, 6, 7, 8, 9, 10, 9, 8, 7, 6, 5, 4, 3, 2, 1)\n",
    "print(sum(values))"
   ]
  },
  {
   "cell_type": "markdown",
   "id": "0be33061",
   "metadata": {},
   "source": []
  },
  {
   "cell_type": "code",
   "execution_count": null,
   "id": "0e65429b",
   "metadata": {},
   "outputs": [],
   "source": []
  }
 ],
 "metadata": {
  "kernelspec": {
   "display_name": "Python 3 (ipykernel)",
   "language": "python",
   "name": "python3"
  },
  "language_info": {
   "codemirror_mode": {
    "name": "ipython",
    "version": 3
   },
   "file_extension": ".py",
   "mimetype": "text/x-python",
   "name": "python",
   "nbconvert_exporter": "python",
   "pygments_lexer": "ipython3",
   "version": "3.11.4"
  }
 },
 "nbformat": 4,
 "nbformat_minor": 5
}
