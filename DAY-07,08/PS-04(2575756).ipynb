{
 "cells": [
  {
   "cell_type": "markdown",
   "id": "bae94f2c",
   "metadata": {},
   "source": [
    "# 4 Write a Python program for sorting a list of elements using insertion sort algorithm:\n",
    "\n",
    "a. Assume two lists: Soned list- Initially empty and Unsorted List-Given input list\n",
    "\n",
    "b. In the first aeration, take the first element in the unsorted list and insert it in Sorted list.\n",
    "\n",
    "c. In the second iteration, take the second element in the given list and compare with the element in the sorted sub list and place it as the currect position.\n",
    "\n",
    "d. In the third iteration, take the third demers in the given list and compare with the elements in the sorted sub list and place the elements in the correct pusation\n",
    "\n",
    "e. This process continues until the last element is inserted in the seated subs list.\n",
    "\n",
    "f. Display the sorted elements\n"
   ]
  },
  {
   "cell_type": "code",
   "execution_count": 2,
   "id": "b08997ee",
   "metadata": {},
   "outputs": [
    {
     "name": "stdout",
     "output_type": "stream",
     "text": [
      "Sorted list: [1, 2, 23, 29, 60]\n"
     ]
    }
   ],
   "source": [
    "def insertion_sort(input_list):\n",
    "    sorted_list = []  \n",
    "    for unsorted_item in input_list:\n",
    "        if not sorted_list:\n",
    "            sorted_list.append(unsorted_item)\n",
    "        else:\n",
    "            for i in range(len(sorted_list)):\n",
    "                if unsorted_item < sorted_list[i]:\n",
    "                    sorted_list.insert(i, unsorted_item)\n",
    "                    break\n",
    "            else:\n",
    "                sorted_list.append(unsorted_item)\n",
    "    return sorted_list\n",
    "\n",
    "input_list = [60, 29, 23, 2, 1]\n",
    "sorted_result = insertion_sort(input_list)\n",
    "print(\"Sorted list:\", sorted_result)\n"
   ]
  },
  {
   "cell_type": "code",
   "execution_count": null,
   "id": "10b29b4d",
   "metadata": {},
   "outputs": [],
   "source": []
  }
 ],
 "metadata": {
  "kernelspec": {
   "display_name": "Python 3 (ipykernel)",
   "language": "python",
   "name": "python3"
  },
  "language_info": {
   "codemirror_mode": {
    "name": "ipython",
    "version": 3
   },
   "file_extension": ".py",
   "mimetype": "text/x-python",
   "name": "python",
   "nbconvert_exporter": "python",
   "pygments_lexer": "ipython3",
   "version": "3.11.4"
  }
 },
 "nbformat": 4,
 "nbformat_minor": 5
}
