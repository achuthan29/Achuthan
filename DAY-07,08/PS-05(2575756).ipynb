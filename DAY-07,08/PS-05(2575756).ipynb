{
 "cells": [
  {
   "cell_type": "markdown",
   "id": "80fd6b13",
   "metadata": {},
   "source": [
    "# 5. Write a Python program that performs merge sort on a list of numbers:\n",
    "    \n",
    "a. Divide: If the given array has zero or one element, return.\n",
    "\n",
    "     i. Otherwise\n",
    "\n",
    "     ii. Divide the input list in to two halves each containing half of the elements. i.e. left half and right half.\n",
    "\n",
    "b. Conquer: Recursively sort the two lists (left half and right half).\n",
    "\n",
    "      a. Call the merge sort on left half.\n",
    "\n",
    "      b. Call the merge sort on right half.\n",
    "\n",
    "c. Combine: Combine the elements back in the input list by merging the two sorted lists into a sorted sequence.\n"
   ]
  },
  {
   "cell_type": "code",
   "execution_count": 1,
   "id": "a3297d04",
   "metadata": {},
   "outputs": [
    {
     "name": "stdout",
     "output_type": "stream",
     "text": [
      "Sorted list: [11, 12, 22, 25, 64]\n"
     ]
    }
   ],
   "source": [
    "def merge_sort(input_list):\n",
    "    if len(input_list) <= 1:\n",
    "        return input_list \n",
    "    mid = len(input_list) // 2\n",
    "    left_half = input_list[:mid]\n",
    "    right_half = input_list[mid:]\n",
    "    left_half = merge_sort(left_half)\n",
    "    right_half = merge_sort(right_half)\n",
    "    return merge(left_half, right_half)\n",
    "\n",
    "def merge(left, right):\n",
    "    result = []\n",
    "    left_index, right_index = 0, 0\n",
    "    while left_index < len(left) and right_index < len(right):\n",
    "        if left[left_index] < right[right_index]:\n",
    "            result.append(left[left_index])\n",
    "            left_index += 1\n",
    "        else:\n",
    "            result.append(right[right_index])\n",
    "            right_index += 1\n",
    "    result.extend(left[left_index:])\n",
    "    result.extend(right[right_index:])\n",
    "    return result\n",
    "\n",
    "input_list = [64, 25, 12, 22, 11]\n",
    "sorted_result = merge_sort(input_list)\n",
    "print(\"Sorted list:\", sorted_result)"
   ]
  },
  {
   "cell_type": "code",
   "execution_count": null,
   "id": "0f4ad1d6",
   "metadata": {},
   "outputs": [],
   "source": []
  }
 ],
 "metadata": {
  "kernelspec": {
   "display_name": "Python 3 (ipykernel)",
   "language": "python",
   "name": "python3"
  },
  "language_info": {
   "codemirror_mode": {
    "name": "ipython",
    "version": 3
   },
   "file_extension": ".py",
   "mimetype": "text/x-python",
   "name": "python",
   "nbconvert_exporter": "python",
   "pygments_lexer": "ipython3",
   "version": "3.11.4"
  }
 },
 "nbformat": 4,
 "nbformat_minor": 5
}
