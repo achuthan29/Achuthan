{
 "cells": [
  {
   "cell_type": "markdown",
   "id": "52e34757",
   "metadata": {},
   "source": [
    "# 6. Write a Python script to perform the following operations on a singly linked list\n",
    "\n",
    "a. Create a list.\n",
    "\n",
    "b. Find the smallest element from the list.\n",
    "\n",
    "c. Insert an element if it is not a duplicate element.\n",
    "\n",
    "d. Display the elements in reverse order."
   ]
  },
  {
   "cell_type": "code",
   "execution_count": 3,
   "id": "473fa850",
   "metadata": {},
   "outputs": [
    {
     "name": "stdout",
     "output_type": "stream",
     "text": [
      "Smallest element in the list: 3\n",
      "Inserted 6\n",
      "Elements in reverse order:\n",
      "6 10 3 8 3 5 \n"
     ]
    }
   ],
   "source": [
    "class Node:\n",
    "    def __init__(self, data):\n",
    "        self.data = data\n",
    "        self.next = None\n",
    "class LinkedList:\n",
    "    def __init__(self):\n",
    "        self.head = None\n",
    "    def is_empty(self):\n",
    "        return self.head is None\n",
    "    def insert(self, data):\n",
    "        new_node = Node(data)\n",
    "        if self.is_empty():\n",
    "            self.head = new_node\n",
    "        else:\n",
    "            current = self.head\n",
    "            while current.next:\n",
    "                current = current.next\n",
    "            current.next = new_node\n",
    "    def find_smallest(self):\n",
    "        if self.is_empty():\n",
    "            return None\n",
    "        current = self.head\n",
    "        smallest = current.data\n",
    "        while current:\n",
    "            if current.data < smallest:\n",
    "                smallest = current.data\n",
    "            current = current.next\n",
    "        return smallest\n",
    "    def insert_if_not_duplicate(self, data):\n",
    "        if self.is_empty():\n",
    "            self.head = Node(data)\n",
    "            return True\n",
    "        current = self.head\n",
    "        while current:\n",
    "            if current.data == data:\n",
    "                return False\n",
    "            if current.next is None:\n",
    "                current.next = Node(data)\n",
    "                return True\n",
    "            current = current.next\n",
    "    def display_reverse(self):\n",
    "        def _display_reverse(node):\n",
    "            if node:\n",
    "                _display_reverse(node.next)\n",
    "                print(node.data, end=\" \")\n",
    "        _display_reverse(self.head)\n",
    "        print()\n",
    "linked_list = LinkedList()\n",
    "linked_list.insert(5)\n",
    "linked_list.insert(3)\n",
    "linked_list.insert(8)\n",
    "linked_list.insert(3) \n",
    "linked_list.insert(10)\n",
    "smallest_element = linked_list.find_smallest()\n",
    "print(f\"Smallest element in the list: {smallest_element}\")\n",
    "inserted = linked_list.insert_if_not_duplicate(6)\n",
    "if inserted:\n",
    "    print(\"Inserted 6\")\n",
    "else:\n",
    "    print(\"6 is a duplicate and was not inserted\")\n",
    "print(\"Elements in reverse order:\")\n",
    "linked_list.display_reverse()"
   ]
  }
 ],
 "metadata": {
  "kernelspec": {
   "display_name": "Python 3 (ipykernel)",
   "language": "python",
   "name": "python3"
  },
  "language_info": {
   "codemirror_mode": {
    "name": "ipython",
    "version": 3
   },
   "file_extension": ".py",
   "mimetype": "text/x-python",
   "name": "python",
   "nbconvert_exporter": "python",
   "pygments_lexer": "ipython3",
   "version": "3.11.4"
  }
 },
 "nbformat": 4,
 "nbformat_minor": 5
}
