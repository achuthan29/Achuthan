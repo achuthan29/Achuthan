{
 "cells": [
  {
   "cell_type": "markdown",
   "id": "b7726504",
   "metadata": {},
   "source": [
    "# Write a Python program to find a target values in a list using linear search with following steps:\n",
    "\n",
    "a. Initialize the list to store the input elements. b. Initialize found-False.\n",
    "\n",
    "c. Enter the item to be searched (match_item).\n",
    "\n",
    "d. For each element in the list\n",
    "\n",
    "      1. if match item = value  \n",
    "            a. return match item's position.\n",
    "\n",
    "e. If the match item is not in the list, display an error message that the item is not found in\n",
    "\n"
   ]
  },
  {
   "cell_type": "code",
   "execution_count": 2,
   "id": "d3f98cb2",
   "metadata": {},
   "outputs": [
    {
     "name": "stdout",
     "output_type": "stream",
     "text": [
      "Enter the item to be searched: 10\n",
      "The item 10 was found at position 1.\n"
     ]
    }
   ],
   "source": [
    "input_list = [10, 25, 30, 45, 50, 65, 80]\n",
    "found = False\n",
    "match_item = int(input(\"Enter the item to be searched: \"))\n",
    "for index, value in enumerate(input_list):\n",
    "    if match_item == value:\n",
    "        found = True\n",
    "        position = index + 1 \n",
    "        break\n",
    "if found:\n",
    "    print(f\"The item {match_item} was found at position {position}.\")\n",
    "else:\n",
    "    print(f\"The item {match_item} was not found in the list.\")\n",
    "    "
   ]
  }
 ],
 "metadata": {
  "kernelspec": {
   "display_name": "Python 3 (ipykernel)",
   "language": "python",
   "name": "python3"
  },
  "language_info": {
   "codemirror_mode": {
    "name": "ipython",
    "version": 3
   },
   "file_extension": ".py",
   "mimetype": "text/x-python",
   "name": "python",
   "nbconvert_exporter": "python",
   "pygments_lexer": "ipython3",
   "version": "3.11.4"
  }
 },
 "nbformat": 4,
 "nbformat_minor": 5
}
