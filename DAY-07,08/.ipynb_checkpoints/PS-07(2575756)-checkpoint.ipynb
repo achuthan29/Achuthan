{
 "cells": [
  {
   "cell_type": "markdown",
   "id": "37778a28",
   "metadata": {},
   "source": [
    "# 7. Write a python program to implement the various operations for Stack ADT\n",
    "\n",
    "i.) Push \n",
    "ii.) Pop \n",
    "iii.) Display.\n"
   ]
  },
  {
   "cell_type": "code",
   "execution_count": 3,
   "id": "edcc2f3a",
   "metadata": {},
   "outputs": [
    {
     "name": "stdout",
     "output_type": "stream",
     "text": [
      "Stack elements:\n",
      "75\n",
      "40\n",
      "80\n",
      "Popped item: 75\n",
      "Stack elements after popping:\n",
      "40\n",
      "80\n"
     ]
    }
   ],
   "source": [
    "class Stack:\n",
    "    def __init__(self):\n",
    "        self.items = []\n",
    "    def is_empty(self):\n",
    "        return len(self.items) == 0\n",
    "    def push(self, item):\n",
    "        self.items.append(item)\n",
    "    def pop(self):\n",
    "        if not self.is_empty():\n",
    "            return self.items.pop()\n",
    "        else:\n",
    "            return None  # Stack is empty\n",
    "    def display(self):\n",
    "        if not self.is_empty():\n",
    "            for item in reversed(self.items):\n",
    "                print(item)\n",
    "        else:\n",
    "            print(\"Stack is empty\")\n",
    "\n",
    "stack = Stack()\n",
    "stack.push(80)\n",
    "stack.push(40)\n",
    "stack.push(75)\n",
    "print(\"Stack elements:\")\n",
    "stack.display()\n",
    "popped_item = stack.pop()\n",
    "if popped_item is not None:\n",
    "    print(f\"Popped item: {popped_item}\")\n",
    "else:\n",
    "    print(\"Stack is empty\")\n",
    "print(\"Stack elements after popping:\")\n",
    "stack.display()"
   ]
  }
 ],
 "metadata": {
  "kernelspec": {
   "display_name": "Python 3 (ipykernel)",
   "language": "python",
   "name": "python3"
  },
  "language_info": {
   "codemirror_mode": {
    "name": "ipython",
    "version": 3
   },
   "file_extension": ".py",
   "mimetype": "text/x-python",
   "name": "python",
   "nbconvert_exporter": "python",
   "pygments_lexer": "ipython3",
   "version": "3.11.4"
  }
 },
 "nbformat": 4,
 "nbformat_minor": 5
}
