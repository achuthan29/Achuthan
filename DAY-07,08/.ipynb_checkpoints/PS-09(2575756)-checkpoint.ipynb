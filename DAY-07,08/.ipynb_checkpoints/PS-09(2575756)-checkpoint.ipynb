{
 "cells": [
  {
   "cell_type": "markdown",
   "id": "0c419ffd",
   "metadata": {},
   "source": [
    "# 9. Write a program in python to convert the following infix expression to its postfix form using push and pop operations of a Stack\n",
    "\n",
    "a. A/B C D E-F\"G\n",
    "\n",
    "b. (B^2-4 A*C)^(1/2) (100)"
   ]
  },
  {
   "cell_type": "code",
   "execution_count": 1,
   "id": "376f7746",
   "metadata": {},
   "outputs": [
    {
     "name": "stdout",
     "output_type": "stream",
     "text": [
      "Infix Expression 1: A/B C D E-F\"G\n",
      "Postfix Expression 1: AB/C D EF- G\"\n",
      "\n",
      "Infix Expression 2: (B^2-4*A*C)^(1/2)*(100)\n",
      "Postfix Expression 2: B2^4A*C*-12/^100*\n"
     ]
    }
   ],
   "source": [
    "class Stack:\n",
    "    def __init__(self):\n",
    "        self.items = []\n",
    "    def push(self, item):\n",
    "        self.items.append(item)\n",
    "    def pop(self):\n",
    "        if not self.is_empty():\n",
    "            return self.items.pop()\n",
    "        else:\n",
    "            return None\n",
    "    def peek(self):\n",
    "        if not self.is_empty():\n",
    "            return self.items[-1]\n",
    "        else:\n",
    "            return None\n",
    "    def is_empty(self):\n",
    "        return len(self.items) == 0\n",
    "def infix_to_postfix(expression):\n",
    "    precedence = {'+': 1, '-': 1, '*': 2, '/': 2, '^': 3}\n",
    "    output = []\n",
    "    stack = Stack()\n",
    "    for token in expression:\n",
    "        if token.isalnum():\n",
    "            output.append(token)\n",
    "        elif token == '(':\n",
    "            stack.push(token)\n",
    "        elif token == ')':\n",
    "            while not stack.is_empty() and stack.peek() != '(':\n",
    "                output.append(stack.pop())\n",
    "            stack.pop()  # Pop the '('\n",
    "        else:\n",
    "            while (not stack.is_empty() and\n",
    "                   stack.peek() != '(' and\n",
    "                   precedence.get(token, 0) <= precedence.get(stack.peek(), 0)):\n",
    "                output.append(stack.pop())\n",
    "            stack.push(token)\n",
    "    while not stack.is_empty():\n",
    "        output.append(stack.pop())\n",
    "    return ''.join(output)\n",
    "expression1 = \"A/B C D E-F\\\"G\"\n",
    "expression2 = \"(B^2-4*A*C)^(1/2)*(100)\"\n",
    "\n",
    "postfix1 = infix_to_postfix(expression1)\n",
    "postfix2 = infix_to_postfix(expression2)\n",
    "\n",
    "print(\"Infix Expression 1:\", expression1)\n",
    "print(\"Postfix Expression 1:\", postfix1)\n",
    "\n",
    "print(\"\\nInfix Expression 2:\", expression2)\n",
    "print(\"Postfix Expression 2:\", postfix2)\n"
   ]
  }
 ],
 "metadata": {
  "kernelspec": {
   "display_name": "Python 3 (ipykernel)",
   "language": "python",
   "name": "python3"
  },
  "language_info": {
   "codemirror_mode": {
    "name": "ipython",
    "version": 3
   },
   "file_extension": ".py",
   "mimetype": "text/x-python",
   "name": "python",
   "nbconvert_exporter": "python",
   "pygments_lexer": "ipython3",
   "version": "3.11.4"
  }
 },
 "nbformat": 4,
 "nbformat_minor": 5
}
