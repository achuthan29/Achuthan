{
 "cells": [
  {
   "cell_type": "markdown",
   "id": "243df9cd",
   "metadata": {},
   "source": [
    "# 2. Write a Python program to implement binary search to find the target values from the list:\n",
    "\n",
    "a. Create a separate function to do binary search. b. Get the number of inputs from the user.\n",
    "\n",
    "c. Store the inputs individually in a list.\n",
    "\n",
    "d. In binary search function at first sort the list in order to start the search from middle of the list. \n",
    "\n",
    "e Compare the middle element to right and left elements to search target element\n",
    "\n",
    "f. If greater, move to right of list or else move to another side of the list.\n",
    "\n",
    "g. Print the result along with the position of the element.\n"
   ]
  },
  {
   "cell_type": "code",
   "execution_count": 3,
   "id": "694c5b4b",
   "metadata": {},
   "outputs": [
    {
     "name": "stdout",
     "output_type": "stream",
     "text": [
      "Enter the number of elements: 6\n",
      "Enter element 1: 1\n",
      "Enter element 2: 2\n",
      "Enter element 3: 3\n",
      "Enter element 4: 4\n",
      "Enter element 5: 5\n",
      "Enter element 6: 6\n",
      "Enter the item to be searched: 2\n",
      "The item 2 was found at position 2.\n"
     ]
    }
   ],
   "source": [
    "def binary_search(arr, target):\n",
    "    arr.sort()  \n",
    "    left, right = 0, len(arr) - 1\n",
    "    while left <= right:\n",
    "        mid = (left + right) // 2  \n",
    "\n",
    "        if arr[mid] == target:\n",
    "            return mid \n",
    "        elif arr[mid] < target:\n",
    "            left = mid + 1\n",
    "        else:\n",
    "            right = mid - 1  \n",
    "    return -1  \n",
    "\n",
    "num_inputs = int(input(\"Enter the number of elements: \"))\n",
    "input_list = []\n",
    "for i in range(num_inputs):\n",
    "    element = int(input(f\"Enter element {i + 1}: \"))\n",
    "    input_list.append(element)\n",
    "match_item = int(input(\"Enter the item to be searched: \"))\n",
    "result = binary_search(input_list, match_item)\n",
    "if result != -1:\n",
    "    print(f\"The item {match_item} was found at position {result + 1}.\")\n",
    "else:\n",
    "    print(f\"The item {match_item} was not found in the list.\")\n"
   ]
  }
 ],
 "metadata": {
  "kernelspec": {
   "display_name": "Python 3 (ipykernel)",
   "language": "python",
   "name": "python3"
  },
  "language_info": {
   "codemirror_mode": {
    "name": "ipython",
    "version": 3
   },
   "file_extension": ".py",
   "mimetype": "text/x-python",
   "name": "python",
   "nbconvert_exporter": "python",
   "pygments_lexer": "ipython3",
   "version": "3.11.4"
  }
 },
 "nbformat": 4,
 "nbformat_minor": 5
}
