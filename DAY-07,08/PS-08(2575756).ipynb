{
 "cells": [
  {
   "cell_type": "markdown",
   "id": "b871f0b2",
   "metadata": {},
   "source": [
    "# 8. Write a python script to implement the various operations for Queue ADT\n",
    "\n",
    "i) Insert \n",
    "ii.) Delete \n",
    "iii.) Display"
   ]
  },
  {
   "cell_type": "code",
   "execution_count": 3,
   "id": "e3d0599d",
   "metadata": {},
   "outputs": [
    {
     "name": "stdout",
     "output_type": "stream",
     "text": [
      "Queue elements:\n",
      "20\n",
      "30\n",
      "60\n",
      "Deleted item: 20\n",
      "Queue elements after deleting:\n",
      "30\n",
      "60\n"
     ]
    }
   ],
   "source": [
    "class Queue:\n",
    "    def __init__(self):\n",
    "        self.items = []\n",
    "\n",
    "    def is_empty(self):\n",
    "        return len(self.items) == 0\n",
    "\n",
    "    def insert(self, item):\n",
    "        self.items.append(item)\n",
    "\n",
    "    def delete(self):\n",
    "        if not self.is_empty():\n",
    "            return self.items.pop(0)\n",
    "        else:\n",
    "            return None  # Queue is empty\n",
    "\n",
    "    def display(self):\n",
    "        if not self.is_empty():\n",
    "            for item in self.items:\n",
    "                print(item)\n",
    "        else:\n",
    "            print(\"Queue is empty\")\n",
    "queue = Queue()\n",
    "queue.insert(20)\n",
    "queue.insert(30)\n",
    "queue.insert(60)\n",
    "print(\"Queue elements:\")\n",
    "queue.display()\n",
    "deleted_item = queue.delete()\n",
    "if deleted_item is not None:\n",
    "    print(f\"Deleted item: {deleted_item}\")\n",
    "else:\n",
    "    print(\"Queue is empty\")\n",
    "print(\"Queue elements after deleting:\")\n",
    "queue.display()"
   ]
  },
  {
   "cell_type": "code",
   "execution_count": null,
   "id": "bbc02c4b",
   "metadata": {},
   "outputs": [],
   "source": []
  }
 ],
 "metadata": {
  "kernelspec": {
   "display_name": "Python 3 (ipykernel)",
   "language": "python",
   "name": "python3"
  },
  "language_info": {
   "codemirror_mode": {
    "name": "ipython",
    "version": 3
   },
   "file_extension": ".py",
   "mimetype": "text/x-python",
   "name": "python",
   "nbconvert_exporter": "python",
   "pygments_lexer": "ipython3",
   "version": "3.11.4"
  }
 },
 "nbformat": 4,
 "nbformat_minor": 5
}
