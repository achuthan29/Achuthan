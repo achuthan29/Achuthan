{
 "cells": [
  {
   "cell_type": "markdown",
   "id": "9257676a",
   "metadata": {},
   "source": [
    "# 3. Write a Python program for sorting a list of elements using selection sort algorithm:\n",
    "\n",
    "a. Assume two lists: Sorted list- Initially empty and Unsorted List-Given input list. \n",
    "    \n",
    "b. In the first iteration, find the smallest element in the unsorted list and place it in the sorted list.\n",
    "\n",
    "c. In the second iteration, find the smallest element in the unsorted list and place it in the correct position by comparing with the element in the sorted list.\n",
    "\n",
    "d. In the third iteration, again find the smallest element in the unsorted fist and place it in the currect position by comparing with the elements in the sorted list.\n",
    "\n",
    "e. This process continues till the unsorted list becomes empty.\n",
    "\n",
    "f. Display the sorted list."
   ]
  },
  {
   "cell_type": "code",
   "execution_count": 1,
   "id": "fc1d0435",
   "metadata": {},
   "outputs": [
    {
     "name": "stdout",
     "output_type": "stream",
     "text": [
      "Sorted list: [11, 12, 22, 25, 64]\n"
     ]
    }
   ],
   "source": [
    "def selection_sort(input_list):\n",
    "    sorted_list = []  \n",
    "    while input_list:\n",
    "        smallest = min(input_list)\n",
    "        input_list.remove(smallest)\n",
    "        sorted_list.append(smallest)\n",
    "    return sorted_list\n",
    "\n",
    "input_list = [64, 25, 12, 22, 11]\n",
    "sorted_result = selection_sort(input_list)\n",
    "print(\"Sorted list:\", sorted_result)"
   ]
  }
 ],
 "metadata": {
  "kernelspec": {
   "display_name": "Python 3 (ipykernel)",
   "language": "python",
   "name": "python3"
  },
  "language_info": {
   "codemirror_mode": {
    "name": "ipython",
    "version": 3
   },
   "file_extension": ".py",
   "mimetype": "text/x-python",
   "name": "python",
   "nbconvert_exporter": "python",
   "pygments_lexer": "ipython3",
   "version": "3.11.4"
  }
 },
 "nbformat": 4,
 "nbformat_minor": 5
}
