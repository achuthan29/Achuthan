{
 "cells": [
  {
   "cell_type": "code",
   "execution_count": 45,
   "id": "1dbf9a51",
   "metadata": {},
   "outputs": [],
   "source": [
    "%matplotlib inline\n",
    "import pandas as pd"
   ]
  },
  {
   "cell_type": "code",
   "execution_count": null,
   "id": "129c9688",
   "metadata": {},
   "outputs": [],
   "source": [
    "from IPython.core.display import HTML\n",
    "css=open('style-table.css').read()+open('style-notebook.css').read() \n",
    "HTML('<style>()</style>.format(css)')"
   ]
  },
  {
   "cell_type": "code",
   "execution_count": 84,
   "id": "59808719",
   "metadata": {
    "scrolled": true
   },
   "outputs": [
    {
     "data": {
      "text/html": [
       "<div>\n",
       "<style scoped>\n",
       "    .dataframe tbody tr th:only-of-type {\n",
       "        vertical-align: middle;\n",
       "    }\n",
       "\n",
       "    .dataframe tbody tr th {\n",
       "        vertical-align: top;\n",
       "    }\n",
       "\n",
       "    .dataframe thead th {\n",
       "        text-align: right;\n",
       "    }\n",
       "</style>\n",
       "<table border=\"1\" class=\"dataframe\">\n",
       "  <thead>\n",
       "    <tr style=\"text-align: right;\">\n",
       "      <th></th>\n",
       "      <th>title</th>\n",
       "      <th>year</th>\n",
       "    </tr>\n",
       "  </thead>\n",
       "  <tbody>\n",
       "    <tr>\n",
       "      <th>0</th>\n",
       "      <td>Tasveer Mere Sanam</td>\n",
       "      <td>1996</td>\n",
       "    </tr>\n",
       "    <tr>\n",
       "      <th>1</th>\n",
       "      <td>Only You</td>\n",
       "      <td>1994</td>\n",
       "    </tr>\n",
       "    <tr>\n",
       "      <th>2</th>\n",
       "      <td>El pueblo del terror</td>\n",
       "      <td>1970</td>\n",
       "    </tr>\n",
       "    <tr>\n",
       "      <th>3</th>\n",
       "      <td>Machine</td>\n",
       "      <td>2007</td>\n",
       "    </tr>\n",
       "    <tr>\n",
       "      <th>4</th>\n",
       "      <td>MARy</td>\n",
       "      <td>2008</td>\n",
       "    </tr>\n",
       "  </tbody>\n",
       "</table>\n",
       "</div>"
      ],
      "text/plain": [
       "                  title  year\n",
       "0    Tasveer Mere Sanam  1996\n",
       "1              Only You  1994\n",
       "2  El pueblo del terror  1970\n",
       "3               Machine  2007\n",
       "4                  MARy  2008"
      ]
     },
     "execution_count": 84,
     "metadata": {},
     "output_type": "execute_result"
    }
   ],
   "source": [
    "cast = pd.read_csv('cast.csv')\n",
    "titles = pd.read_csv('titles.csv') \n",
    "titles.head()"
   ]
  },
  {
   "cell_type": "markdown",
   "id": "767bcdf7",
   "metadata": {},
   "source": [
    "# How many movies are listed in the titles dataframe?"
   ]
  },
  {
   "cell_type": "code",
   "execution_count": 52,
   "id": "69cb1a52",
   "metadata": {},
   "outputs": [
    {
     "name": "stdout",
     "output_type": "stream",
     "text": [
      "Total number of movies listed: 244914\n"
     ]
    }
   ],
   "source": [
    "total_movies = len(titles)\n",
    "print(\"Total number of movies listed:\", total_movies)"
   ]
  },
  {
   "cell_type": "markdown",
   "id": "34b5fc39",
   "metadata": {},
   "source": [
    "# What are the earliest two films listed in the titles dataframe?"
   ]
  },
  {
   "cell_type": "code",
   "execution_count": 53,
   "id": "bd21bc42",
   "metadata": {},
   "outputs": [
    {
     "name": "stdout",
     "output_type": "stream",
     "text": [
      "The earliest two films listed:\n",
      "                     title  year\n",
      "193222          Miss Jerry  1894\n",
      "51388   The Startled Lover  1898\n"
     ]
    }
   ],
   "source": [
    "earliest_films = titles.sort_values('year').head(2)\n",
    "print(\"The earliest two films listed:\")\n",
    "print(earliest_films)"
   ]
  },
  {
   "cell_type": "markdown",
   "id": "3bf0a28e",
   "metadata": {},
   "source": [
    "# How many movies have the title \"Hamlet\"?"
   ]
  },
  {
   "cell_type": "code",
   "execution_count": 54,
   "id": "2e1428be",
   "metadata": {},
   "outputs": [
    {
     "name": "stdout",
     "output_type": "stream",
     "text": [
      "Number of movies with the title 'Hamlet': 20\n"
     ]
    }
   ],
   "source": [
    "hamlet_movies = titles[titles['title'] == 'Hamlet']\n",
    "num_hamlet_movies = len(hamlet_movies)\n",
    "print(\"Number of movies with the title 'Hamlet':\", num_hamlet_movies)"
   ]
  },
  {
   "cell_type": "markdown",
   "id": "dc1a678c",
   "metadata": {},
   "source": [
    "# How many movies are titled \"North by Northwest\"?"
   ]
  },
  {
   "cell_type": "code",
   "execution_count": 55,
   "id": "c26c3e47",
   "metadata": {},
   "outputs": [
    {
     "name": "stdout",
     "output_type": "stream",
     "text": [
      "Number of movies with the title 'North by Northwest': 1\n"
     ]
    }
   ],
   "source": [
    "north_by_nw_movies = titles[titles['title'] == 'North by Northwest']\n",
    "num_north_by_nw_movies = len(north_by_nw_movies)\n",
    "print(\"Number of movies with the title 'North by Northwest':\", num_north_by_nw_movies)"
   ]
  },
  {
   "cell_type": "markdown",
   "id": "a6ae2f83",
   "metadata": {},
   "source": [
    "# When was the first movie titled \"Hamlet\" made?"
   ]
  },
  {
   "cell_type": "code",
   "execution_count": 56,
   "id": "92b28252",
   "metadata": {},
   "outputs": [
    {
     "name": "stdout",
     "output_type": "stream",
     "text": [
      "The first movie titled 'Hamlet' was made in:\n",
      "1910\n"
     ]
    }
   ],
   "source": [
    "first_hamlet_movie = hamlet_movies.sort_values('year').head(1)\n",
    "print(\"The first movie titled 'Hamlet' was made in:\")\n",
    "print(first_hamlet_movie['year'].values[0])"
   ]
  },
  {
   "cell_type": "markdown",
   "id": "7b35cedc",
   "metadata": {},
   "source": [
    "# List all of the \"Treasure Island\" movies from earliest to most recent."
   ]
  },
  {
   "cell_type": "code",
   "execution_count": 57,
   "id": "51aca796",
   "metadata": {},
   "outputs": [
    {
     "name": "stdout",
     "output_type": "stream",
     "text": [
      "List of 'Treasure Island' movies from earliest to most recent:\n",
      "                  title  year\n",
      "55686   Treasure Island  1918\n",
      "196514  Treasure Island  1920\n",
      "141822  Treasure Island  1934\n",
      "77354   Treasure Island  1950\n",
      "65051   Treasure Island  1972\n",
      "37238   Treasure Island  1973\n",
      "173051  Treasure Island  1985\n",
      "27076   Treasure Island  1999\n"
     ]
    }
   ],
   "source": [
    "treasure_island_movies = titles[titles['title'] == 'Treasure Island'].sort_values('year')\n",
    "print(\"List of 'Treasure Island' movies from earliest to most recent:\")\n",
    "print(treasure_island_movies)"
   ]
  },
  {
   "cell_type": "markdown",
   "id": "e553eac4",
   "metadata": {},
   "source": [
    "# How many movies were made in the year 1950?"
   ]
  },
  {
   "cell_type": "code",
   "execution_count": 58,
   "id": "6ce53e42",
   "metadata": {},
   "outputs": [
    {
     "name": "stdout",
     "output_type": "stream",
     "text": [
      "Number of movies made in the year 1950: 1113\n"
     ]
    }
   ],
   "source": [
    "movies_1950 = len(titles[titles['year'] == 1950])\n",
    "print(\"Number of movies made in the year 1950:\", movies_1950)"
   ]
  },
  {
   "cell_type": "markdown",
   "id": "16eebcc3",
   "metadata": {},
   "source": [
    "# How many movies were made in the year 1960"
   ]
  },
  {
   "cell_type": "code",
   "execution_count": 59,
   "id": "b718e85a",
   "metadata": {},
   "outputs": [
    {
     "name": "stdout",
     "output_type": "stream",
     "text": [
      "Number of movies made in the year 1960: 1549\n"
     ]
    }
   ],
   "source": [
    "movies_1960 = len(titles[titles['year'] == 1960])\n",
    "print(\"Number of movies made in the year 1960:\", movies_1960)"
   ]
  },
  {
   "cell_type": "markdown",
   "id": "024bebac",
   "metadata": {},
   "source": [
    "# How many movies were made from 1950 through 1959?"
   ]
  },
  {
   "cell_type": "code",
   "execution_count": 60,
   "id": "1e1caece",
   "metadata": {},
   "outputs": [
    {
     "name": "stdout",
     "output_type": "stream",
     "text": [
      "Number of movies made from 1950 through 1959: 12934\n"
     ]
    }
   ],
   "source": [
    "movies_1950s = len(titles[(titles['year'] >= 1950) & (titles['year'] <= 1959)])\n",
    "print(\"Number of movies made from 1950 through 1959:\", movies_1950s)"
   ]
  },
  {
   "cell_type": "markdown",
   "id": "facceaa6",
   "metadata": {},
   "source": [
    "# In what years has a movie titled \"Batman\" been released?"
   ]
  },
  {
   "cell_type": "code",
   "execution_count": 61,
   "id": "f02cc739",
   "metadata": {},
   "outputs": [
    {
     "name": "stdout",
     "output_type": "stream",
     "text": [
      "Years in which a movie titled 'Batman' has been released: [1943 1989]\n"
     ]
    }
   ],
   "source": [
    "batman_movies = titles[titles['title'] == 'Batman']\n",
    "batman_release_years = batman_movies['year'].unique()\n",
    "print(\"Years in which a movie titled 'Batman' has been released:\", batman_release_years)"
   ]
  },
  {
   "cell_type": "markdown",
   "id": "6d5ddb57",
   "metadata": {},
   "source": [
    "# How many roles were there in the movie \"Inception\"?"
   ]
  },
  {
   "cell_type": "code",
   "execution_count": 62,
   "id": "09c6aa5d",
   "metadata": {},
   "outputs": [
    {
     "name": "stdout",
     "output_type": "stream",
     "text": [
      "Number of roles in the movie 'Inception': 78\n"
     ]
    }
   ],
   "source": [
    "inception_movie = titles[(titles['title'] == 'Inception') & (titles['year'] == 2010)]\n",
    "inception_cast = pd.read_csv('cast.csv')\n",
    "inception_roles = len(inception_cast[(inception_cast['title'] == 'Inception') & (inception_cast['year'] == 2010)])\n",
    "print(\"Number of roles in the movie 'Inception':\", inception_roles)\n"
   ]
  },
  {
   "cell_type": "markdown",
   "id": "63b2a1d1",
   "metadata": {},
   "source": [
    "# How many roles in the movie \"Inception\" are NOT ranked by an \"n\" value?"
   ]
  },
  {
   "cell_type": "code",
   "execution_count": 63,
   "id": "a5006fc9",
   "metadata": {},
   "outputs": [
    {
     "name": "stdout",
     "output_type": "stream",
     "text": [
      "Number of roles in 'Inception' without an 'n' value: 27\n"
     ]
    }
   ],
   "source": [
    "\n",
    "roles_without_n_value = len(inception_cast[(inception_cast['title'] == 'Inception') & (inception_cast['year'] == 2010) & inception_cast['n'].isna()])\n",
    "print(\"Number of roles in 'Inception' without an 'n' value:\", roles_without_n_value)"
   ]
  },
  {
   "cell_type": "markdown",
   "id": "645e5fee",
   "metadata": {},
   "source": [
    "# How many roles in the movie \"Inception\" did receive an \"n\" value?"
   ]
  },
  {
   "cell_type": "code",
   "execution_count": 64,
   "id": "cd6390c0",
   "metadata": {},
   "outputs": [
    {
     "name": "stdout",
     "output_type": "stream",
     "text": [
      "Number of roles in 'Inception' with an 'n' value: 51\n"
     ]
    }
   ],
   "source": [
    "\n",
    "roles_with_n_value = len(inception_cast[(inception_cast['title'] == 'Inception') & (inception_cast['year'] == 2010) & inception_cast['n'].notna()])\n",
    "print(\"Number of roles in 'Inception' with an 'n' value:\", roles_with_n_value)"
   ]
  },
  {
   "cell_type": "markdown",
   "id": "58eac32a",
   "metadata": {},
   "source": [
    "# Display the cast of \"North by Northwest\" in their correct \"n\"-value order, ignoring roles that did not earn a numeric \"n\" value."
   ]
  },
  {
   "cell_type": "code",
   "execution_count": 65,
   "id": "4cd5bc84",
   "metadata": {},
   "outputs": [
    {
     "name": "stdout",
     "output_type": "stream",
     "text": [
      "Cast of 'North by Northwest' in 'n' value order:\n",
      "                         name     n\n",
      "871426             Cary Grant   1.0\n",
      "3518333       Eva Marie Saint   2.0\n",
      "1457165           James Mason   3.0\n",
      "3157232   Jessie Royce Landis   4.0\n",
      "356707         Leo G. Carroll   5.0\n",
      "3048272  Josephine Hutchinson   6.0\n",
      "1695173           Philip Ober   7.0\n",
      "1275337         Martin Landau   8.0\n",
      "2447081         Adam Williams   9.0\n",
      "1811387          Edward Platt  10.0\n",
      "665768      Robert Ellenstein  11.0\n",
      "2295714          Les Tremayne  12.0\n",
      "464736        Philip Coolidge  13.0\n",
      "1508344         Patrick McVey  14.0\n",
      "206471           Edward Binns  15.0\n",
      "1384780             Ken Lynch  16.0\n"
     ]
    }
   ],
   "source": [
    "north_by_northwest_cast = inception_cast[(inception_cast['title'] == 'North by Northwest')].dropna(subset=['n']).sort_values('n')\n",
    "print(\"Cast of 'North by Northwest' in 'n' value order:\")\n",
    "print(north_by_northwest_cast[['name', 'n']])\n"
   ]
  },
  {
   "cell_type": "markdown",
   "id": "e5dd65d4",
   "metadata": {},
   "source": [
    "# Display the entire cast, in n-order, of the 1972 film \"Sleuth\""
   ]
  },
  {
   "cell_type": "code",
   "execution_count": 66,
   "id": "cc5291b1",
   "metadata": {},
   "outputs": [
    {
     "name": "stdout",
     "output_type": "stream",
     "text": [
      "Cast of the 1972 film 'Sleuth' in 'n' value order:\n",
      "                       name    n\n",
      "1705394    Laurence Olivier  1.0\n",
      "326773        Michael Caine  2.0\n",
      "373876       Alec Cawthorne  3.0\n",
      "1465483  John (II) Matthews  4.0\n",
      "2724553  Eve (III) Channing  5.0\n",
      "1448690        Teddy Martin  6.0\n"
     ]
    }
   ],
   "source": [
    "\n",
    "sleuth_1972_cast = inception_cast[(inception_cast['title'] == 'Sleuth') & (inception_cast['year'] == 1972)].sort_values('n')\n",
    "print(\"Cast of the 1972 film 'Sleuth' in 'n' value order:\")\n",
    "print(sleuth_1972_cast[['name', 'n']])"
   ]
  },
  {
   "cell_type": "markdown",
   "id": "07de153f",
   "metadata": {},
   "source": [
    "# Display the entire cast, in \"n\"-order, of the 2007 version of \"Sleuth\""
   ]
  },
  {
   "cell_type": "code",
   "execution_count": 67,
   "id": "11e618f4",
   "metadata": {},
   "outputs": [
    {
     "name": "stdout",
     "output_type": "stream",
     "text": [
      "Cast of the 2007 version of 'Sleuth' in 'n' value order:\n",
      "                        name    n\n",
      "326774         Michael Caine  1.0\n",
      "1293634             Jude Law  2.0\n",
      "1805907        Harold Pinter  3.0\n",
      "260242       Kenneth Branagh  NaN\n",
      "373877   Alec (II) Cawthorne  NaN\n",
      "2724552    Eve (II) Channing  NaN\n",
      "3370424    Carmel O'Sullivan  NaN\n"
     ]
    }
   ],
   "source": [
    "\n",
    "sleuth_2007_cast = inception_cast[(inception_cast['title'] == 'Sleuth') & (inception_cast['year'] == 2007)].sort_values('n')\n",
    "print(\"Cast of the 2007 version of 'Sleuth' in 'n' value order:\")\n",
    "print(sleuth_2007_cast[['name', 'n']])"
   ]
  },
  {
   "cell_type": "markdown",
   "id": "d6d70a8a",
   "metadata": {},
   "source": [
    "# How many roles were credited in the silent 1921 version of Hamlet?"
   ]
  },
  {
   "cell_type": "code",
   "execution_count": 68,
   "id": "8ffa7505",
   "metadata": {},
   "outputs": [
    {
     "name": "stdout",
     "output_type": "stream",
     "text": [
      "Number of roles credited in the silent 1921 version of 'Hamlet': 9\n"
     ]
    }
   ],
   "source": [
    "\n",
    "roles_hamlet_1921 = len(inception_cast[(inception_cast['title'] == 'Hamlet') & (inception_cast['year'] == 1921)])\n",
    "print(\"Number of roles credited in the silent 1921 version of 'Hamlet':\", roles_hamlet_1921)"
   ]
  },
  {
   "cell_type": "markdown",
   "id": "b9a8acdb",
   "metadata": {},
   "source": [
    "# How many roles were credited in Branagh's 1996 Hamlet?"
   ]
  },
  {
   "cell_type": "code",
   "execution_count": 69,
   "id": "cfdf5f03",
   "metadata": {},
   "outputs": [
    {
     "name": "stdout",
     "output_type": "stream",
     "text": [
      "Number of roles credited in Branagh's 1996 'Hamlet': 54\n"
     ]
    }
   ],
   "source": [
    "\n",
    "roles_hamlet_1996 = len(inception_cast[(inception_cast['title'] == 'Hamlet') & (inception_cast['year'] == 1996)])\n",
    "print(\"Number of roles credited in Branagh's 1996 'Hamlet':\", roles_hamlet_1996)\n"
   ]
  },
  {
   "cell_type": "markdown",
   "id": "16d9a4c4",
   "metadata": {},
   "source": [
    "# How many \"Hamlet\" roles have been Rated in all film credits through history?"
   ]
  },
  {
   "cell_type": "code",
   "execution_count": 70,
   "id": "bd59283b",
   "metadata": {},
   "outputs": [
    {
     "name": "stdout",
     "output_type": "stream",
     "text": [
      "Number of 'Hamlet' roles with an 'n' value through history: 249\n"
     ]
    }
   ],
   "source": [
    "\n",
    "hamlet_roles = len(inception_cast[(inception_cast['title'] == 'Hamlet') & inception_cast['n'].notna()])\n",
    "print(\"Number of 'Hamlet' roles with an 'n' value through history:\", hamlet_roles)"
   ]
  },
  {
   "cell_type": "markdown",
   "id": "28bbca54",
   "metadata": {},
   "source": [
    "# How many people have played an \"Ophelia\"?"
   ]
  },
  {
   "cell_type": "code",
   "execution_count": 71,
   "id": "d11e1b21",
   "metadata": {},
   "outputs": [
    {
     "name": "stdout",
     "output_type": "stream",
     "text": [
      "Number of roles as 'Ophelia': 117\n",
      "Number of unique actors who played 'Ophelia': 115\n"
     ]
    }
   ],
   "source": [
    "\n",
    "ophelia_roles = len(inception_cast[(inception_cast['character'] == 'Ophelia')])\n",
    "unique_ophelia_actors = len(inception_cast[(inception_cast['character'] == 'Ophelia')]['name'].unique())\n",
    "print(\"Number of roles as 'Ophelia':\", ophelia_roles)\n",
    "print(\"Number of unique actors who played 'Ophelia':\", unique_ophelia_actors)"
   ]
  },
  {
   "cell_type": "markdown",
   "id": "ef9468a2",
   "metadata": {},
   "source": [
    "# How many people have played a role called \"The Dude\"?"
   ]
  },
  {
   "cell_type": "code",
   "execution_count": 72,
   "id": "39b0c229",
   "metadata": {},
   "outputs": [
    {
     "name": "stdout",
     "output_type": "stream",
     "text": [
      "Number of people who have played a role called 'The Dude': 19\n"
     ]
    }
   ],
   "source": [
    "\n",
    "dude_roles = cast[cast['character'] == 'The Dude']\n",
    "num_dude_actors = len(dude_roles['name'].unique())\n",
    "print(\"Number of people who have played a role called 'The Dude':\", num_dude_actors)"
   ]
  },
  {
   "cell_type": "markdown",
   "id": "f3cf04a4",
   "metadata": {},
   "source": [
    "# How many people have played a role called \"The Stranger\"?"
   ]
  },
  {
   "cell_type": "code",
   "execution_count": 73,
   "id": "5df9b264",
   "metadata": {},
   "outputs": [
    {
     "name": "stdout",
     "output_type": "stream",
     "text": [
      "Number of people who have played a role called 'The Stranger': 202\n"
     ]
    }
   ],
   "source": [
    "\n",
    "stranger_roles = cast[cast['character'] == 'The Stranger']\n",
    "num_stranger_actors = len(stranger_roles['name'].unique())\n",
    "print(\"Number of people who have played a role called 'The Stranger':\", num_stranger_actors)\n"
   ]
  },
  {
   "cell_type": "markdown",
   "id": "6b0e56ca",
   "metadata": {},
   "source": [
    "# How many roles has Sidney Poitier played throughout his career?"
   ]
  },
  {
   "cell_type": "code",
   "execution_count": 74,
   "id": "3d936706",
   "metadata": {},
   "outputs": [
    {
     "name": "stdout",
     "output_type": "stream",
     "text": [
      "Number of roles Sidney Poitier has played throughout his career: 43\n"
     ]
    }
   ],
   "source": [
    "\n",
    "sidney_poitier_roles = len(cast[cast['name'] == 'Sidney Poitier'])\n",
    "print(\"Number of roles Sidney Poitier has played throughout his career:\", sidney_poitier_roles)"
   ]
  },
  {
   "cell_type": "markdown",
   "id": "deea8d2a",
   "metadata": {},
   "source": [
    "# How many roles has Judi Dench played?"
   ]
  },
  {
   "cell_type": "code",
   "execution_count": 75,
   "id": "4738fa93",
   "metadata": {},
   "outputs": [
    {
     "name": "stdout",
     "output_type": "stream",
     "text": [
      "Number of roles Judi Dench has played: 55\n"
     ]
    }
   ],
   "source": [
    "\n",
    "judi_dench_roles = len(cast[cast['name'] == 'Judi Dench'])\n",
    "print(\"Number of roles Judi Dench has played:\", judi_dench_roles)"
   ]
  },
  {
   "cell_type": "markdown",
   "id": "63998aca",
   "metadata": {},
   "source": [
    "# List the supporting roles (having n=2) played by Cary Grant in the 1940s, in order by year."
   ]
  },
  {
   "cell_type": "code",
   "execution_count": 76,
   "id": "d9c4016f",
   "metadata": {},
   "outputs": [
    {
     "name": "stdout",
     "output_type": "stream",
     "text": [
      "Supporting roles played by Cary Grant in the 1940s, in order by year:\n",
      "          character  year\n",
      "871423   Nick Arden  1940\n",
      "871433  Roger Adams  1941\n"
     ]
    }
   ],
   "source": [
    "\n",
    "cary_grant_supporting_1940s = cast[(cast['name'] == 'Cary Grant') & (cast['n'] == 2) & (cast['year'] // 10 == 194)]\n",
    "supporting_roles_by_year = cary_grant_supporting_1940s.sort_values('year')\n",
    "print(\"Supporting roles played by Cary Grant in the 1940s, in order by year:\")\n",
    "print(supporting_roles_by_year[['character', 'year']])"
   ]
  },
  {
   "cell_type": "markdown",
   "id": "7f90e0ad",
   "metadata": {},
   "source": [
    "# List the leading roles that Cary Grant played in the 1940s in order by year."
   ]
  },
  {
   "cell_type": "code",
   "execution_count": 77,
   "id": "554f4f58",
   "metadata": {},
   "outputs": [
    {
     "name": "stdout",
     "output_type": "stream",
     "text": [
      "Leading roles played by Cary Grant in the 1940s, in order by year:\n",
      "                                   character  year\n",
      "871448                           Matt Howard  1940\n",
      "871407                          Walter Burns  1940\n",
      "871450                    C. K. Dexter Haven  1940\n",
      "871438                      Johnnie Aysgarth  1941\n",
      "871452                          Leopold Dilg  1942\n",
      "871429                 Patrick 'Pat' O'Toole  1942\n",
      "871398                         Capt. Cassidy  1943\n",
      "871422  Joe Adams -posing as Joe Bascopolous  1943\n",
      "871430                           Jerry Flynn  1944\n",
      "871390                     Mortimer Brewster  1944\n",
      "871425                            Ernie Mott  1944\n",
      "871424                           Cole Porter  1946\n",
      "871427                                Devlin  1946\n",
      "871444                           Dick Nugent  1947\n",
      "871445                                Dudley  1947\n",
      "871421                         Jim Blandings  1948\n",
      "871402                     Dr. Madison Brown  1948\n",
      "871411                 Captain Henri Rochard  1949\n"
     ]
    }
   ],
   "source": [
    "\n",
    "cary_grant_leading_1940s = cast[(cast['name'] == 'Cary Grant') & (cast['n'] == 1) & (cast['year'] // 10 == 194)]\n",
    "leading_roles_by_year = cary_grant_leading_1940s.sort_values('year')\n",
    "print(\"Leading roles played by Cary Grant in the 1940s, in order by year:\")\n",
    "print(leading_roles_by_year[['character', 'year']])"
   ]
  },
  {
   "cell_type": "markdown",
   "id": "fa2726de",
   "metadata": {},
   "source": [
    "# How many roles were available for actors in the 1950s?"
   ]
  },
  {
   "cell_type": "code",
   "execution_count": 78,
   "id": "d533fcc0",
   "metadata": {},
   "outputs": [
    {
     "name": "stdout",
     "output_type": "stream",
     "text": [
      "Number of roles available for actors in the 1950s: 0\n"
     ]
    }
   ],
   "source": [
    "\n",
    "roles_1950s_actors = len(cast[(cast['year'] // 10 == 1950) & (cast['type'] == 'actor')])\n",
    "print(\"Number of roles available for actors in the 1950s:\", roles_1950s_actors)"
   ]
  },
  {
   "cell_type": "markdown",
   "id": "4af413b6",
   "metadata": {},
   "source": [
    "# How many roles were available for actresses in the 1950s?"
   ]
  },
  {
   "cell_type": "code",
   "execution_count": 79,
   "id": "3fb9db31",
   "metadata": {},
   "outputs": [
    {
     "name": "stdout",
     "output_type": "stream",
     "text": [
      "Number of roles available for actresses in the 1950s: 0\n"
     ]
    }
   ],
   "source": [
    "\n",
    "roles_1950s_actresses = len(cast[(cast['year'] // 10 == 1950) & (cast['type'] == 'actress')])\n",
    "print(\"Number of roles available for actresses in the 1950s:\", roles_1950s_actresses)"
   ]
  },
  {
   "cell_type": "markdown",
   "id": "3f67bb67",
   "metadata": {},
   "source": [
    "# How many leading roles (n=1) were available from the beginning of film history through 1980?"
   ]
  },
  {
   "cell_type": "code",
   "execution_count": 80,
   "id": "c67dd041",
   "metadata": {},
   "outputs": [
    {
     "name": "stdout",
     "output_type": "stream",
     "text": [
      "Number of leading roles (n=1) available through 1980: 65140\n"
     ]
    }
   ],
   "source": [
    "\n",
    "leading_roles_through_1980 = len(cast[(cast['n'] == 1) & (cast['year'] <= 1980)])\n",
    "print(\"Number of leading roles (n=1) available through 1980:\", leading_roles_through_1980)\n"
   ]
  },
  {
   "cell_type": "markdown",
   "id": "2be8a690",
   "metadata": {},
   "source": [
    "# How many non-leading roles were available from the beginning of film history through 1980?"
   ]
  },
  {
   "cell_type": "code",
   "execution_count": 81,
   "id": "48caacf2",
   "metadata": {},
   "outputs": [
    {
     "name": "stdout",
     "output_type": "stream",
     "text": [
      "Number of non-leading roles available through 1980: 1117667\n"
     ]
    }
   ],
   "source": [
    "\n",
    "non_leading_roles_through_1980 = len(cast[(cast['n'] != 1) & (cast['year'] <= 1980)])\n",
    "print(\"Number of non-leading roles available through 1980:\", non_leading_roles_through_1980)"
   ]
  },
  {
   "cell_type": "markdown",
   "id": "eefa3499",
   "metadata": {},
   "source": [
    "# How many roles through 1980 were minor enough that they did not warrant a numeric \"n\" rank?"
   ]
  },
  {
   "cell_type": "code",
   "execution_count": 82,
   "id": "5c714c00",
   "metadata": {},
   "outputs": [
    {
     "name": "stdout",
     "output_type": "stream",
     "text": [
      "Number of roles through 1980 without a numeric 'n' rank: 448347\n"
     ]
    }
   ],
   "source": [
    "\n",
    "roles_without_n_rank_through_1980 = len(cast[(cast['n'].isna()) & (cast['year'] <= 1980)])\n",
    "print(\"Number of roles through 1980 without a numeric 'n' rank:\", roles_without_n_rank_through_1980)"
   ]
  }
 ],
 "metadata": {
  "kernelspec": {
   "display_name": "Python 3 (ipykernel)",
   "language": "python",
   "name": "python3"
  },
  "language_info": {
   "codemirror_mode": {
    "name": "ipython",
    "version": 3
   },
   "file_extension": ".py",
   "mimetype": "text/x-python",
   "name": "python",
   "nbconvert_exporter": "python",
   "pygments_lexer": "ipython3",
   "version": "3.11.4"
  }
 },
 "nbformat": 4,
 "nbformat_minor": 5
}
