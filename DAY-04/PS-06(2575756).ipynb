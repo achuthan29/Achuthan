{
 "cells": [
  {
   "cell_type": "markdown",
   "id": "8db0bfc8",
   "metadata": {},
   "source": [
    "# 6. File Processing with Command-Line Arguments- Scenario: You are developing a command-line utility that processes text files. Users can specify input and output file paths as command-line arguments. Your program should handle exceptions gracefully.\n",
    "\n",
    "i. Design a Python program that takes two command-line arguments: the input file path and the output file path. Ensure that the program checks if both arguments are provided and that the input file exists.\n",
    "\n",
    "ii. Implement error handling to deal with scenarios such as missing input files. invalid file paths, or permission issues when writing to the output file.\n",
    "\n",
    "iii. If an error occurs during file processing, display a user-friendly error message. and exit the program with a non-zero exit code\n",
    "\n",
    "iv. Write test cases that cover various scenaries, including providing valid and invalid file paths as enmmand-line arguments"
   ]
  },
  {
   "cell_type": "code",
   "execution_count": 3,
   "id": "e523b314",
   "metadata": {},
   "outputs": [
    {
     "name": "stdout",
     "output_type": "stream",
     "text": [
      "File processed successfully. Output written to C:\\Users\\achut\\AppData\\Roaming\\jupyter\\runtime\\kernel-1b7aee32-459e-4e63-a96b-53e312bfd2bc.json\n"
     ]
    }
   ],
   "source": [
    "import sys\n",
    "\n",
    "def process_text_file(input_file_path, output_file_path):\n",
    "    try:\n",
    "        with open('two.txt', 'r') as input_file:\n",
    "            content = input_file.read()\n",
    "        processed_content = content.upper()  # Example: Convert to uppercase\n",
    "        with open('three.txt', 'w') as output_file:\n",
    "            output_file.write(processed_content)\n",
    "        print(f\"File processed successfully. Output written to {output_file_path}\")\n",
    "    except FileNotFoundError:\n",
    "        print(f\"Error: Input file '{input_file_path}' not found.\")\n",
    "        sys.exit(1)\n",
    "    except IOError as e:\n",
    "        print(f\"Error: {e}\")\n",
    "        sys.exit(1)\n",
    "if __name__ == \"__main__\":\n",
    "    if len(sys.argv) != 3:\n",
    "        print(\"Usage: python program.py <input_file_path> <output_file_path>\")\n",
    "        sys.exit(1)\n",
    "    input_file_path = sys.argv[1]\n",
    "    output_file_path = sys.argv[2]\n",
    "    process_text_file(input_file_path, output_file_path)\n"
   ]
  },
  {
   "cell_type": "code",
   "execution_count": null,
   "id": "2cb94423",
   "metadata": {},
   "outputs": [],
   "source": []
  }
 ],
 "metadata": {
  "kernelspec": {
   "display_name": "Python 3 (ipykernel)",
   "language": "python",
   "name": "python3"
  },
  "language_info": {
   "codemirror_mode": {
    "name": "ipython",
    "version": 3
   },
   "file_extension": ".py",
   "mimetype": "text/x-python",
   "name": "python",
   "nbconvert_exporter": "python",
   "pygments_lexer": "ipython3",
   "version": "3.11.4"
  }
 },
 "nbformat": 4,
 "nbformat_minor": 5
}
