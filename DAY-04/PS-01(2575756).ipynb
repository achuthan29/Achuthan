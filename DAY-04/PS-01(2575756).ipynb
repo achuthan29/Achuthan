{
 "cells": [
  {
   "cell_type": "markdown",
   "id": "14ffb8c7",
   "metadata": {},
   "source": [
    "# 1. Write a python program with Exception handling to input marks for five subjects Physics, Chemistry, Biology, Mathematics, and Computer. Calculate the percentage and grade according to the following:\n",
    "\n",
    "i) Percentage >90% : Grade A\n",
    "\n",
    "ii) Percentage >= 80%: Grade B\n",
    "\n",
    "iii) Percentage >= 70% : Grade C\n",
    "\n",
    "iv) Percentage >= 60% : Grade D\n",
    "\n",
    "v) Percentage >= 40%: Grade E\n",
    "\n",
    "vi) Percentage < 40% : Grade F\n"
   ]
  },
  {
   "cell_type": "code",
   "execution_count": 1,
   "id": "a87120de",
   "metadata": {},
   "outputs": [
    {
     "name": "stdout",
     "output_type": "stream",
     "text": [
      "Enter Physics marks: 95\n",
      "Enter Chemistry marks: 97\n",
      "Enter Biology marks: 98\n",
      "Enter Mathematics marks: 94\n",
      "Enter Computer marks: 96\n",
      "Percentage: 96.00%\n",
      "Grade: Grade A\n"
     ]
    }
   ],
   "source": [
    "try:\n",
    "    physics = int(input(\"Enter Physics marks: \"))\n",
    "    chemistry = int(input(\"Enter Chemistry marks: \"))\n",
    "    biology = int(input(\"Enter Biology marks: \"))\n",
    "    mathematics = int(input(\"Enter Mathematics marks: \"))\n",
    "    computer = int(input(\"Enter Computer marks: \"))\n",
    "    total_marks = physics + chemistry + biology + mathematics + computer\n",
    "    percentage = (total_marks / 500) * 100\n",
    "    if percentage > 90:\n",
    "        grade = \"Grade A\"\n",
    "    elif percentage >= 80:\n",
    "        grade = \"Grade B\"\n",
    "    elif percentage >= 70:\n",
    "        grade = \"Grade C\"\n",
    "    elif percentage >= 60:\n",
    "        grade = \"Grade D\"\n",
    "    elif percentage >= 40:\n",
    "        grade = \"Grade E\"\n",
    "    else:\n",
    "        grade = \"Grade F\"\n",
    "    print(f\"Percentage: {percentage:.2f}%\")\n",
    "    print(f\"Grade: {grade}\")\n",
    "except ValueError:\n",
    "    print(\"Invalid input. Please enter valid numerical marks.\")\n",
    "except Exception as e:\n",
    "    print(f\"An error occurred: {str(e)}\")\n"
   ]
  },
  {
   "cell_type": "code",
   "execution_count": null,
   "id": "4dd8c35a",
   "metadata": {},
   "outputs": [],
   "source": []
  }
 ],
 "metadata": {
  "kernelspec": {
   "display_name": "Python 3 (ipykernel)",
   "language": "python",
   "name": "python3"
  },
  "language_info": {
   "codemirror_mode": {
    "name": "ipython",
    "version": 3
   },
   "file_extension": ".py",
   "mimetype": "text/x-python",
   "name": "python",
   "nbconvert_exporter": "python",
   "pygments_lexer": "ipython3",
   "version": "3.11.4"
  }
 },
 "nbformat": 4,
 "nbformat_minor": 5
}
