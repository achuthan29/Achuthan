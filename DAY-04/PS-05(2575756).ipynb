{
 "cells": [
  {
   "cell_type": "markdown",
   "id": "94a6ea92",
   "metadata": {},
   "source": [
    "# 5. Write a Python program for finding the most frequent words in a text read from a file.\n",
    "\n",
    "i) Initially open the text file in read mode.\n",
    "\n",
    "ii) Make all the letters in the document into lowercase letters and split the words in each line\n",
    "\n",
    "iii) Get the words in an order\n",
    "\n",
    "iv) Sort the words for finding the most frequent words in the file.\n",
    "\n",
    "v) Print the mid free wots in the file"
   ]
  },
  {
   "cell_type": "code",
   "execution_count": 3,
   "id": "24d2d9a8",
   "metadata": {},
   "outputs": [
    {
     "name": "stdout",
     "output_type": "stream",
     "text": [
      "Most frequent words:\n",
      "the: 4\n",
      "was: 2\n",
      "in: 2\n",
      "by: 2\n",
      "python: 1\n",
      "conceived: 1\n",
      "late: 1\n",
      "1980s[43]: 1\n",
      "guido: 1\n",
      "van: 1\n",
      "\n",
      "Mid-frequency words:\n",
      "&\n",
      "informatica\n",
      "(cwi)\n",
      "netherlands\n",
      "as\n",
      "a\n",
      "successor\n",
      "to\n",
      "abc\n",
      "programming\n"
     ]
    }
   ],
   "source": [
    "with open(\"one.txt\", 'r') as file:\n",
    "    text = file.read().lower()\n",
    "words = text.split()\n",
    "word_counts = {}\n",
    "for word in words:\n",
    "    if word in word_counts:\n",
    "        word_counts[word] += 1\n",
    "    else:\n",
    "        word_counts[word] = 1\n",
    "sorted_words = sorted(word_counts.items(), key=lambda x: x[1], reverse=True)\n",
    "middle = len(sorted_words) // 2\n",
    "mid_freq_words = [word for word, count in sorted_words[middle - 5 : middle + 5]]\n",
    "print(\"Most frequent words:\")\n",
    "for word, count in sorted_words[:10]:\n",
    "    print(f\"{word}: {count}\")\n",
    "print(\"\\nMid-frequency words:\")\n",
    "for word in mid_freq_words:\n",
    "    print(word)\n"
   ]
  },
  {
   "cell_type": "code",
   "execution_count": null,
   "id": "aa7d6671",
   "metadata": {},
   "outputs": [],
   "source": []
  },
  {
   "cell_type": "code",
   "execution_count": null,
   "id": "d0524bf4",
   "metadata": {},
   "outputs": [],
   "source": []
  }
 ],
 "metadata": {
  "kernelspec": {
   "display_name": "Python 3 (ipykernel)",
   "language": "python",
   "name": "python3"
  },
  "language_info": {
   "codemirror_mode": {
    "name": "ipython",
    "version": 3
   },
   "file_extension": ".py",
   "mimetype": "text/x-python",
   "name": "python",
   "nbconvert_exporter": "python",
   "pygments_lexer": "ipython3",
   "version": "3.11.4"
  }
 },
 "nbformat": 4,
 "nbformat_minor": 5
}
