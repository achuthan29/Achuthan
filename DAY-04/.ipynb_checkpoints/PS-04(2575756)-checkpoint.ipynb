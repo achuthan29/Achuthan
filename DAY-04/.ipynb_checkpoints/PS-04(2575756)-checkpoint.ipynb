{
 "cells": [
  {
   "cell_type": "markdown",
   "id": "449504dd",
   "metadata": {},
   "source": [
    "# 4. Write a Python program to implement word count using command line arguments\n",
    "\n",
    "i) Create a text document \"apple.txt\" whch contains text for wordcount.\n",
    "\n",
    "ii) Create a wordcount program which calls the \"apple.txt\" document by opening the file.\n",
    "\n",
    "iii) If the word is present again in the \"aaple.txt\",the wordcount is incremented by 1 until all the words are counted in the document.\n",
    "\n",
    "iv) Close the file.\n",
    "\n",
    "v) Create a command.py program which imports the wordcount py program \n",
    "\n",
    "vi) Count the number of words using command line arguments.\n",
    "\n",
    "vii) Print each word and its count\n"
   ]
  },
  {
   "cell_type": "code",
   "execution_count": 13,
   "id": "1d2b247f",
   "metadata": {},
   "outputs": [],
   "source": [
    "def count_words(file_path):\n",
    "    word_count = {}\n",
    "\n",
    "    try:\n",
    "        with open(file_path, 'r') as file:\n",
    "            for line in file:\n",
    "                words = line.split()\n",
    "                for word in words:\n",
    "                    word = word.strip('.,!?()[]{}\"\\'').lower()\n",
    "                    if word:\n",
    "                        word_count[word] = word_count.get(word, 0) + 1\n",
    "\n",
    "    except FileNotFoundError:\n",
    "        print(f\"File not found: {file_path}\")\n",
    "    except Exception as e:\n",
    "        print(f\"An error occurred: {e}\")\n",
    "\n",
    "    return word_count\n",
    "\n",
    "if __name__ == \"_main_\":\n",
    "    file_path = \"apple.txt\"\n",
    "    word_count_result = count_words(file_path)\n",
    "    print(word_count_result)\n"
   ]
  },
  {
   "cell_type": "code",
   "execution_count": 15,
   "id": "4238f742",
   "metadata": {},
   "outputs": [],
   "source": [
    "import sys\n",
    "from wordcount import count_words\n",
    "\n",
    "if __name__ == \"_main_\":\n",
    "    if len(sys.argv) != 2:\n",
    "        print(\"Usage: python command.py <file_path>\")\n",
    "    else:\n",
    "        file_path = sys.argv[1]\n",
    "        word_count_result = count_words(file_path)\n",
    "\n",
    "        for word, count in word_count_result.items():\n",
    "            print(f\"{word}: {count}\")"
   ]
  },
  {
   "cell_type": "code",
   "execution_count": null,
   "id": "de92bbe6",
   "metadata": {},
   "outputs": [],
   "source": []
  }
 ],
 "metadata": {
  "kernelspec": {
   "display_name": "Python 3 (ipykernel)",
   "language": "python",
   "name": "python3"
  },
  "language_info": {
   "codemirror_mode": {
    "name": "ipython",
    "version": 3
   },
   "file_extension": ".py",
   "mimetype": "text/x-python",
   "name": "python",
   "nbconvert_exporter": "python",
   "pygments_lexer": "ipython3",
   "version": "3.11.4"
  }
 },
 "nbformat": 4,
 "nbformat_minor": 5
}
